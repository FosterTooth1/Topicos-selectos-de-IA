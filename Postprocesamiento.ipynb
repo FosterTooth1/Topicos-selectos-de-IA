{
 "cells": [
  {
   "cell_type": "code",
   "execution_count": 1,
   "id": "3f195e79",
   "metadata": {},
   "outputs": [],
   "source": [
    "import pandas as pd\n",
    "import numpy as np"
   ]
  },
  {
   "cell_type": "markdown",
   "id": "80999ff7",
   "metadata": {},
   "source": [
    "Visualizar Csv"
   ]
  },
  {
   "cell_type": "code",
   "execution_count": 2,
   "id": "56a5d34e",
   "metadata": {},
   "outputs": [],
   "source": [
    "df= pd.read_csv('Lugares_Turisticos.csv', sep=',')"
   ]
  },
  {
   "cell_type": "markdown",
   "id": "cc797973",
   "metadata": {},
   "source": [
    "Imprimir las primeras 5 filas para observar el formato del CSV"
   ]
  },
  {
   "cell_type": "code",
   "execution_count": 3,
   "id": "bf12a8ee",
   "metadata": {},
   "outputs": [
    {
     "name": "stdout",
     "output_type": "stream",
     "text": [
      "   id                                             nombre  municipio_id  \\\n",
      "0   1  Biblioteca del Centro de Maestros de Chiautla ...            28   \n",
      "1   2                          Biblioteca Cristina Payán            33   \n",
      "2   3  Biblioteca del Centro de Enseñanza, Inv. y Ext...            45   \n",
      "3   4                     Biblioteca campus Lomas Verdes            57   \n",
      "4   5  Biblioteca de la Escuela Superior de Ingenierí...            57   \n",
      "\n",
      "      nombre_municipio  longitud   latitud        tipo  \n",
      "0             Chiautla -98.88279  19.54944  Biblioteca  \n",
      "1  Ecatepec de Morelos -99.03569  19.60030  Biblioteca  \n",
      "2            Jilotepec -99.51040  19.95739  Biblioteca  \n",
      "3  Naucalpan de Juárez -99.26304  19.50710  Biblioteca  \n",
      "4  Naucalpan de Juárez -99.22955  19.43019  Biblioteca  \n"
     ]
    }
   ],
   "source": [
    "print(df.head())"
   ]
  },
  {
   "cell_type": "markdown",
   "id": "aa1f60df",
   "metadata": {},
   "source": [
    "Imprimir las columnas del dataframe con su respectivo tipo de dato"
   ]
  },
  {
   "cell_type": "code",
   "execution_count": 4,
   "id": "929f5b08",
   "metadata": {},
   "outputs": [
    {
     "name": "stdout",
     "output_type": "stream",
     "text": [
      "<class 'pandas.core.frame.DataFrame'>\n",
      "RangeIndex: 430 entries, 0 to 429\n",
      "Data columns (total 7 columns):\n",
      " #   Column            Non-Null Count  Dtype  \n",
      "---  ------            --------------  -----  \n",
      " 0   id                430 non-null    int64  \n",
      " 1   nombre            430 non-null    object \n",
      " 2   municipio_id      430 non-null    int64  \n",
      " 3   nombre_municipio  430 non-null    object \n",
      " 4   longitud          430 non-null    float64\n",
      " 5   latitud           430 non-null    float64\n",
      " 6   tipo              430 non-null    object \n",
      "dtypes: float64(2), int64(2), object(3)\n",
      "memory usage: 23.6+ KB\n",
      "None\n"
     ]
    }
   ],
   "source": [
    "print(df.info())"
   ]
  },
  {
   "cell_type": "markdown",
   "id": "f30e1af7",
   "metadata": {},
   "source": [
    "Imprimir los valores unicos de cada columna"
   ]
  },
  {
   "cell_type": "code",
   "execution_count": 5,
   "id": "0831e782",
   "metadata": {},
   "outputs": [
    {
     "name": "stdout",
     "output_type": "stream",
     "text": [
      "Valores únicos por columna:\n",
      "id                  430\n",
      "nombre              422\n",
      "municipio_id        114\n",
      "nombre_municipio    114\n",
      "longitud            359\n",
      "latitud             358\n",
      "tipo                 11\n",
      "dtype: int64\n"
     ]
    }
   ],
   "source": [
    "print(\"Valores únicos por columna:\")\n",
    "print(df.nunique())"
   ]
  },
  {
   "cell_type": "markdown",
   "id": "2f9fc277",
   "metadata": {},
   "source": [
    "Valores unicos de la columna \"nombre_municipio\""
   ]
  },
  {
   "cell_type": "code",
   "execution_count": 6,
   "id": "19d83c34",
   "metadata": {},
   "outputs": [
    {
     "name": "stdout",
     "output_type": "stream",
     "text": [
      "Valores únicos en la columna 'nombre_municipio':\n",
      "['Acambay de Ruíz Castañeda', 'Acolman', 'Aculco', 'Almoloya de Alquisiras', 'Almoloya del Río', 'Amanalco', 'Amatepec', 'Amecameca', 'Apaxco', 'Atenco', 'Atizapán', 'Atizapán de Zaragoza', 'Atlacomulco', 'Atlautla', 'Axapusco', 'Ayapango', 'Calimaya', 'Capulhuac', 'Chalco', 'Chapultepec', 'Chiautla', 'Chicoloapan', 'Chiconcuac', 'Chimalhuacán', 'Coacalco de Berriozábal', 'Coatepec Harinas', 'Cocotitlán', 'Coyotepec', 'Cuautitlán', 'Cuautitlán Izcalli', 'Donato Guerra', 'Ecatepec de Morelos', 'Ecatzingo', 'El Oro', 'Huehuetoca', 'Hueypoxtla', 'Huixquilucan', 'Isidro Fabela', 'Ixtapaluca', 'Ixtlahuaca', 'Jaltenco', 'Jilotepec', 'Jiquipilco', 'Jocotitlán', 'Juchitepec', 'La Paz', 'Lerma', 'Malinalco', 'Melchor Ocampo', 'Metepec', 'Mexicaltzingo', 'Morelos', 'Naucalpan de Juárez', 'Nextlalpan', 'Nezahualcóyotl', 'Nicolás Romero', 'Nopaltepec', 'Ocoyoacac', 'Ocuilan', 'Otumba', 'Otzoloapan', 'Otzolotepec', 'Ozumba', 'Papalotla', 'Polotitlán', 'Rayón', 'San Antonio la Isla', 'San Felipe del Progreso', 'San Martín de las Pirámides', 'San Mateo Atenco', 'San Simón de Guerrero', 'Santo Tomás', 'Soyaniquilpan de Juárez', 'Sultepec', 'Tecámac', 'Tejupilco', 'Temamatla', 'Temascalapa', 'Temascalcingo', 'Temoaya', 'Tenancingo', 'Tenango del Aire', 'Tenango del Valle', 'Teoloyucan', 'Teotihuacán', 'Tepetlaoxtoc', 'Tepetlixpa', 'Tepotzotlán', 'Tequixquiac', 'Texcalyacac', 'Texcoco', 'Tezoyuca', 'Tianguistenco', 'Timilpan', 'Tlalmanalco', 'Tlalnepantla de Baz', 'Toluca', 'Tonanitla', 'Tonatico', 'Total de la entidad México', 'Tultepec', 'Tultitlán', 'Valle de Bravo', 'Valle de Chalco Solidaridad', 'Villa Guerrero', 'Villa Victoria', 'Villa de Allende', 'Villa del Carbón', 'Xalatlaco', 'Xonacatlán', 'Zacazonapan', 'Zacualpan', 'Zinacantepec', 'Zumpango']\n"
     ]
    }
   ],
   "source": [
    "# Valores unicos en la columna \"nombre_municipio\" ordenados alfabéticamente\n",
    "print(\"Valores únicos en la columna 'nombre_municipio':\")\n",
    "print(sorted(df['nombre_municipio'].unique()))"
   ]
  },
  {
   "cell_type": "markdown",
   "id": "6b0dcba1",
   "metadata": {},
   "source": [
    "Valores Unicos de la columna \"tipo\""
   ]
  },
  {
   "cell_type": "code",
   "execution_count": 7,
   "id": "e691c63b",
   "metadata": {},
   "outputs": [
    {
     "name": "stdout",
     "output_type": "stream",
     "text": [
      "Valores únicos en la columna 'tipo':\n",
      "['Biblioteca' 'Casa de artesania' 'Catedral' 'Centro cultural' 'Fonoteca'\n",
      " 'Fototeca' 'Galeria' 'Museo' 'Patrimonio de la Humanidad' 'Teatro'\n",
      " 'Zona Arqueologica']\n"
     ]
    }
   ],
   "source": [
    "# Valores unicos en la columna \"tipo\"\n",
    "print(\"Valores únicos en la columna 'tipo':\")\n",
    "print(df['tipo'].unique())"
   ]
  },
  {
   "cell_type": "markdown",
   "id": "fb1753cd",
   "metadata": {},
   "source": [
    "Agregar Columnas de Horarios de cierre, apertura, dias habiles y tiempo de estancia promedio"
   ]
  },
  {
   "cell_type": "code",
   "execution_count": 8,
   "id": "3a196463",
   "metadata": {},
   "outputs": [],
   "source": [
    "mapping = {\n",
    "        'Biblioteca': {\n",
    "            'Hora_Apertura': 9.0,\n",
    "            'Hora_Cierre': 18.0,\n",
    "            'dias_abierto': ['Lunes','Martes','Miercoles','Jueves','Viernes','Sabado'],\n",
    "            'Tiempo_Prom_Estancia': 1.5\n",
    "        },\n",
    "        'Casa de artesania': {\n",
    "            'Hora_Apertura': 10.0,\n",
    "            'Hora_Cierre': 20.0,\n",
    "            'dias_abierto': ['Martes','Miercoles','Jueves','Viernes','Sabado','Domingo'],\n",
    "            'Tiempo_Prom_Estancia': 1.0\n",
    "        },\n",
    "        'Catedral': {\n",
    "            'Hora_Apertura': 8.0,\n",
    "            'Hora_Cierre': 20.0,\n",
    "            'dias_abierto': ['Lunes','Martes','Miercoles','Jueves','Viernes','Sabado','Domingo'],\n",
    "            'Tiempo_Prom_Estancia': 1.0\n",
    "        },\n",
    "        'Centro cultural': {\n",
    "            'Hora_Apertura': 10.0,\n",
    "            'Hora_Cierre': 22.0,\n",
    "            'dias_abierto': ['Martes','Miercoles','Jueves','Viernes','Sabado','Domingo'],\n",
    "            'Tiempo_Prom_Estancia': 2.0\n",
    "        },\n",
    "        'Fonoteca': {\n",
    "            'Hora_Apertura': 10.0,\n",
    "            'Hora_Cierre': 18.0,\n",
    "            'dias_abierto': ['Martes','Miercoles','Jueves','Viernes','Sabado'],\n",
    "            'Tiempo_Prom_Estancia': 1.5\n",
    "        },\n",
    "        'Fototeca': {\n",
    "            'Hora_Apertura': 10.0,\n",
    "            'Hora_Cierre': 18.0,\n",
    "            'dias_abierto': ['Martes','Miercoles','Jueves','Viernes','Sabado'],\n",
    "            'Tiempo_Prom_Estancia': 1.5\n",
    "        },\n",
    "        'Galeria': {\n",
    "            'Hora_Apertura': 11.0,\n",
    "            'Hora_Cierre': 19.0,\n",
    "            'dias_abierto': ['Miercoles','Jueves','Viernes','Sabado','Domingo'],\n",
    "            'Tiempo_Prom_Estancia': 1.0\n",
    "        },\n",
    "        'Museo': {\n",
    "            'Hora_Apertura': 9.0,\n",
    "            'Hora_Cierre': 17.0,\n",
    "            'dias_abierto': ['Martes','Miercoles','Jueves','Viernes','Sabado','Domingo'],\n",
    "            'Tiempo_Prom_Estancia': 2.0\n",
    "        },\n",
    "        'Patrimonio de la Humanidad': {\n",
    "            'Hora_Apertura': 8.0,\n",
    "            'Hora_Cierre': 18.0,\n",
    "            'dias_abierto': ['Lunes','Martes','Miercoles','Jueves','Viernes','Sabado','Domingo'],\n",
    "            'Tiempo_Prom_Estancia': 2.5\n",
    "        },\n",
    "        'Teatro': {\n",
    "            'Hora_Apertura': 16.0,\n",
    "            'Hora_Cierre': 23.0,\n",
    "            'dias_abierto': ['Jueves','Viernes','Sabado','Domingo'],\n",
    "            'Tiempo_Prom_Estancia': 2.5\n",
    "        },\n",
    "        'Zona Arqueologica': {\n",
    "            'Hora_Apertura': 7.0,\n",
    "            'Hora_Cierre': 17.0,\n",
    "            'dias_abierto': ['Lunes','Martes','Miercoles','Jueves','Viernes','Sabado','Domingo'],\n",
    "            'Tiempo_Prom_Estancia': 3.0\n",
    "        }\n",
    "    }\n",
    "    \n",
    "# Lista de columnas de días\n",
    "dias = ['Lunes','Martes','Miercoles','Jueves','Viernes','Sabado','Domingo']\n",
    "    \n",
    "# Creamos las columnas nuevas\n",
    "# Hora_Apertura\n",
    "df['Hora_Apertura'] = df['tipo'].map(lambda t: mapping.get(t, {}).get('Hora_Apertura', np.nan)).astype(float)\n",
    "# Hora_Cierre\n",
    "df['Hora_Cierre'] = df['tipo'].map(lambda t: mapping.get(t, {}).get('Hora_Cierre', np.nan)).astype(float)\n",
    "# Tiempo_Prom_Estancia\n",
    "df['Tiempo_Prom_Estancia'] = df['tipo'].map(lambda t: mapping.get(t, {}).get('Tiempo_Prom_Estancia', np.nan)).astype(float)\n",
    "# Columnas de días: 1 o 0\n",
    "for dia in dias:\n",
    "    df[dia] = df['tipo'].map(lambda t: 1 if dia in mapping.get(t, {}).get('dias_abierto', []) else 0).astype(int)"
   ]
  },
  {
   "cell_type": "markdown",
   "id": "db7c749a",
   "metadata": {},
   "source": [
    "Mostrar nuevo dataset"
   ]
  },
  {
   "cell_type": "code",
   "execution_count": 9,
   "id": "2b3e1f08",
   "metadata": {},
   "outputs": [
    {
     "name": "stdout",
     "output_type": "stream",
     "text": [
      "   id                                             nombre  municipio_id  \\\n",
      "0   1  Biblioteca del Centro de Maestros de Chiautla ...            28   \n",
      "1   2                          Biblioteca Cristina Payán            33   \n",
      "2   3  Biblioteca del Centro de Enseñanza, Inv. y Ext...            45   \n",
      "3   4                     Biblioteca campus Lomas Verdes            57   \n",
      "4   5  Biblioteca de la Escuela Superior de Ingenierí...            57   \n",
      "\n",
      "      nombre_municipio  longitud   latitud        tipo  Hora_Apertura  \\\n",
      "0             Chiautla -98.88279  19.54944  Biblioteca            9.0   \n",
      "1  Ecatepec de Morelos -99.03569  19.60030  Biblioteca            9.0   \n",
      "2            Jilotepec -99.51040  19.95739  Biblioteca            9.0   \n",
      "3  Naucalpan de Juárez -99.26304  19.50710  Biblioteca            9.0   \n",
      "4  Naucalpan de Juárez -99.22955  19.43019  Biblioteca            9.0   \n",
      "\n",
      "   Hora_Cierre  Tiempo_Prom_Estancia  Lunes  Martes  Miercoles  Jueves  \\\n",
      "0         18.0                   1.5      1       1          1       1   \n",
      "1         18.0                   1.5      1       1          1       1   \n",
      "2         18.0                   1.5      1       1          1       1   \n",
      "3         18.0                   1.5      1       1          1       1   \n",
      "4         18.0                   1.5      1       1          1       1   \n",
      "\n",
      "   Viernes  Sabado  Domingo  \n",
      "0        1       1        0  \n",
      "1        1       1        0  \n",
      "2        1       1        0  \n",
      "3        1       1        0  \n",
      "4        1       1        0  \n"
     ]
    }
   ],
   "source": [
    "print(df.head())"
   ]
  },
  {
   "cell_type": "markdown",
   "id": "3a3b0407",
   "metadata": {},
   "source": [
    "Eliminar los valores no nulos de longitud y latitud"
   ]
  },
  {
   "cell_type": "code",
   "execution_count": 10,
   "id": "9c7e25f2",
   "metadata": {},
   "outputs": [],
   "source": [
    "#Eliminar las filas que tienen valore de longitud y latitud de 0.0\n",
    "df = df.dropna(subset=['latitud', 'longitud'])\n",
    "df = df[(df['latitud'] != 0.0) & (df['longitud'] != 0.0)].copy()"
   ]
  },
  {
   "cell_type": "markdown",
   "id": "dff7d70e",
   "metadata": {},
   "source": [
    "Guardar el nuevo CSV"
   ]
  },
  {
   "cell_type": "code",
   "execution_count": 11,
   "id": "33d6065d",
   "metadata": {},
   "outputs": [
    {
     "name": "stdout",
     "output_type": "stream",
     "text": [
      "\n",
      "Archivo 'Lugares_Turisticos_Def.csv' guardado exitosamente en el directorio actual!\n"
     ]
    }
   ],
   "source": [
    "nombre_archivo = 'Lugares_Turisticos_Def.csv'\n",
    "df.to_csv(nombre_archivo, index=False, encoding='utf-8')\n",
    "\n",
    "print(f\"\\nArchivo '{nombre_archivo}' guardado exitosamente en el directorio actual!\")"
   ]
  },
  {
   "cell_type": "markdown",
   "id": "dfc5ec83",
   "metadata": {},
   "source": [
    "Crear matriz de distancias"
   ]
  },
  {
   "cell_type": "code",
   "execution_count": 12,
   "id": "d8165804",
   "metadata": {},
   "outputs": [
    {
     "name": "stdout",
     "output_type": "stream",
     "text": [
      "Matriz de distancias (primeras filas):\n",
      "           1          2          3          4          5\n",
      "1   0.000000  16.988061  79.822333  40.126814  38.691705\n",
      "2  16.988061   0.000000  63.591198  25.978780  27.759822\n",
      "3  79.822333  63.591198   0.000000  56.367484  65.582224\n",
      "4  40.126814  25.978780  56.367484   0.000000   9.244666\n",
      "5  38.691705  27.759822  65.582224   9.244666   0.000000\n",
      "Tamaño de la matriz: (363, 363). Archivo guardado en 'matriz_distancias.csv'.\n"
     ]
    }
   ],
   "source": [
    "# Extraemos arrays de IDs, latitudes y longitudes\n",
    "ids = df['id'].values  # convertimos a str para etiquetas; si prefieres mantener int, quita .astype(str)\n",
    "lats = df['latitud'].astype(float).values\n",
    "lons = df['longitud'].astype(float).values\n",
    "\n",
    "# Convertir grados a radianes\n",
    "lat_rad = np.radians(lats)\n",
    "lon_rad = np.radians(lons)\n",
    "\n",
    "# Preparar matrices mediante broadcasting\n",
    "# lat1 tendrá forma (N,1), lat2 (1,N), similar para lon\n",
    "lat1 = lat_rad[:, np.newaxis]\n",
    "lat2 = lat_rad[np.newaxis, :]\n",
    "lon1 = lon_rad[:, np.newaxis]\n",
    "lon2 = lon_rad[np.newaxis, :]\n",
    "\n",
    "# Diferencias\n",
    "dlat = lat2 - lat1\n",
    "dlon = lon2 - lon1\n",
    "\n",
    "# Fórmula de Haversine\n",
    "# a = sin^2(dlat/2) + cos(lat1)*cos(lat2)*sin^2(dlon/2)\n",
    "a = np.sin(dlat/2.0)**2 + np.cos(lat1) * np.cos(lat2) * np.sin(dlon/2.0)**2\n",
    "# c = 2 * arcsin(min(1, sqrt(a)))  — usamos arctan2 para estabilidad\n",
    "c = 2 * np.arctan2(np.sqrt(a), np.sqrt(np.maximum(0.0, 1.0 - a)))\n",
    "\n",
    "# Radio de la Tierra en km (aprox.)\n",
    "R = 6371.0\n",
    "dist_matrix = R * c  # forma (N, N)\n",
    "\n",
    "# Construir DataFrame con índices y columnas = IDs\n",
    "df_dist = pd.DataFrame(dist_matrix, index=ids, columns=ids)\n",
    "\n",
    "# Opcional: si quieres guardar a CSV\n",
    "df_dist.to_csv('matriz_distancias.csv')\n",
    "\n",
    "# Mostrar las primeras filas para inspección\n",
    "print(\"Matriz de distancias (primeras filas):\")\n",
    "print(df_dist.iloc[:5, :5])\n",
    "print(f\"Tamaño de la matriz: {df_dist.shape}. Archivo guardado en 'matriz_distancias.csv'.\")\n"
   ]
  }
 ],
 "metadata": {
  "kernelspec": {
   "display_name": "Python 3",
   "language": "python",
   "name": "python3"
  },
  "language_info": {
   "codemirror_mode": {
    "name": "ipython",
    "version": 3
   },
   "file_extension": ".py",
   "mimetype": "text/x-python",
   "name": "python",
   "nbconvert_exporter": "python",
   "pygments_lexer": "ipython3",
   "version": "3.12.0"
  }
 },
 "nbformat": 4,
 "nbformat_minor": 5
}
