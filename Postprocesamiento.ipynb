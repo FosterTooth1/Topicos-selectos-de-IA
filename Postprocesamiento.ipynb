{
 "cells": [
  {
   "cell_type": "code",
   "execution_count": 53,
   "id": "3f195e79",
   "metadata": {},
   "outputs": [],
   "source": [
    "import pandas as pd\n",
    "import numpy as np"
   ]
  },
  {
   "cell_type": "markdown",
   "id": "80999ff7",
   "metadata": {},
   "source": [
    "Visualizar Csv"
   ]
  },
  {
   "cell_type": "code",
   "execution_count": 54,
   "id": "56a5d34e",
   "metadata": {},
   "outputs": [],
   "source": [
    "df= pd.read_csv('Lugares_Turisticos.csv', sep=',')"
   ]
  },
  {
   "cell_type": "markdown",
   "id": "cc797973",
   "metadata": {},
   "source": [
    "Imprimir las primeras 5 filas para observar el formato del CSV"
   ]
  },
  {
   "cell_type": "code",
   "execution_count": 55,
   "id": "bf12a8ee",
   "metadata": {},
   "outputs": [
    {
     "name": "stdout",
     "output_type": "stream",
     "text": [
      "   id                                             nombre  municipio_id  \\\n",
      "0   1  Biblioteca del Centro de Maestros de Chiautla ...            28   \n",
      "1   2                          Biblioteca Cristina Payán            33   \n",
      "2   3  Biblioteca del Centro de Enseñanza, Inv. y Ext...            45   \n",
      "3   4                     Biblioteca campus Lomas Verdes            57   \n",
      "4   5  Biblioteca de la Escuela Superior de Ingenierí...            57   \n",
      "\n",
      "      nombre_municipio  longitud   latitud        tipo  \n",
      "0             Chiautla -98.88279  19.54944  Biblioteca  \n",
      "1  Ecatepec de Morelos -99.03569  19.60030  Biblioteca  \n",
      "2            Jilotepec -99.51040  19.95739  Biblioteca  \n",
      "3  Naucalpan de Juárez -99.26304  19.50710  Biblioteca  \n",
      "4  Naucalpan de Juárez -99.22955  19.43019  Biblioteca  \n"
     ]
    }
   ],
   "source": [
    "print(df.head())"
   ]
  },
  {
   "cell_type": "markdown",
   "id": "aa1f60df",
   "metadata": {},
   "source": [
    "Imprimir las columnas del dataframe con su respectivo tipo de dato"
   ]
  },
  {
   "cell_type": "code",
   "execution_count": 56,
   "id": "929f5b08",
   "metadata": {},
   "outputs": [
    {
     "name": "stdout",
     "output_type": "stream",
     "text": [
      "<class 'pandas.core.frame.DataFrame'>\n",
      "RangeIndex: 430 entries, 0 to 429\n",
      "Data columns (total 7 columns):\n",
      " #   Column            Non-Null Count  Dtype  \n",
      "---  ------            --------------  -----  \n",
      " 0   id                430 non-null    int64  \n",
      " 1   nombre            430 non-null    object \n",
      " 2   municipio_id      430 non-null    int64  \n",
      " 3   nombre_municipio  430 non-null    object \n",
      " 4   longitud          430 non-null    float64\n",
      " 5   latitud           430 non-null    float64\n",
      " 6   tipo              430 non-null    object \n",
      "dtypes: float64(2), int64(2), object(3)\n",
      "memory usage: 23.6+ KB\n",
      "None\n"
     ]
    }
   ],
   "source": [
    "print(df.info())"
   ]
  },
  {
   "cell_type": "markdown",
   "id": "f30e1af7",
   "metadata": {},
   "source": [
    "Imprimir los valores unicos de cada columna"
   ]
  },
  {
   "cell_type": "code",
   "execution_count": 57,
   "id": "0831e782",
   "metadata": {},
   "outputs": [
    {
     "name": "stdout",
     "output_type": "stream",
     "text": [
      "Valores únicos por columna:\n",
      "id                  430\n",
      "nombre              422\n",
      "municipio_id        114\n",
      "nombre_municipio    114\n",
      "longitud            359\n",
      "latitud             358\n",
      "tipo                 11\n",
      "dtype: int64\n"
     ]
    }
   ],
   "source": [
    "print(\"Valores únicos por columna:\")\n",
    "print(df.nunique())"
   ]
  },
  {
   "cell_type": "markdown",
   "id": "2f9fc277",
   "metadata": {},
   "source": [
    "Valores unicos de la columna \"nombre_municipio\""
   ]
  },
  {
   "cell_type": "code",
   "execution_count": 58,
   "id": "19d83c34",
   "metadata": {},
   "outputs": [
    {
     "name": "stdout",
     "output_type": "stream",
     "text": [
      "Valores únicos en la columna 'nombre_municipio':\n",
      "['Acambay de Ruíz Castañeda', 'Acolman', 'Aculco', 'Almoloya de Alquisiras', 'Almoloya del Río', 'Amanalco', 'Amatepec', 'Amecameca', 'Apaxco', 'Atenco', 'Atizapán', 'Atizapán de Zaragoza', 'Atlacomulco', 'Atlautla', 'Axapusco', 'Ayapango', 'Calimaya', 'Capulhuac', 'Chalco', 'Chapultepec', 'Chiautla', 'Chicoloapan', 'Chiconcuac', 'Chimalhuacán', 'Coacalco de Berriozábal', 'Coatepec Harinas', 'Cocotitlán', 'Coyotepec', 'Cuautitlán', 'Cuautitlán Izcalli', 'Donato Guerra', 'Ecatepec de Morelos', 'Ecatzingo', 'El Oro', 'Huehuetoca', 'Hueypoxtla', 'Huixquilucan', 'Isidro Fabela', 'Ixtapaluca', 'Ixtlahuaca', 'Jaltenco', 'Jilotepec', 'Jiquipilco', 'Jocotitlán', 'Juchitepec', 'La Paz', 'Lerma', 'Malinalco', 'Melchor Ocampo', 'Metepec', 'Mexicaltzingo', 'Morelos', 'Naucalpan de Juárez', 'Nextlalpan', 'Nezahualcóyotl', 'Nicolás Romero', 'Nopaltepec', 'Ocoyoacac', 'Ocuilan', 'Otumba', 'Otzoloapan', 'Otzolotepec', 'Ozumba', 'Papalotla', 'Polotitlán', 'Rayón', 'San Antonio la Isla', 'San Felipe del Progreso', 'San Martín de las Pirámides', 'San Mateo Atenco', 'San Simón de Guerrero', 'Santo Tomás', 'Soyaniquilpan de Juárez', 'Sultepec', 'Tecámac', 'Tejupilco', 'Temamatla', 'Temascalapa', 'Temascalcingo', 'Temoaya', 'Tenancingo', 'Tenango del Aire', 'Tenango del Valle', 'Teoloyucan', 'Teotihuacán', 'Tepetlaoxtoc', 'Tepetlixpa', 'Tepotzotlán', 'Tequixquiac', 'Texcalyacac', 'Texcoco', 'Tezoyuca', 'Tianguistenco', 'Timilpan', 'Tlalmanalco', 'Tlalnepantla de Baz', 'Toluca', 'Tonanitla', 'Tonatico', 'Total de la entidad México', 'Tultepec', 'Tultitlán', 'Valle de Bravo', 'Valle de Chalco Solidaridad', 'Villa Guerrero', 'Villa Victoria', 'Villa de Allende', 'Villa del Carbón', 'Xalatlaco', 'Xonacatlán', 'Zacazonapan', 'Zacualpan', 'Zinacantepec', 'Zumpango']\n"
     ]
    }
   ],
   "source": [
    "# Valores unicos en la columna \"nombre_municipio\" ordenados alfabéticamente\n",
    "print(\"Valores únicos en la columna 'nombre_municipio':\")\n",
    "print(sorted(df['nombre_municipio'].unique()))"
   ]
  },
  {
   "cell_type": "code",
   "execution_count": 59,
   "id": "440d14bf",
   "metadata": {},
   "outputs": [
    {
     "name": "stdout",
     "output_type": "stream",
     "text": [
      "Valores únicos por columna:\n",
      "id                  430\n",
      "nombre              422\n",
      "municipio_id        114\n",
      "nombre_municipio    114\n",
      "longitud            359\n",
      "latitud             358\n",
      "tipo                 11\n",
      "dtype: int64\n"
     ]
    }
   ],
   "source": [
    "print(\"Valores únicos por columna:\")\n",
    "print(df.nunique())"
   ]
  },
  {
   "cell_type": "markdown",
   "id": "cd39bd0b",
   "metadata": {},
   "source": [
    "Eliminar la fila “Total de la entidad México”"
   ]
  },
  {
   "cell_type": "code",
   "execution_count": 60,
   "id": "314c890f",
   "metadata": {},
   "outputs": [],
   "source": [
    "df = df[df['nombre_municipio'] != 'Total de la entidad México']"
   ]
  },
  {
   "cell_type": "code",
   "execution_count": 61,
   "id": "b2fcfc27",
   "metadata": {},
   "outputs": [
    {
     "name": "stdout",
     "output_type": "stream",
     "text": [
      "Valores únicos por columna:\n",
      "id                  429\n",
      "nombre              421\n",
      "municipio_id        113\n",
      "nombre_municipio    113\n",
      "longitud            358\n",
      "latitud             357\n",
      "tipo                 11\n",
      "dtype: int64\n"
     ]
    }
   ],
   "source": [
    "print(\"Valores únicos por columna:\")\n",
    "print(df.nunique())"
   ]
  },
  {
   "cell_type": "markdown",
   "id": "fb337a8e",
   "metadata": {},
   "source": [
    "Corregir ortografía de “Acambay de Ruíz Castañeda”"
   ]
  },
  {
   "cell_type": "code",
   "execution_count": 62,
   "id": "3b40f2f2",
   "metadata": {},
   "outputs": [],
   "source": [
    "df.loc[\n",
    "    df['nombre_municipio'] == 'Acambay de Ruíz Castañeda',\n",
    "    'nombre_municipio'\n",
    "] = 'Acambay de Ruiz Castañeda'"
   ]
  },
  {
   "cell_type": "markdown",
   "id": "6b0dcba1",
   "metadata": {},
   "source": [
    "Valores Unicos de la columna \"tipo\""
   ]
  },
  {
   "cell_type": "code",
   "execution_count": 63,
   "id": "e691c63b",
   "metadata": {},
   "outputs": [
    {
     "name": "stdout",
     "output_type": "stream",
     "text": [
      "Valores únicos en la columna 'tipo':\n",
      "['Biblioteca' 'Casa de artesania' 'Catedral' 'Centro cultural' 'Fonoteca'\n",
      " 'Fototeca' 'Galeria' 'Museo' 'Patrimonio de la Humanidad' 'Teatro'\n",
      " 'Zona Arqueologica']\n"
     ]
    }
   ],
   "source": [
    "# Valores unicos en la columna \"tipo\"\n",
    "print(\"Valores únicos en la columna 'tipo':\")\n",
    "print(df['tipo'].unique())"
   ]
  },
  {
   "cell_type": "markdown",
   "id": "fb1753cd",
   "metadata": {},
   "source": [
    "Agregar Columnas de Horarios de cierre, apertura, dias habiles y tiempo de estancia promedio"
   ]
  },
  {
   "cell_type": "code",
   "execution_count": 64,
   "id": "3a196463",
   "metadata": {},
   "outputs": [],
   "source": [
    "mapping = {\n",
    "        'Biblioteca': {\n",
    "            'Hora_Apertura': 9.0,\n",
    "            'Hora_Cierre': 18.0,\n",
    "            'dias_abierto': ['Lunes','Martes','Miercoles','Jueves','Viernes','Sabado'],\n",
    "            'Tiempo_Prom_Estancia': 1.5\n",
    "        },\n",
    "        'Casa de artesania': {\n",
    "            'Hora_Apertura': 10.0,\n",
    "            'Hora_Cierre': 20.0,\n",
    "            'dias_abierto': ['Martes','Miercoles','Jueves','Viernes','Sabado','Domingo'],\n",
    "            'Tiempo_Prom_Estancia': 1.0\n",
    "        },\n",
    "        'Catedral': {\n",
    "            'Hora_Apertura': 8.0,\n",
    "            'Hora_Cierre': 20.0,\n",
    "            'dias_abierto': ['Lunes','Martes','Miercoles','Jueves','Viernes','Sabado','Domingo'],\n",
    "            'Tiempo_Prom_Estancia': 1.0\n",
    "        },\n",
    "        'Centro cultural': {\n",
    "            'Hora_Apertura': 10.0,\n",
    "            'Hora_Cierre': 22.0,\n",
    "            'dias_abierto': ['Martes','Miercoles','Jueves','Viernes','Sabado','Domingo'],\n",
    "            'Tiempo_Prom_Estancia': 2.0\n",
    "        },\n",
    "        'Fonoteca': {\n",
    "            'Hora_Apertura': 10.0,\n",
    "            'Hora_Cierre': 18.0,\n",
    "            'dias_abierto': ['Martes','Miercoles','Jueves','Viernes','Sabado'],\n",
    "            'Tiempo_Prom_Estancia': 1.5\n",
    "        },\n",
    "        'Fototeca': {\n",
    "            'Hora_Apertura': 10.0,\n",
    "            'Hora_Cierre': 18.0,\n",
    "            'dias_abierto': ['Martes','Miercoles','Jueves','Viernes','Sabado'],\n",
    "            'Tiempo_Prom_Estancia': 1.5\n",
    "        },\n",
    "        'Galeria': {\n",
    "            'Hora_Apertura': 11.0,\n",
    "            'Hora_Cierre': 19.0,\n",
    "            'dias_abierto': ['Miercoles','Jueves','Viernes','Sabado','Domingo'],\n",
    "            'Tiempo_Prom_Estancia': 1.0\n",
    "        },\n",
    "        'Museo': {\n",
    "            'Hora_Apertura': 9.0,\n",
    "            'Hora_Cierre': 17.0,\n",
    "            'dias_abierto': ['Martes','Miercoles','Jueves','Viernes','Sabado','Domingo'],\n",
    "            'Tiempo_Prom_Estancia': 2.0\n",
    "        },\n",
    "        'Patrimonio de la Humanidad': {\n",
    "            'Hora_Apertura': 8.0,\n",
    "            'Hora_Cierre': 18.0,\n",
    "            'dias_abierto': ['Lunes','Martes','Miercoles','Jueves','Viernes','Sabado','Domingo'],\n",
    "            'Tiempo_Prom_Estancia': 2.5\n",
    "        },\n",
    "        'Teatro': {\n",
    "            'Hora_Apertura': 16.0,\n",
    "            'Hora_Cierre': 23.0,\n",
    "            'dias_abierto': ['Jueves','Viernes','Sabado','Domingo'],\n",
    "            'Tiempo_Prom_Estancia': 2.5\n",
    "        },\n",
    "        'Zona Arqueologica': {\n",
    "            'Hora_Apertura': 7.0,\n",
    "            'Hora_Cierre': 17.0,\n",
    "            'dias_abierto': ['Lunes','Martes','Miercoles','Jueves','Viernes','Sabado','Domingo'],\n",
    "            'Tiempo_Prom_Estancia': 3.0\n",
    "        }\n",
    "    }\n",
    "    \n",
    "# Lista de columnas de días\n",
    "dias = ['Lunes','Martes','Miercoles','Jueves','Viernes','Sabado','Domingo']\n",
    "    \n",
    "# Creamos las columnas nuevas\n",
    "# Hora_Apertura\n",
    "df['Hora_Apertura'] = df['tipo'].map(lambda t: mapping.get(t, {}).get('Hora_Apertura', np.nan)).astype(float)\n",
    "# Hora_Cierre\n",
    "df['Hora_Cierre'] = df['tipo'].map(lambda t: mapping.get(t, {}).get('Hora_Cierre', np.nan)).astype(float)\n",
    "# Tiempo_Prom_Estancia\n",
    "df['Tiempo_Prom_Estancia'] = df['tipo'].map(lambda t: mapping.get(t, {}).get('Tiempo_Prom_Estancia', np.nan)).astype(float)\n",
    "# Columnas de días: 1 o 0\n",
    "for dia in dias:\n",
    "    df[dia] = df['tipo'].map(lambda t: 1 if dia in mapping.get(t, {}).get('dias_abierto', []) else 0).astype(int)"
   ]
  },
  {
   "cell_type": "markdown",
   "id": "db7c749a",
   "metadata": {},
   "source": [
    "Mostrar nuevo dataset"
   ]
  },
  {
   "cell_type": "code",
   "execution_count": 65,
   "id": "2b3e1f08",
   "metadata": {},
   "outputs": [
    {
     "name": "stdout",
     "output_type": "stream",
     "text": [
      "   id                                             nombre  municipio_id  \\\n",
      "0   1  Biblioteca del Centro de Maestros de Chiautla ...            28   \n",
      "1   2                          Biblioteca Cristina Payán            33   \n",
      "2   3  Biblioteca del Centro de Enseñanza, Inv. y Ext...            45   \n",
      "3   4                     Biblioteca campus Lomas Verdes            57   \n",
      "4   5  Biblioteca de la Escuela Superior de Ingenierí...            57   \n",
      "\n",
      "      nombre_municipio  longitud   latitud        tipo  Hora_Apertura  \\\n",
      "0             Chiautla -98.88279  19.54944  Biblioteca            9.0   \n",
      "1  Ecatepec de Morelos -99.03569  19.60030  Biblioteca            9.0   \n",
      "2            Jilotepec -99.51040  19.95739  Biblioteca            9.0   \n",
      "3  Naucalpan de Juárez -99.26304  19.50710  Biblioteca            9.0   \n",
      "4  Naucalpan de Juárez -99.22955  19.43019  Biblioteca            9.0   \n",
      "\n",
      "   Hora_Cierre  Tiempo_Prom_Estancia  Lunes  Martes  Miercoles  Jueves  \\\n",
      "0         18.0                   1.5      1       1          1       1   \n",
      "1         18.0                   1.5      1       1          1       1   \n",
      "2         18.0                   1.5      1       1          1       1   \n",
      "3         18.0                   1.5      1       1          1       1   \n",
      "4         18.0                   1.5      1       1          1       1   \n",
      "\n",
      "   Viernes  Sabado  Domingo  \n",
      "0        1       1        0  \n",
      "1        1       1        0  \n",
      "2        1       1        0  \n",
      "3        1       1        0  \n",
      "4        1       1        0  \n"
     ]
    }
   ],
   "source": [
    "print(df.head())"
   ]
  },
  {
   "cell_type": "code",
   "execution_count": 66,
   "id": "822e6a46",
   "metadata": {},
   "outputs": [
    {
     "name": "stdout",
     "output_type": "stream",
     "text": [
      "Valores únicos por columna:\n",
      "id                      429\n",
      "nombre                  421\n",
      "municipio_id            113\n",
      "nombre_municipio        113\n",
      "longitud                358\n",
      "latitud                 357\n",
      "tipo                     11\n",
      "Hora_Apertura             6\n",
      "Hora_Cierre               6\n",
      "Tiempo_Prom_Estancia      5\n",
      "Lunes                     2\n",
      "Martes                    2\n",
      "Miercoles                 2\n",
      "Jueves                    1\n",
      "Viernes                   1\n",
      "Sabado                    1\n",
      "Domingo                   2\n",
      "dtype: int64\n"
     ]
    }
   ],
   "source": [
    "print(\"Valores únicos por columna:\")\n",
    "print(df.nunique())"
   ]
  },
  {
   "cell_type": "markdown",
   "id": "3a3b0407",
   "metadata": {},
   "source": [
    "Eliminar los valores no nulos de longitud y latitud"
   ]
  },
  {
   "cell_type": "code",
   "execution_count": 67,
   "id": "9c7e25f2",
   "metadata": {},
   "outputs": [],
   "source": [
    "#Eliminar las filas que tienen valore de longitud y latitud de 0.0\n",
    "df = df.dropna(subset=['latitud', 'longitud'])\n",
    "df = df[(df['latitud'] != 0.0) & (df['longitud'] != 0.0)].copy()"
   ]
  },
  {
   "cell_type": "code",
   "execution_count": 68,
   "id": "61c28f4f",
   "metadata": {},
   "outputs": [
    {
     "name": "stdout",
     "output_type": "stream",
     "text": [
      "Valores únicos por columna:\n",
      "id                      362\n",
      "nombre                  357\n",
      "municipio_id             84\n",
      "nombre_municipio         84\n",
      "longitud                357\n",
      "latitud                 356\n",
      "tipo                     10\n",
      "Hora_Apertura             6\n",
      "Hora_Cierre               6\n",
      "Tiempo_Prom_Estancia      5\n",
      "Lunes                     2\n",
      "Martes                    2\n",
      "Miercoles                 2\n",
      "Jueves                    1\n",
      "Viernes                   1\n",
      "Sabado                    1\n",
      "Domingo                   2\n",
      "dtype: int64\n"
     ]
    }
   ],
   "source": [
    "print(\"Valores únicos por columna:\")\n",
    "print(df.nunique())"
   ]
  },
  {
   "cell_type": "markdown",
   "id": "9fc9825f",
   "metadata": {},
   "source": [
    "Resetear index"
   ]
  },
  {
   "cell_type": "code",
   "execution_count": 69,
   "id": "ddfe81ed",
   "metadata": {},
   "outputs": [],
   "source": [
    "df = df.reset_index(drop=True)"
   ]
  },
  {
   "cell_type": "code",
   "execution_count": 70,
   "id": "b8bf4997",
   "metadata": {},
   "outputs": [
    {
     "name": "stdout",
     "output_type": "stream",
     "text": [
      "Tipos de datos por columna:\n",
      "id                        int64\n",
      "nombre                   object\n",
      "municipio_id              int64\n",
      "nombre_municipio         object\n",
      "longitud                float64\n",
      "latitud                 float64\n",
      "tipo                     object\n",
      "Hora_Apertura           float64\n",
      "Hora_Cierre             float64\n",
      "Tiempo_Prom_Estancia    float64\n",
      "Lunes                     int64\n",
      "Martes                    int64\n",
      "Miercoles                 int64\n",
      "Jueves                    int64\n",
      "Viernes                   int64\n",
      "Sabado                    int64\n",
      "Domingo                   int64\n",
      "dtype: object\n"
     ]
    }
   ],
   "source": [
    "print(\"Tipos de datos por columna:\")\n",
    "print(df.dtypes)"
   ]
  },
  {
   "cell_type": "markdown",
   "id": "dff7d70e",
   "metadata": {},
   "source": [
    "Guardar el nuevo CSV"
   ]
  },
  {
   "cell_type": "code",
   "execution_count": 71,
   "id": "33d6065d",
   "metadata": {},
   "outputs": [
    {
     "name": "stdout",
     "output_type": "stream",
     "text": [
      "\n",
      "Archivo 'Lugares_Turisticos_Def.csv' guardado exitosamente en el directorio actual!\n"
     ]
    }
   ],
   "source": [
    "nombre_archivo = 'Lugares_Turisticos_Def.csv'\n",
    "df.to_csv(nombre_archivo, index=False, encoding='utf-8')\n",
    "\n",
    "print(f\"\\nArchivo '{nombre_archivo}' guardado exitosamente en el directorio actual!\")"
   ]
  }
 ],
 "metadata": {
  "kernelspec": {
   "display_name": "Python 3",
   "language": "python",
   "name": "python3"
  },
  "language_info": {
   "codemirror_mode": {
    "name": "ipython",
    "version": 3
   },
   "file_extension": ".py",
   "mimetype": "text/x-python",
   "name": "python",
   "nbconvert_exporter": "python",
   "pygments_lexer": "ipython3",
   "version": "3.12.0"
  }
 },
 "nbformat": 4,
 "nbformat_minor": 5
}
