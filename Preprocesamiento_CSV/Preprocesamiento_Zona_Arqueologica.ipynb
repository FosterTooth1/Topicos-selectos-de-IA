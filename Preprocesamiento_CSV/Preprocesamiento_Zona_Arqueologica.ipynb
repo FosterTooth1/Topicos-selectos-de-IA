{
 "cells": [
  {
   "cell_type": "markdown",
   "id": "ccaa7dc1",
   "metadata": {},
   "source": [
    "Importación de Librerias"
   ]
  },
  {
   "cell_type": "code",
   "execution_count": 1,
   "id": "a4809310",
   "metadata": {},
   "outputs": [],
   "source": [
    "import pandas as pd\n",
    "import matplotlib.pyplot as plt\n",
    "import seaborn as sns"
   ]
  },
  {
   "cell_type": "markdown",
   "id": "11581973",
   "metadata": {},
   "source": [
    "Cargar los datos (Codificación del CSV latin1)"
   ]
  },
  {
   "cell_type": "code",
   "execution_count": 2,
   "id": "da430a2b",
   "metadata": {},
   "outputs": [],
   "source": [
    "df = pd.read_csv('zona_arqueologica_directorio.csv', encoding='latin1')"
   ]
  },
  {
   "cell_type": "markdown",
   "id": "ab9c0420",
   "metadata": {},
   "source": [
    "Imprimir las primeras 5 filas para observar el formato del CSV"
   ]
  },
  {
   "cell_type": "code",
   "execution_count": 3,
   "id": "80a6468a",
   "metadata": {},
   "outputs": [
    {
     "name": "stdout",
     "output_type": "stream",
     "text": [
      "   zona_arqueologica_id zona_arqueologica_nombre  estado_id  \\\n",
      "0                     1             El Vallecito          2   \n",
      "1                   159  Sierra de San Francisco          3   \n",
      "2                     9                    Edzná          4   \n",
      "3                    13                Xcalumkín          4   \n",
      "4                   147                  Toh Cok          4   \n",
      "\n",
      "               nom_ent  municipio_id      nom_mun  localidad_id  \\\n",
      "0      Baja California             3       Tecate             0   \n",
      "1  Baja California Sur             2       Mulegé             0   \n",
      "2             Campeche             2     Campeche             0   \n",
      "3             Campeche             5  Hecelchakán             0   \n",
      "4             Campeche             6    Hopelchén             0   \n",
      "\n",
      "               nom_loc                     zona_arqueologica_calle_numero  \\\n",
      "0  Total del Municipio                    Camino a Vallecitos Km. 1 + 200   \n",
      "1  Total del Municipio          Camino a San Francisco de la Sierra Km 36   \n",
      "2  Total del Municipio  Carr. Federal Campeche-Edzná, km 55 (localizad...   \n",
      "3  Total del Municipio             Ramal de camino a Xcalumkin Km 1 + 000   \n",
      "4  Total del Municipio                                  Carr. Federal 261   \n",
      "\n",
      "  zona_arqueologica_colonia  zona_arqueologica_cp  \\\n",
      "0                       NaN                   NaN   \n",
      "1                       NaN                   NaN   \n",
      "2                       NaN                   NaN   \n",
      "3                       NaN                   NaN   \n",
      "4                       NaN                   NaN   \n",
      "\n",
      "                zona_arqueologica_telefono1  \\\n",
      "0                             686 552 35 91   \n",
      "1                             612 122 73 89   \n",
      "2  981 816 91 11, 981 816 81 79 ext. 138017   \n",
      "3  981 816 91 11, 981 816 81 79 ext. 138017   \n",
      "4                             981 816 81 79   \n",
      "\n",
      "                                          pagina_web  \\\n",
      "0  https://www.inah.gob.mx/zonas/zona-arqueologic...   \n",
      "1  https://www.inah.gob.mx/zonas/zona-arqueologic...   \n",
      "2  https://www.inah.gob.mx/zonas/zona-arqueologic...   \n",
      "3  https://www.inah.gob.mx/zonas/zona-arqueologic...   \n",
      "4  https://www.inah.gob.mx/zonas/zona-arqueologic...   \n",
      "\n",
      "                                               email  gmaps_longitud  \\\n",
      "0                           direccion.bc@inah.gob.mx      -116.09758   \n",
      "1                     sierrasanfrancisco@hotmail.com      -113.01637   \n",
      "2  candelaria_duarte@inah.gob.mx; direccion.camp@...       -90.23051   \n",
      "3  candelaria_duarte@inah.gob.mx; direccion.camp@...       -90.01031   \n",
      "4                    zarqueologicas.camp@inah.gob.mx       -89.87514   \n",
      "\n",
      "   gmaps_latitud                                           link_sic  \\\n",
      "0       32.53908  http://sic.gob.mx/ficha.php?table=zona_arqueol...   \n",
      "1       27.60137  http://sic.gob.mx/ficha.php?table=zona_arqueol...   \n",
      "2       19.59740  http://sic.gob.mx/ficha.php?table=zona_arqueol...   \n",
      "3       20.17037  http://sic.gob.mx/ficha.php?table=zona_arqueol...   \n",
      "4       19.77019  http://sic.gob.mx/ficha.php?table=zona_arqueol...   \n",
      "\n",
      "                fecha_mod  \n",
      "0  2025-04-28 11:53:34-06  \n",
      "1  2025-04-28 12:06:59-06  \n",
      "2  2025-04-28 17:40:02-06  \n",
      "3  2025-04-28 17:33:49-06  \n",
      "4  2025-04-28 14:13:29-06  \n"
     ]
    }
   ],
   "source": [
    "print(df.head())"
   ]
  },
  {
   "cell_type": "markdown",
   "id": "845b75e1",
   "metadata": {},
   "source": [
    "Imprimir las ultimas 5 filas para observar el formato del CSV"
   ]
  },
  {
   "cell_type": "code",
   "execution_count": 4,
   "id": "13d37d70",
   "metadata": {},
   "outputs": [
    {
     "name": "stdout",
     "output_type": "stream",
     "text": [
      "     zona_arqueologica_id    zona_arqueologica_nombre  estado_id    nom_ent  \\\n",
      "191                   126                         Aké         31    Yucatán   \n",
      "192                   135  Alta Vista o Chalchihuites         32  Zacatecas   \n",
      "193                   189       Cerro de las Ventanas         32  Zacatecas   \n",
      "194                   208              Cerro del Teúl         32  Zacatecas   \n",
      "195                   134                  La Quemada         32  Zacatecas   \n",
      "\n",
      "     municipio_id                  nom_mun  localidad_id              nom_loc  \\\n",
      "191            93                 Tixkokob             0  Total del Municipio   \n",
      "192             9            Chalchihuites             0  Total del Municipio   \n",
      "193            23                Juchipila             0  Total del Municipio   \n",
      "194            47  Teúl de González Ortega             0  Total del Municipio   \n",
      "195            55               Villanueva             0  Total del Municipio   \n",
      "\n",
      "                        zona_arqueologica_calle_numero  \\\n",
      "191           Se localiza a 35 km al oriente de Mérida   \n",
      "192                                    Rancho Colorado   \n",
      "193             Carretera federal Guadalajara-Saltillo   \n",
      "194  Extremo sur de la cabecera municipal de Teúl d...   \n",
      "195  Se localiza a 56 km al sur de la ciudad de Zac...   \n",
      "\n",
      "    zona_arqueologica_colonia  zona_arqueologica_cp  \\\n",
      "191                       NaN                   NaN   \n",
      "192                       NaN               99260.0   \n",
      "193                       NaN                   NaN   \n",
      "194                       NaN                   NaN   \n",
      "195                       NaN                   NaN   \n",
      "\n",
      "    zona_arqueologica_telefono1  \\\n",
      "191               999 944 00 33   \n",
      "192               492 922 50 85   \n",
      "193               492 145 10 47   \n",
      "194               492 923 13 93   \n",
      "195               492 923 13 93   \n",
      "\n",
      "                                            pagina_web  \\\n",
      "191  https://www.inah.gob.mx/zonas/zona-arqueologic...   \n",
      "192  https://www.inah.gob.mx/zonas/zona-arqueologic...   \n",
      "193  https://www.inah.gob.mx/zonas/49-zona-arqueolo...   \n",
      "194                             http://www.inah.gob.mx   \n",
      "195  https://www.inah.gob.mx/zonas/112-zona-arqueol...   \n",
      "\n",
      "                               email  gmaps_longitud  gmaps_latitud  \\\n",
      "191        direccion.yuc@inah.gob.mx       -89.30222       20.94912   \n",
      "192                              NaN      -103.92533       23.47936   \n",
      "193       augusto_torres@inah.gob.mx      -103.13569       21.37177   \n",
      "194          laura_solar@inah.gob.mx      -103.46623       21.45024   \n",
      "195  laquemada_zacatecas@inah.gob.mx      -102.82087       22.45531   \n",
      "\n",
      "                                              link_sic               fecha_mod  \n",
      "191  http://sic.gob.mx/ficha.php?table=zona_arqueol...  2022-10-03 07:46:58-05  \n",
      "192  http://sic.gob.mx/ficha.php?table=zona_arqueol...  2023-01-16 09:11:25-06  \n",
      "193  http://sic.gob.mx/ficha.php?table=zona_arqueol...  2023-01-16 09:16:06-06  \n",
      "194  http://sic.gob.mx/ficha.php?table=zona_arqueol...  2023-09-25 15:37:31-06  \n",
      "195  http://sic.gob.mx/ficha.php?table=zona_arqueol...  2023-01-16 09:20:30-06  \n"
     ]
    }
   ],
   "source": [
    "print(df.tail())"
   ]
  },
  {
   "cell_type": "markdown",
   "id": "9ef3e41d",
   "metadata": {},
   "source": [
    "Imprimir las columnas del CSV con su respectivo tipo de dato"
   ]
  },
  {
   "cell_type": "code",
   "execution_count": 5,
   "id": "53e1482c",
   "metadata": {},
   "outputs": [
    {
     "name": "stdout",
     "output_type": "stream",
     "text": [
      "<class 'pandas.core.frame.DataFrame'>\n",
      "RangeIndex: 196 entries, 0 to 195\n",
      "Data columns (total 18 columns):\n",
      " #   Column                          Non-Null Count  Dtype  \n",
      "---  ------                          --------------  -----  \n",
      " 0   zona_arqueologica_id            196 non-null    int64  \n",
      " 1   zona_arqueologica_nombre        196 non-null    object \n",
      " 2   estado_id                       196 non-null    int64  \n",
      " 3   nom_ent                         196 non-null    object \n",
      " 4   municipio_id                    196 non-null    int64  \n",
      " 5   nom_mun                         196 non-null    object \n",
      " 6   localidad_id                    196 non-null    int64  \n",
      " 7   nom_loc                         196 non-null    object \n",
      " 8   zona_arqueologica_calle_numero  160 non-null    object \n",
      " 9   zona_arqueologica_colonia       59 non-null     object \n",
      " 10  zona_arqueologica_cp            76 non-null     float64\n",
      " 11  zona_arqueologica_telefono1     186 non-null    object \n",
      " 12  pagina_web                      189 non-null    object \n",
      " 13  email                           182 non-null    object \n",
      " 14  gmaps_longitud                  196 non-null    float64\n",
      " 15  gmaps_latitud                   196 non-null    float64\n",
      " 16  link_sic                        196 non-null    object \n",
      " 17  fecha_mod                       196 non-null    object \n",
      "dtypes: float64(3), int64(4), object(11)\n",
      "memory usage: 27.7+ KB\n",
      "None\n"
     ]
    }
   ],
   "source": [
    "print(df.info())"
   ]
  },
  {
   "cell_type": "markdown",
   "id": "46b0fb7e",
   "metadata": {},
   "source": [
    "Visualizar los valores unicos por columna"
   ]
  },
  {
   "cell_type": "code",
   "execution_count": 6,
   "id": "e33f1468",
   "metadata": {},
   "outputs": [
    {
     "name": "stdout",
     "output_type": "stream",
     "text": [
      "Valores únicos por columna:\n",
      "zona_arqueologica_id              196\n",
      "zona_arqueologica_nombre          196\n",
      "estado_id                          31\n",
      "nom_ent                            31\n",
      "municipio_id                       90\n",
      "nom_mun                           142\n",
      "localidad_id                        1\n",
      "nom_loc                             1\n",
      "zona_arqueologica_calle_numero    160\n",
      "zona_arqueologica_colonia          52\n",
      "zona_arqueologica_cp               72\n",
      "zona_arqueologica_telefono1       108\n",
      "pagina_web                        187\n",
      "email                              80\n",
      "gmaps_longitud                    196\n",
      "gmaps_latitud                     196\n",
      "link_sic                          196\n",
      "fecha_mod                         196\n",
      "dtype: int64\n"
     ]
    }
   ],
   "source": [
    "print(\"Valores únicos por columna:\")\n",
    "print(df.nunique())"
   ]
  },
  {
   "cell_type": "markdown",
   "id": "3863e823",
   "metadata": {},
   "source": [
    "Filtramos el DataFrame con el estado que nos interesa"
   ]
  },
  {
   "cell_type": "code",
   "execution_count": 7,
   "id": "61345ae5",
   "metadata": {},
   "outputs": [],
   "source": [
    "df = df[df['estado_id'] == 15]"
   ]
  },
  {
   "cell_type": "markdown",
   "id": "4406e8c2",
   "metadata": {},
   "source": [
    "Reiniciar índice del DataFrame resultante"
   ]
  },
  {
   "cell_type": "code",
   "execution_count": 8,
   "id": "890504e4",
   "metadata": {},
   "outputs": [],
   "source": [
    "df = df.reset_index(drop=True)"
   ]
  },
  {
   "cell_type": "markdown",
   "id": "05023883",
   "metadata": {},
   "source": [
    "Verificar los registros del CSV actualizado"
   ]
  },
  {
   "cell_type": "code",
   "execution_count": 9,
   "id": "69740e87",
   "metadata": {},
   "outputs": [
    {
     "name": "stdout",
     "output_type": "stream",
     "text": [
      "   zona_arqueologica_id zona_arqueologica_nombre  estado_id nom_ent  \\\n",
      "0                   149                 Huamango         15  México   \n",
      "1                    33             Chimalhuacán         15  México   \n",
      "2                    31        Acozac Ixtapaluca         15  México   \n",
      "3                    41                Tlapacoya         15  México   \n",
      "4                    37                Malinalco         15  México   \n",
      "\n",
      "   municipio_id                    nom_mun  localidad_id              nom_loc  \\\n",
      "0             1  Acambay de Ruíz Castañeda             0  Total del Municipio   \n",
      "1            31               Chimalhuacán             0  Total del Municipio   \n",
      "2            39                 Ixtapaluca             0  Total del Municipio   \n",
      "3            39                 Ixtapaluca             0  Total del Municipio   \n",
      "4            52                  Malinalco             0  Total del Municipio   \n",
      "\n",
      "    zona_arqueologica_calle_numero  \\\n",
      "0  Carr. Toluca  Querétaro km. 93   \n",
      "1                    Pochotes s/n    \n",
      "2       Carr. México-Puebla km. 30   \n",
      "3      Calle Cda. del Silencio s/n   \n",
      "4                       Amajac s/n   \n",
      "\n",
      "                           zona_arqueologica_colonia  zona_arqueologica_cp  \\\n",
      "0                                                NaN                   NaN   \n",
      "1                               Barrio de San Andrés               56337.0   \n",
      "2                                             Centro               56530.0   \n",
      "3  Barrio de Ahuehuetes<br>Loc. Santa Cruz Tlapacoya               56577.0   \n",
      "4                             Barrio Santa de Mónica               52440.0   \n",
      "\n",
      "  zona_arqueologica_telefono1  \\\n",
      "0               722 214 63 00   \n",
      "1               722 167 13 25   \n",
      "2               722 167 13 25   \n",
      "3                722 215 7080   \n",
      "4              714 147 30 13    \n",
      "\n",
      "                                          pagina_web  \\\n",
      "0  https://www.inah.gob.mx/zonas/45-zona-arqueolo...   \n",
      "1  https://www.inah.gob.mx/zonas/130-zona-arqueol...   \n",
      "2  https://www.inah.gob.mx/zonas/128-zona-arqueol...   \n",
      "3  https://www.inah.gob.mx/zonas/139-zona-arqueol...   \n",
      "4  https://www.inah.gob.mx/zonas/135-zona-arqueol...   \n",
      "\n",
      "                              email  gmaps_longitud  gmaps_latitud  \\\n",
      "0                mcsrc@yahoo.com.mx       -99.86596       19.97916   \n",
      "1          cinah_edomex@inah.gob.mx       -98.94708       19.41816   \n",
      "2              acozaczona@gmail.com       -98.88417       19.31310   \n",
      "3     humberto_gonzalez@inah.gob.mx       -98.91287       19.30182   \n",
      "4  tlaltecutli94-f@inah.hotmail.com       -99.50294       18.95321   \n",
      "\n",
      "                                            link_sic               fecha_mod  \n",
      "0  http://sic.gob.mx/ficha.php?table=zona_arqueol...  2025-04-30 11:56:22-06  \n",
      "1  http://sic.gob.mx/ficha.php?table=zona_arqueol...  2023-01-11 10:30:10-06  \n",
      "2  http://sic.gob.mx/ficha.php?table=zona_arqueol...  2023-01-11 09:25:46-06  \n",
      "3  http://sic.gob.mx/ficha.php?table=zona_arqueol...  2022-10-04 15:49:52-05  \n",
      "4  http://sic.gob.mx/ficha.php?table=zona_arqueol...  2022-10-04 15:48:25-05  \n"
     ]
    }
   ],
   "source": [
    "print(df.head())"
   ]
  },
  {
   "cell_type": "markdown",
   "id": "ffef1e6e",
   "metadata": {},
   "source": [
    "Definimos las columnas del dataset a conservar"
   ]
  },
  {
   "cell_type": "code",
   "execution_count": 10,
   "id": "d945d532",
   "metadata": {},
   "outputs": [],
   "source": [
    "columnas_conservar = [\n",
    "    'zona_arqueologica_id',\n",
    "    'zona_arqueologica_nombre',\n",
    "    'municipio_id',\n",
    "    'nom_mun',\n",
    "    'gmaps_longitud',\n",
    "    'gmaps_latitud'\n",
    "]"
   ]
  },
  {
   "cell_type": "markdown",
   "id": "cb4c0152",
   "metadata": {},
   "source": [
    "Conservamos solo estas columnas"
   ]
  },
  {
   "cell_type": "code",
   "execution_count": 11,
   "id": "a955ff82",
   "metadata": {},
   "outputs": [],
   "source": [
    "df = df[columnas_conservar]"
   ]
  },
  {
   "cell_type": "markdown",
   "id": "14b4f9c1",
   "metadata": {},
   "source": [
    "Reiniciar indice del Dataset resultante"
   ]
  },
  {
   "cell_type": "code",
   "execution_count": 12,
   "id": "e81dc0b7",
   "metadata": {},
   "outputs": [],
   "source": [
    "df = df.reset_index(drop=True)"
   ]
  },
  {
   "cell_type": "markdown",
   "id": "ea6b0d9a",
   "metadata": {},
   "source": [
    "Verificar los registros del CSV actualizado"
   ]
  },
  {
   "cell_type": "code",
   "execution_count": 13,
   "id": "26af60d4",
   "metadata": {},
   "outputs": [
    {
     "name": "stdout",
     "output_type": "stream",
     "text": [
      "   zona_arqueologica_id zona_arqueologica_nombre  municipio_id  \\\n",
      "0                   149                 Huamango             1   \n",
      "1                    33             Chimalhuacán            31   \n",
      "2                    31        Acozac Ixtapaluca            39   \n",
      "3                    41                Tlapacoya            39   \n",
      "4                    37                Malinalco            52   \n",
      "\n",
      "                     nom_mun  gmaps_longitud  gmaps_latitud  \n",
      "0  Acambay de Ruíz Castañeda       -99.86596       19.97916  \n",
      "1               Chimalhuacán       -98.94708       19.41816  \n",
      "2                 Ixtapaluca       -98.88417       19.31310  \n",
      "3                 Ixtapaluca       -98.91287       19.30182  \n",
      "4                  Malinalco       -99.50294       18.95321  \n"
     ]
    }
   ],
   "source": [
    "print(df.head())"
   ]
  },
  {
   "cell_type": "markdown",
   "id": "f56af927",
   "metadata": {},
   "source": [
    "Observar los datos faltantes por columna del DataFrame"
   ]
  },
  {
   "cell_type": "code",
   "execution_count": 14,
   "id": "427f6621",
   "metadata": {},
   "outputs": [
    {
     "name": "stdout",
     "output_type": "stream",
     "text": [
      "Valores faltantes por columna:\n",
      "zona_arqueologica_id        0\n",
      "zona_arqueologica_nombre    0\n",
      "municipio_id                0\n",
      "nom_mun                     0\n",
      "gmaps_longitud              0\n",
      "gmaps_latitud               0\n",
      "dtype: int64\n"
     ]
    }
   ],
   "source": [
    "print(\"Valores faltantes por columna:\")\n",
    "print(df.isnull().sum())"
   ]
  },
  {
   "cell_type": "markdown",
   "id": "8bd04944",
   "metadata": {},
   "source": [
    "- Eliminar filas con valores nulos"
   ]
  },
  {
   "cell_type": "code",
   "execution_count": 15,
   "id": "cc5acaab",
   "metadata": {},
   "outputs": [],
   "source": [
    "df = df.dropna()"
   ]
  },
  {
   "cell_type": "markdown",
   "id": "66a4a846",
   "metadata": {},
   "source": [
    "Observar los datos faltantes por columna del DataFrame"
   ]
  },
  {
   "cell_type": "code",
   "execution_count": 16,
   "id": "1784f844",
   "metadata": {},
   "outputs": [
    {
     "name": "stdout",
     "output_type": "stream",
     "text": [
      "Valores faltantes por columna:\n",
      "zona_arqueologica_id        0\n",
      "zona_arqueologica_nombre    0\n",
      "municipio_id                0\n",
      "nom_mun                     0\n",
      "gmaps_longitud              0\n",
      "gmaps_latitud               0\n",
      "dtype: int64\n"
     ]
    }
   ],
   "source": [
    "print(\"Valores faltantes por columna:\")\n",
    "print(df.isnull().sum())"
   ]
  },
  {
   "cell_type": "markdown",
   "id": "ff1f8b9a",
   "metadata": {},
   "source": [
    "- Reiniciar índice del DataFrame resultante"
   ]
  },
  {
   "cell_type": "code",
   "execution_count": 17,
   "id": "19873cdb",
   "metadata": {},
   "outputs": [],
   "source": [
    "df = df.reset_index(drop=True)"
   ]
  },
  {
   "cell_type": "markdown",
   "id": "f2134178",
   "metadata": {},
   "source": [
    "- Verificar los registros del CSV actualizado"
   ]
  },
  {
   "cell_type": "code",
   "execution_count": 18,
   "id": "383b5c0d",
   "metadata": {},
   "outputs": [
    {
     "name": "stdout",
     "output_type": "stream",
     "text": [
      "   zona_arqueologica_id zona_arqueologica_nombre  municipio_id  \\\n",
      "0                   149                 Huamango             1   \n",
      "1                    33             Chimalhuacán            31   \n",
      "2                    31        Acozac Ixtapaluca            39   \n",
      "3                    41                Tlapacoya            39   \n",
      "4                    37                Malinalco            52   \n",
      "\n",
      "                     nom_mun  gmaps_longitud  gmaps_latitud  \n",
      "0  Acambay de Ruíz Castañeda       -99.86596       19.97916  \n",
      "1               Chimalhuacán       -98.94708       19.41816  \n",
      "2                 Ixtapaluca       -98.88417       19.31310  \n",
      "3                 Ixtapaluca       -98.91287       19.30182  \n",
      "4                  Malinalco       -99.50294       18.95321  \n"
     ]
    }
   ],
   "source": [
    "print(df.head())"
   ]
  },
  {
   "cell_type": "markdown",
   "id": "1a00592c",
   "metadata": {},
   "source": [
    "Guardar el nuevo CSV ya preprocesado"
   ]
  },
  {
   "cell_type": "code",
   "execution_count": 19,
   "id": "22a8d293",
   "metadata": {},
   "outputs": [
    {
     "name": "stdout",
     "output_type": "stream",
     "text": [
      "\n",
      "Archivo 'Zona_Arqueologica.csv' guardado exitosamente en el directorio actual!\n"
     ]
    }
   ],
   "source": [
    "nombre_archivo = 'Zona_Arqueologica.csv'\n",
    "df.to_csv(nombre_archivo, index=False, encoding='utf-8')\n",
    "\n",
    "print(f\"\\nArchivo '{nombre_archivo}' guardado exitosamente en el directorio actual!\")"
   ]
  }
 ],
 "metadata": {
  "kernelspec": {
   "display_name": "Python 3",
   "language": "python",
   "name": "python3"
  },
  "language_info": {
   "codemirror_mode": {
    "name": "ipython",
    "version": 3
   },
   "file_extension": ".py",
   "mimetype": "text/x-python",
   "name": "python",
   "nbconvert_exporter": "python",
   "pygments_lexer": "ipython3",
   "version": "3.12.0"
  }
 },
 "nbformat": 4,
 "nbformat_minor": 5
}
