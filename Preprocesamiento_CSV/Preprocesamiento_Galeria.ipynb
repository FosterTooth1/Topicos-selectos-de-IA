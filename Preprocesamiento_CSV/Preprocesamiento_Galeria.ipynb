{
 "cells": [
  {
   "cell_type": "markdown",
   "id": "ccaa7dc1",
   "metadata": {},
   "source": [
    "Importación de Librerias"
   ]
  },
  {
   "cell_type": "code",
   "execution_count": 1,
   "id": "a4809310",
   "metadata": {},
   "outputs": [],
   "source": [
    "import pandas as pd\n",
    "import matplotlib.pyplot as plt\n",
    "import seaborn as sns"
   ]
  },
  {
   "cell_type": "markdown",
   "id": "11581973",
   "metadata": {},
   "source": [
    "Cargar los datos (Codificación del CSV latin1)"
   ]
  },
  {
   "cell_type": "code",
   "execution_count": 2,
   "id": "da430a2b",
   "metadata": {},
   "outputs": [],
   "source": [
    "df = pd.read_csv('galeria_directorio.csv', encoding='latin1')"
   ]
  },
  {
   "cell_type": "markdown",
   "id": "ab9c0420",
   "metadata": {},
   "source": [
    "Imprimir las primeras 5 filas para observar el formato del CSV"
   ]
  },
  {
   "cell_type": "code",
   "execution_count": 3,
   "id": "80a6468a",
   "metadata": {},
   "outputs": [
    {
     "name": "stdout",
     "output_type": "stream",
     "text": [
      "   galeria_id                          galeria_nombre galeria_fecha_fundacion  \\\n",
      "0         340     Galería de Artes Gráficas El Obraje              2000-09-13   \n",
      "1         346                           Galería Rampa              1983-01-01   \n",
      "2        1795  Galería de la Universidad de las Artes              2002-01-01   \n",
      "3        1963              Galeria David Díaz de León              1000-01-01   \n",
      "4        1483                          Galería Artica              2013-04-22   \n",
      "\n",
      "                                 galeria_adscripcion  estado_id  \\\n",
      "0               Instituto Cultural de Aguascalientes          1   \n",
      "1                                                NaN          1   \n",
      "2  Instituto Cultural de Aguascalientes (ICA)/Dir...          1   \n",
      "3                                                NaN          1   \n",
      "4  Instituto Cultural de Aguascalientes (ICA)/Dir...          1   \n",
      "\n",
      "          nom_ent  municipio_id         nom_mun  localidad_id         nom_loc  \\\n",
      "0  Aguascalientes             1  Aguascalientes             1  Aguascalientes   \n",
      "1  Aguascalientes             1  Aguascalientes             1  Aguascalientes   \n",
      "2  Aguascalientes             1  Aguascalientes             1  Aguascalientes   \n",
      "3  Aguascalientes             1  Aguascalientes             1  Aguascalientes   \n",
      "4  Aguascalientes             1  Aguascalientes             1  Aguascalientes   \n",
      "\n",
      "                   galeria_calle_numero        galeria_colonia  galeria_cp  \\\n",
      "0                   Juan de Montoro 222                 Centro     20000.0   \n",
      "1                   Cristóbal Colón 116                 Centro     20000.0   \n",
      "2  Av. Manuel Gómez Morín s/n, edif. 50        Col. Ferronales     20180.0   \n",
      "3                   Emiliano Zapata 201   Barrio de Guadalupe      20050.0   \n",
      "4               Venustiano Carranza 111                 Centro     20000.0   \n",
      "\n",
      "               galeria_telefono1  \\\n",
      "0                  449 994 00 74   \n",
      "1                  449 915 54 27   \n",
      "2  449 910 26 45 ext. 6702, 6703   \n",
      "3                  449 105 42 03   \n",
      "4                  449 915 16 91   \n",
      "\n",
      "                                          pagina_web  \\\n",
      "0  https://eservicios2.aguascalientes.gob.mx/even...   \n",
      "1                                                NaN   \n",
      "2                                                NaN   \n",
      "3                                                NaN   \n",
      "4                                                NaN   \n",
      "\n",
      "                                      email  gmaps_longitud  gmaps_latitud  \\\n",
      "0              museosygalerias@yahoo.com.mx      -102.29334       21.88126   \n",
      "1                                       NaN      -102.29522       21.88014   \n",
      "2  vinculacion@universidaddelasartes.edu.mx      -102.28088       21.88925   \n",
      "3                                       NaN      -102.30106       21.88220   \n",
      "4        centrodeartesvisuales@yahoo.com.mx      -102.29886       21.88049   \n",
      "\n",
      "                                            link_sic               fecha_mod  \n",
      "0  http://sic.gob.mx/ficha.php?table=galeria&tabl...  2022-04-19 06:57:03-05  \n",
      "1  http://sic.gob.mx/ficha.php?table=galeria&tabl...  2021-08-31 05:19:34-05  \n",
      "2  http://sic.gob.mx/ficha.php?table=galeria&tabl...  2023-07-28 06:04:39-06  \n",
      "3  http://sic.gob.mx/ficha.php?table=galeria&tabl...  2022-10-21 07:01:05-05  \n",
      "4  http://sic.gob.mx/ficha.php?table=galeria&tabl...  2022-04-19 05:16:02-05  \n"
     ]
    }
   ],
   "source": [
    "print(df.head())"
   ]
  },
  {
   "cell_type": "markdown",
   "id": "845b75e1",
   "metadata": {},
   "source": [
    "Imprimir las ultimas 5 filas para observar el formato del CSV"
   ]
  },
  {
   "cell_type": "code",
   "execution_count": 4,
   "id": "13d37d70",
   "metadata": {},
   "outputs": [
    {
     "name": "stdout",
     "output_type": "stream",
     "text": [
      "      galeria_id                              galeria_nombre  \\\n",
      "1012        1928                Luis Yerenas Estudio Galería   \n",
      "1013        1618                  Santa Rita, Hotel del Arte   \n",
      "1014         410  Galería de Arte Contemporáneo Irma Valerio   \n",
      "1015        1218                     Galería Tierra Colorada   \n",
      "1016        1216                                  Galería Sh   \n",
      "\n",
      "     galeria_fecha_fundacion galeria_adscripcion  estado_id    nom_ent  \\\n",
      "1012              1000-01-01                 NaN         32  Zacatecas   \n",
      "1013              2011-02-25                 NaN         32  Zacatecas   \n",
      "1014              1991-06-01                 NaN         32  Zacatecas   \n",
      "1015              2020-09-02                 NaN         32  Zacatecas   \n",
      "1016              2017-08-01                 NaN         32  Zacatecas   \n",
      "\n",
      "      municipio_id    nom_mun  localidad_id    nom_loc  \\\n",
      "1012            56  Zacatecas             1  Zacatecas   \n",
      "1013            56  Zacatecas             1  Zacatecas   \n",
      "1014            56  Zacatecas             1  Zacatecas   \n",
      "1015            56  Zacatecas             1  Zacatecas   \n",
      "1016            56  Zacatecas             1  Zacatecas   \n",
      "\n",
      "           galeria_calle_numero   galeria_colonia  galeria_cp  \\\n",
      "1012  Calle Primero de Mayo 316            Centro     98000.0   \n",
      "1013            Av. Hidalgo 507            Centro     99382.0   \n",
      "1014   Fernando Villalpando 212            Centro     98000.0   \n",
      "1015   Fernando Villalpando 311  Centro Histórico     98000.0   \n",
      "1016        Prol. 2 de Mayo 143   Lázaro Cárdenas     98040.0   \n",
      "\n",
      "     galeria_telefono1                           pagina_web  \\\n",
      "1012               NaN     https://www.luisyerenasarte.com/   \n",
      "1013     492 925 11 94  http://www.hotelsantarita.com/arte/   \n",
      "1014     492 924 37 77                                  NaN   \n",
      "1015     492 924 03 48                                  NaN   \n",
      "1016     492 170 89 16      https://galeria-sh.ueniweb.com/   \n",
      "\n",
      "                               email  gmaps_longitud  gmaps_latitud  \\\n",
      "1012              luisyerenas@me.com      -102.57190       22.77407   \n",
      "1013           ventas@hsantarita.com      -102.57288       22.77499   \n",
      "1014  galeriairmavalerio@hotmail.com      -102.57557       22.77381   \n",
      "1015                             NaN      -102.57467       22.77511   \n",
      "1016                 dluix@gmail.com      -102.58948       22.77477   \n",
      "\n",
      "                                               link_sic  \\\n",
      "1012  http://sic.gob.mx/ficha.php?table=galeria&tabl...   \n",
      "1013  http://sic.gob.mx/ficha.php?table=galeria&tabl...   \n",
      "1014  http://sic.gob.mx/ficha.php?table=galeria&tabl...   \n",
      "1015  http://sic.gob.mx/ficha.php?table=galeria&tabl...   \n",
      "1016  http://sic.gob.mx/ficha.php?table=galeria&tabl...   \n",
      "\n",
      "                   fecha_mod  \n",
      "1012  2022-09-13 06:44:35-05  \n",
      "1013  2023-01-25 06:39:14-06  \n",
      "1014  2022-04-21 09:06:21-05  \n",
      "1015  2023-12-11 07:05:17-06  \n",
      "1016  2023-01-25 06:27:09-06  \n"
     ]
    }
   ],
   "source": [
    "print(df.tail())"
   ]
  },
  {
   "cell_type": "markdown",
   "id": "9ef3e41d",
   "metadata": {},
   "source": [
    "Imprimir las columnas del CSV con su respectivo tipo de dato"
   ]
  },
  {
   "cell_type": "code",
   "execution_count": 5,
   "id": "53e1482c",
   "metadata": {},
   "outputs": [
    {
     "name": "stdout",
     "output_type": "stream",
     "text": [
      "<class 'pandas.core.frame.DataFrame'>\n",
      "RangeIndex: 1017 entries, 0 to 1016\n",
      "Data columns (total 20 columns):\n",
      " #   Column                   Non-Null Count  Dtype  \n",
      "---  ------                   --------------  -----  \n",
      " 0   galeria_id               1017 non-null   int64  \n",
      " 1   galeria_nombre           1017 non-null   object \n",
      " 2   galeria_fecha_fundacion  1017 non-null   object \n",
      " 3   galeria_adscripcion      461 non-null    object \n",
      " 4   estado_id                1017 non-null   int64  \n",
      " 5   nom_ent                  1017 non-null   object \n",
      " 6   municipio_id             1017 non-null   int64  \n",
      " 7   nom_mun                  1017 non-null   object \n",
      " 8   localidad_id             1017 non-null   int64  \n",
      " 9   nom_loc                  1017 non-null   object \n",
      " 10  galeria_calle_numero     1014 non-null   object \n",
      " 11  galeria_colonia          1005 non-null   object \n",
      " 12  galeria_cp               1012 non-null   float64\n",
      " 13  galeria_telefono1        947 non-null    object \n",
      " 14  pagina_web               475 non-null    object \n",
      " 15  email                    883 non-null    object \n",
      " 16  gmaps_longitud           1017 non-null   float64\n",
      " 17  gmaps_latitud            1017 non-null   float64\n",
      " 18  link_sic                 1017 non-null   object \n",
      " 19  fecha_mod                1017 non-null   object \n",
      "dtypes: float64(3), int64(4), object(13)\n",
      "memory usage: 159.0+ KB\n",
      "None\n"
     ]
    }
   ],
   "source": [
    "print(df.info())"
   ]
  },
  {
   "cell_type": "markdown",
   "id": "46b0fb7e",
   "metadata": {},
   "source": [
    "Visualizar los valores unicos por columna"
   ]
  },
  {
   "cell_type": "code",
   "execution_count": 6,
   "id": "e33f1468",
   "metadata": {},
   "outputs": [
    {
     "name": "stdout",
     "output_type": "stream",
     "text": [
      "Valores únicos por columna:\n",
      "galeria_id                 1017\n",
      "galeria_nombre             1001\n",
      "galeria_fecha_fundacion     495\n",
      "galeria_adscripcion         376\n",
      "estado_id                    32\n",
      "nom_ent                      32\n",
      "municipio_id                 73\n",
      "nom_mun                     143\n",
      "localidad_id                 26\n",
      "nom_loc                     161\n",
      "galeria_calle_numero        992\n",
      "galeria_colonia             335\n",
      "galeria_cp                  387\n",
      "galeria_telefono1           913\n",
      "pagina_web                  450\n",
      "email                       839\n",
      "gmaps_longitud              994\n",
      "gmaps_latitud               987\n",
      "link_sic                   1017\n",
      "fecha_mod                  1017\n",
      "dtype: int64\n"
     ]
    }
   ],
   "source": [
    "print(\"Valores únicos por columna:\")\n",
    "print(df.nunique())"
   ]
  },
  {
   "cell_type": "markdown",
   "id": "3863e823",
   "metadata": {},
   "source": [
    "Filtramos el DataFrame con el estado que nos interesa"
   ]
  },
  {
   "cell_type": "code",
   "execution_count": 7,
   "id": "61345ae5",
   "metadata": {},
   "outputs": [],
   "source": [
    "df = df[df['estado_id'] == 15]"
   ]
  },
  {
   "cell_type": "markdown",
   "id": "4406e8c2",
   "metadata": {},
   "source": [
    "Reiniciar índice del DataFrame resultante"
   ]
  },
  {
   "cell_type": "code",
   "execution_count": 8,
   "id": "890504e4",
   "metadata": {},
   "outputs": [],
   "source": [
    "df = df.reset_index(drop=True)"
   ]
  },
  {
   "cell_type": "markdown",
   "id": "05023883",
   "metadata": {},
   "source": [
    "Verificar los registros del CSV actualizado"
   ]
  },
  {
   "cell_type": "code",
   "execution_count": 9,
   "id": "69740e87",
   "metadata": {},
   "outputs": [
    {
     "name": "stdout",
     "output_type": "stream",
     "text": [
      "   galeria_id                                     galeria_nombre  \\\n",
      "0        2121  Galería del Centro Regional de Cultura Atizapá...   \n",
      "1        1424           Galeria de Arte del Genoma Mesoamericano   \n",
      "2         896    Galería de la Alianza Francesa, Suc. Interlomas   \n",
      "3         370            Galería de Arte y Antiguedades Tarentum   \n",
      "4         278                         Recoleta Gouda Art Gallery   \n",
      "\n",
      "  galeria_fecha_fundacion                                galeria_adscripcion  \\\n",
      "0              1995-12-01  Secretaría de Cultura y Turismo del Gobierno d...   \n",
      "1              2014-08-01                                                NaN   \n",
      "2              2008-01-01                                                NaN   \n",
      "3              1989-01-01                                                NaN   \n",
      "4              1997-01-01                                                NaN   \n",
      "\n",
      "   estado_id nom_ent  municipio_id               nom_mun  localidad_id  \\\n",
      "0         15  México            13  Atizapán de Zaragoza             1   \n",
      "1         15  México            33   Ecatepec de Morelos             1   \n",
      "2         15  México            37          Huixquilucan             1   \n",
      "3         15  México            37          Huixquilucan            71   \n",
      "4         15  México            37          Huixquilucan            71   \n",
      "\n",
      "                     nom_loc  \\\n",
      "0        Ciudad López Mateos   \n",
      "1        Ecatepec de Morelos   \n",
      "2  Huixquilucan de Degollado   \n",
      "3        Naucalpan de Juárez   \n",
      "4        Naucalpan de Juárez   \n",
      "\n",
      "                                galeria_calle_numero  \\\n",
      "0                                   Av. San Mateo 42   \n",
      "1                              Calle Nicolás Bravo 6   \n",
      "2           Blvd. Interlomas 5, Locales J1, J2 y J3    \n",
      "3  Blvd. Interlomas 5, Local Y5, Centro Urbano Sa...   \n",
      "4           Blvd. Interlomas 5, P.B. Local N 56 bis    \n",
      "\n",
      "              galeria_colonia  galeria_cp        galeria_telefono1  \\\n",
      "0         Col. San Juan Bosco     52900.0             55 5370 9879   \n",
      "1                Col. La Mora     55000.0             55 5770 8868   \n",
      "2   San Fernando la Herradura     52765.0  55 10 84 41 90 ext. 801   \n",
      "3                La Herradura     52786.0             55 2500 0000   \n",
      "4  Col. Bosques de las Palmas     52787.0           55 5291 9384     \n",
      "\n",
      "                                          pagina_web  \\\n",
      "0                                                NaN   \n",
      "1                                                NaN   \n",
      "2  https://www.alianzafrancesamx.edu.mx/centros/i...   \n",
      "3                                                NaN   \n",
      "4                                                NaN   \n",
      "\n",
      "                                               email  gmaps_longitud  \\\n",
      "0                           atizapanimc@yahoo.com.mx       -99.23544   \n",
      "1                          artemedina_06@hotmail.com       -99.05199   \n",
      "2  afminterlomas@alianzafrancesamx.edu.mx; afmint...       -99.26934   \n",
      "3                             art.tarentum@gmail.com       -99.27008   \n",
      "4                            haiekclaudia5@gmail.com       -99.27047   \n",
      "\n",
      "   gmaps_latitud                                           link_sic  \\\n",
      "0       19.57215  http://sic.gob.mx/ficha.php?table=galeria&tabl...   \n",
      "1       19.59686  http://sic.gob.mx/ficha.php?table=galeria&tabl...   \n",
      "2       19.40277  http://sic.gob.mx/ficha.php?table=galeria&tabl...   \n",
      "3       19.40219  http://sic.gob.mx/ficha.php?table=galeria&tabl...   \n",
      "4       19.40121  http://sic.gob.mx/ficha.php?table=galeria&tabl...   \n",
      "\n",
      "                fecha_mod  \n",
      "0  2024-07-24 12:08:52-06  \n",
      "1  2024-06-24 13:37:18-06  \n",
      "2  2024-06-24 17:39:59-06  \n",
      "3  2024-06-24 14:22:38-06  \n",
      "4  2024-06-24 17:38:04-06  \n"
     ]
    }
   ],
   "source": [
    "print(df.head())"
   ]
  },
  {
   "cell_type": "markdown",
   "id": "ffef1e6e",
   "metadata": {},
   "source": [
    "Definimos las columnas del dataset a conservar"
   ]
  },
  {
   "cell_type": "code",
   "execution_count": 10,
   "id": "d945d532",
   "metadata": {},
   "outputs": [],
   "source": [
    "columnas_conservar = [\n",
    "    'galeria_id',\n",
    "    'galeria_nombre',\n",
    "    'municipio_id',\n",
    "    'nom_mun',\n",
    "    'gmaps_longitud',\n",
    "    'gmaps_latitud'\n",
    "]"
   ]
  },
  {
   "cell_type": "markdown",
   "id": "cb4c0152",
   "metadata": {},
   "source": [
    "Conservamos solo estas columnas"
   ]
  },
  {
   "cell_type": "code",
   "execution_count": 11,
   "id": "a955ff82",
   "metadata": {},
   "outputs": [],
   "source": [
    "df = df[columnas_conservar]"
   ]
  },
  {
   "cell_type": "markdown",
   "id": "14b4f9c1",
   "metadata": {},
   "source": [
    "Reiniciar indice del Dataset resultante"
   ]
  },
  {
   "cell_type": "code",
   "execution_count": 12,
   "id": "e81dc0b7",
   "metadata": {},
   "outputs": [],
   "source": [
    "df = df.reset_index(drop=True)"
   ]
  },
  {
   "cell_type": "markdown",
   "id": "ea6b0d9a",
   "metadata": {},
   "source": [
    "Verificar los registros del CSV actualizado"
   ]
  },
  {
   "cell_type": "code",
   "execution_count": 13,
   "id": "26af60d4",
   "metadata": {},
   "outputs": [
    {
     "name": "stdout",
     "output_type": "stream",
     "text": [
      "   galeria_id                                     galeria_nombre  \\\n",
      "0        2121  Galería del Centro Regional de Cultura Atizapá...   \n",
      "1        1424           Galeria de Arte del Genoma Mesoamericano   \n",
      "2         896    Galería de la Alianza Francesa, Suc. Interlomas   \n",
      "3         370            Galería de Arte y Antiguedades Tarentum   \n",
      "4         278                         Recoleta Gouda Art Gallery   \n",
      "\n",
      "   municipio_id               nom_mun  gmaps_longitud  gmaps_latitud  \n",
      "0            13  Atizapán de Zaragoza       -99.23544       19.57215  \n",
      "1            33   Ecatepec de Morelos       -99.05199       19.59686  \n",
      "2            37          Huixquilucan       -99.26934       19.40277  \n",
      "3            37          Huixquilucan       -99.27008       19.40219  \n",
      "4            37          Huixquilucan       -99.27047       19.40121  \n"
     ]
    }
   ],
   "source": [
    "print(df.head())"
   ]
  },
  {
   "cell_type": "markdown",
   "id": "f56af927",
   "metadata": {},
   "source": [
    "Observar los datos faltantes por columna del DataFrame"
   ]
  },
  {
   "cell_type": "code",
   "execution_count": 14,
   "id": "427f6621",
   "metadata": {},
   "outputs": [
    {
     "name": "stdout",
     "output_type": "stream",
     "text": [
      "Valores faltantes por columna:\n",
      "galeria_id        0\n",
      "galeria_nombre    0\n",
      "municipio_id      0\n",
      "nom_mun           0\n",
      "gmaps_longitud    0\n",
      "gmaps_latitud     0\n",
      "dtype: int64\n"
     ]
    }
   ],
   "source": [
    "print(\"Valores faltantes por columna:\")\n",
    "print(df.isnull().sum())"
   ]
  },
  {
   "cell_type": "markdown",
   "id": "8bd04944",
   "metadata": {},
   "source": [
    "- Eliminar filas con valores nulos"
   ]
  },
  {
   "cell_type": "code",
   "execution_count": 15,
   "id": "cc5acaab",
   "metadata": {},
   "outputs": [],
   "source": [
    "df = df.dropna()"
   ]
  },
  {
   "cell_type": "markdown",
   "id": "66a4a846",
   "metadata": {},
   "source": [
    "Observar los datos faltantes por columna del DataFrame"
   ]
  },
  {
   "cell_type": "code",
   "execution_count": 16,
   "id": "1784f844",
   "metadata": {},
   "outputs": [
    {
     "name": "stdout",
     "output_type": "stream",
     "text": [
      "Valores faltantes por columna:\n",
      "galeria_id        0\n",
      "galeria_nombre    0\n",
      "municipio_id      0\n",
      "nom_mun           0\n",
      "gmaps_longitud    0\n",
      "gmaps_latitud     0\n",
      "dtype: int64\n"
     ]
    }
   ],
   "source": [
    "print(\"Valores faltantes por columna:\")\n",
    "print(df.isnull().sum())"
   ]
  },
  {
   "cell_type": "markdown",
   "id": "ff1f8b9a",
   "metadata": {},
   "source": [
    "- Reiniciar índice del DataFrame resultante"
   ]
  },
  {
   "cell_type": "code",
   "execution_count": 17,
   "id": "19873cdb",
   "metadata": {},
   "outputs": [],
   "source": [
    "df = df.reset_index(drop=True)"
   ]
  },
  {
   "cell_type": "markdown",
   "id": "f2134178",
   "metadata": {},
   "source": [
    "- Verificar los registros del CSV actualizado"
   ]
  },
  {
   "cell_type": "code",
   "execution_count": 18,
   "id": "383b5c0d",
   "metadata": {},
   "outputs": [
    {
     "name": "stdout",
     "output_type": "stream",
     "text": [
      "   galeria_id                                     galeria_nombre  \\\n",
      "0        2121  Galería del Centro Regional de Cultura Atizapá...   \n",
      "1        1424           Galeria de Arte del Genoma Mesoamericano   \n",
      "2         896    Galería de la Alianza Francesa, Suc. Interlomas   \n",
      "3         370            Galería de Arte y Antiguedades Tarentum   \n",
      "4         278                         Recoleta Gouda Art Gallery   \n",
      "\n",
      "   municipio_id               nom_mun  gmaps_longitud  gmaps_latitud  \n",
      "0            13  Atizapán de Zaragoza       -99.23544       19.57215  \n",
      "1            33   Ecatepec de Morelos       -99.05199       19.59686  \n",
      "2            37          Huixquilucan       -99.26934       19.40277  \n",
      "3            37          Huixquilucan       -99.27008       19.40219  \n",
      "4            37          Huixquilucan       -99.27047       19.40121  \n"
     ]
    }
   ],
   "source": [
    "print(df.head())"
   ]
  },
  {
   "cell_type": "markdown",
   "id": "1a00592c",
   "metadata": {},
   "source": [
    "Guardar el nuevo CSV ya preprocesado"
   ]
  },
  {
   "cell_type": "code",
   "execution_count": 19,
   "id": "22a8d293",
   "metadata": {},
   "outputs": [
    {
     "name": "stdout",
     "output_type": "stream",
     "text": [
      "\n",
      "Archivo 'Galeria.csv' guardado exitosamente en el directorio actual!\n"
     ]
    }
   ],
   "source": [
    "nombre_archivo = 'Galeria.csv'\n",
    "df.to_csv(nombre_archivo, index=False, encoding='utf-8')\n",
    "\n",
    "print(f\"\\nArchivo '{nombre_archivo}' guardado exitosamente en el directorio actual!\")"
   ]
  }
 ],
 "metadata": {
  "kernelspec": {
   "display_name": "Python 3",
   "language": "python",
   "name": "python3"
  },
  "language_info": {
   "codemirror_mode": {
    "name": "ipython",
    "version": 3
   },
   "file_extension": ".py",
   "mimetype": "text/x-python",
   "name": "python",
   "nbconvert_exporter": "python",
   "pygments_lexer": "ipython3",
   "version": "3.12.0"
  }
 },
 "nbformat": 4,
 "nbformat_minor": 5
}
