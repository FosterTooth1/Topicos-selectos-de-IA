{
 "cells": [
  {
   "cell_type": "markdown",
   "id": "ccaa7dc1",
   "metadata": {},
   "source": [
    "Importación de Librerias"
   ]
  },
  {
   "cell_type": "code",
   "execution_count": 72,
   "id": "a4809310",
   "metadata": {},
   "outputs": [],
   "source": [
    "import pandas as pd\n",
    "import matplotlib.pyplot as plt\n",
    "import seaborn as sns"
   ]
  },
  {
   "cell_type": "markdown",
   "id": "11581973",
   "metadata": {},
   "source": [
    "Cargar los datos (Codificación del CSV latin1)"
   ]
  },
  {
   "cell_type": "code",
   "execution_count": 73,
   "id": "da430a2b",
   "metadata": {},
   "outputs": [],
   "source": [
    "df = pd.read_csv('centro_cultural_directorio.csv', encoding='latin1')"
   ]
  },
  {
   "cell_type": "markdown",
   "id": "ab9c0420",
   "metadata": {},
   "source": [
    "Imprimir las primeras 5 filas para observar el formato del CSV"
   ]
  },
  {
   "cell_type": "code",
   "execution_count": 74,
   "id": "80a6468a",
   "metadata": {},
   "outputs": [
    {
     "name": "stdout",
     "output_type": "stream",
     "text": [
      "   centro_cultural_id                             centro_cultural_nombre  \\\n",
      "0                 289  Centro Regional de Cultura de Acambay Dr. Maxi...   \n",
      "1                 367                          Casa de Cultura Aculmaitl   \n",
      "2                 959                             Casa de Cultura Aculco   \n",
      "3                2218          Casa de Cultura Lic. César Camacho Quiroz   \n",
      "4                2220          Casa de Cultura Ignacio Manuel Altamirano   \n",
      "\n",
      "  centro_cultural_fecha_fundacion  \\\n",
      "0                      1978-11-01   \n",
      "1                      1992-01-01   \n",
      "2                      1996-12-10   \n",
      "3                      2000-08-01   \n",
      "4                      1980-04-13   \n",
      "\n",
      "                         centro_cultural_adscripcion  estado_id nom_ent  \\\n",
      "0  Secretaría de Cultura y Turismo  del Gobierno ...         15  México   \n",
      "1                            Ayuntamiento de Acolman         15  México   \n",
      "2                             Ayuntamiento de Aculco         15  México   \n",
      "3             Ayuntamiento de Almoloya de Alquisiras         15  México   \n",
      "4                   Ayuntamiento de Almoloya del Río         15  México   \n",
      "\n",
      "   municipio_id                    nom_mun  localidad_id  \\\n",
      "0             1  Acambay de Ruíz Castañeda             1   \n",
      "1             2                    Acolman             1   \n",
      "2             3                     Aculco             1   \n",
      "3             4     Almoloya de Alquisiras             1   \n",
      "4             6           Almoloya del Río             1   \n",
      "\n",
      "                              nom_loc  \\\n",
      "0  Villa de Acambay de Ruíz Castañeda   \n",
      "1           Acolman de Nezahualcóyotl   \n",
      "2                  Aculco de Espinoza   \n",
      "3              Almoloya de Alquisiras   \n",
      "4                    Almoloya del Río   \n",
      "\n",
      "                 centro_cultural_calle_numero centro_cultural_colonia  \\\n",
      "0  Dra. María Luisa Ochoa de Ruiz Castañeda 9                  Centro   \n",
      "1                  Calz. de los Agustinos s/n                  Centro   \n",
      "2           Av. Manuel del Mazo 4 esq. Pípila                  Centro   \n",
      "3                           Benito Juárez s/n           Col. Saltepec   \n",
      "4                      Plaza Chignahuapan s/n                  Centro   \n",
      "\n",
      "   centro_cultural_cp centro_cultural_telefono1  \\\n",
      "0             50300.0             718 127 06 64   \n",
      "1             55870.0  (595) 957 00 50 ext. 138   \n",
      "2             50360.0                7121439626   \n",
      "3             51860.0             716 144 51 96   \n",
      "4             52540.0             713 131 79 11   \n",
      "\n",
      "                                          pagina_web  \\\n",
      "0  https://patrimonioyserviciosc.edomex.gob.mx/ac...   \n",
      "1                                                NaN   \n",
      "2  http://aculco.azurewebsites.net/Casa_de_cultur...   \n",
      "3                                                NaN   \n",
      "4  https://almoloyadelrio.gob.mx/casa-de-cultura-...   \n",
      "\n",
      "                                               email  gmaps_longitud  \\\n",
      "0                            acambayimc@yahoo.com.mx       -99.84527   \n",
      "1                  comunicacionsocial@acolman.gob.mx       -98.91201   \n",
      "2             educacionycultura.aculco2224@gmail.com       -99.82740   \n",
      "3  casadeculturaalmoloyadealquisiras2019@hotmail.com         0.00000   \n",
      "4  casadecultalmoloya@gmail.com; presidencia@almo...       -99.48889   \n",
      "\n",
      "   gmaps_latitud                                           link_sic  \\\n",
      "0       19.95399  http://sic.gob.mx/ficha.php?table=centro_cultu...   \n",
      "1       19.63406  http://sic.gob.mx/ficha.php?table=centro_cultu...   \n",
      "2       20.09893  http://sic.gob.mx/ficha.php?table=centro_cultu...   \n",
      "3        0.00000  http://sic.gob.mx/ficha.php?table=centro_cultu...   \n",
      "4       19.15949  http://sic.gob.mx/ficha.php?table=centro_cultu...   \n",
      "\n",
      "                fecha_mod  \n",
      "0  2024-09-06 13:14:10-06  \n",
      "1  2019-11-11 05:01:14-06  \n",
      "2  2023-07-14 04:39:48-06  \n",
      "3  2021-08-23 06:48:09-05  \n",
      "4  2025-05-22 12:53:44-06  \n"
     ]
    }
   ],
   "source": [
    "print(df.head())"
   ]
  },
  {
   "cell_type": "markdown",
   "id": "845b75e1",
   "metadata": {},
   "source": [
    "Imprimir las ultimas 5 filas para observar el formato del CSV"
   ]
  },
  {
   "cell_type": "code",
   "execution_count": 75,
   "id": "13d37d70",
   "metadata": {},
   "outputs": [
    {
     "name": "stdout",
     "output_type": "stream",
     "text": [
      "     centro_cultural_id                             centro_cultural_nombre  \\\n",
      "188                 301  Casa de la Cultura Joaquín Velázquez Cárdenas ...   \n",
      "189                2266                     Casa de Cultura Matilde Zuñiga   \n",
      "190                 588                 Casa de la Cultura Wenceslao Labra   \n",
      "191                1227   Centro Regional de Cultura de Cuautitlán Izcalli   \n",
      "192                3769                       Casa de Cultura de Tononitla   \n",
      "\n",
      "    centro_cultural_fecha_fundacion  \\\n",
      "188                      1996-01-01   \n",
      "189                      2002-03-19   \n",
      "190                      1989-07-01   \n",
      "191                      1985-12-17   \n",
      "192                      1000-01-01   \n",
      "\n",
      "                           centro_cultural_adscripcion  estado_id nom_ent  \\\n",
      "188         Secretaría de Cultura del Estado de México         15  México   \n",
      "189                       Ayuntamiento de Zinacantepec         15  México   \n",
      "190      Ayuntamiento de Zumpango/Dirección de Cultura         15  México   \n",
      "191  Secretaría de Cultura y Deporte del Estado de ...         15  México   \n",
      "192                          Ayuntamiento de Tonanitla         15  México   \n",
      "\n",
      "     municipio_id             nom_mun  localidad_id                  nom_loc  \\\n",
      "188           117           Zacualpan             1                Zacualpan   \n",
      "189           118        Zinacantepec             1  San Miguel Zinacantepec   \n",
      "190           120            Zumpango             1       Zumpango de Ocampo   \n",
      "191           121  Cuautitlán Izcalli             1       Cuautitlán Izcalli   \n",
      "192           125           Tonanitla             1    Santa María Tonanitla   \n",
      "\n",
      "    centro_cultural_calle_numero          centro_cultural_colonia  \\\n",
      "188        Plaza del Panteón s/n                              NaN   \n",
      "189            Benito Juárez 205             Barrio de San Miguel   \n",
      "190                Zaragoza s/n   Barrio de Santiago 1ra. Sección   \n",
      "191         Av. Huixquilucan s/n                    Centro Urbano   \n",
      "192      Av. 20 de Noviembre s/n                           Centro   \n",
      "\n",
      "     centro_cultural_cp centro_cultural_telefono1  \\\n",
      "188             51800.0              721 147 7059   \n",
      "189             31350.0           (722) 190 44 91   \n",
      "190             55600.0             591 917 00 16   \n",
      "191             54730.0              55 5871 5316   \n",
      "192             55785.0              55 4220 5537   \n",
      "\n",
      "                                            pagina_web  \\\n",
      "188  https://ipomex2.ipomex.org.mx/ipo3/lgt/indice/...   \n",
      "189                     http://www.zinacantepec.gob.mx   \n",
      "190                                                NaN   \n",
      "191                                                NaN   \n",
      "192                                                NaN   \n",
      "\n",
      "                                  email  gmaps_longitud  gmaps_latitud  \\\n",
      "188          co_educacion2022@gmail.com       -99.77493       18.72368   \n",
      "189         casadeculturaMZ@hotmail.com         0.00000        0.00000   \n",
      "190         educacionjefatura@gmail.com       -99.10123       19.79969   \n",
      "191   cuautitlanizcalliimc@yahoo.com.mx       -99.20536       19.65810   \n",
      "192  educacionycultura@tonanitla.gob.mx       -99.05064       19.68721   \n",
      "\n",
      "                                              link_sic               fecha_mod  \n",
      "188  http://sic.gob.mx/ficha.php?table=centro_cultu...  2023-08-15 05:51:57-06  \n",
      "189  http://sic.gob.mx/ficha.php?table=centro_cultu...  2018-09-24 08:06:24-05  \n",
      "190  http://sic.gob.mx/ficha.php?table=centro_cultu...  2024-01-24 07:21:35-06  \n",
      "191  http://sic.gob.mx/ficha.php?table=centro_cultu...  2025-04-23 13:08:38-06  \n",
      "192  http://sic.gob.mx/ficha.php?table=centro_cultu...  2024-05-09 11:10:57-06  \n"
     ]
    }
   ],
   "source": [
    "print(df.tail())"
   ]
  },
  {
   "cell_type": "markdown",
   "id": "9ef3e41d",
   "metadata": {},
   "source": [
    "Imprimir las columnas del CSV con su respectivo tipo de dato"
   ]
  },
  {
   "cell_type": "code",
   "execution_count": 76,
   "id": "53e1482c",
   "metadata": {},
   "outputs": [
    {
     "name": "stdout",
     "output_type": "stream",
     "text": [
      "<class 'pandas.core.frame.DataFrame'>\n",
      "RangeIndex: 193 entries, 0 to 192\n",
      "Data columns (total 20 columns):\n",
      " #   Column                           Non-Null Count  Dtype  \n",
      "---  ------                           --------------  -----  \n",
      " 0   centro_cultural_id               193 non-null    int64  \n",
      " 1   centro_cultural_nombre           193 non-null    object \n",
      " 2   centro_cultural_fecha_fundacion  193 non-null    object \n",
      " 3   centro_cultural_adscripcion      190 non-null    object \n",
      " 4   estado_id                        193 non-null    int64  \n",
      " 5   nom_ent                          193 non-null    object \n",
      " 6   municipio_id                     193 non-null    int64  \n",
      " 7   nom_mun                          193 non-null    object \n",
      " 8   localidad_id                     193 non-null    int64  \n",
      " 9   nom_loc                          193 non-null    object \n",
      " 10  centro_cultural_calle_numero     192 non-null    object \n",
      " 11  centro_cultural_colonia          181 non-null    object \n",
      " 12  centro_cultural_cp               190 non-null    float64\n",
      " 13  centro_cultural_telefono1        184 non-null    object \n",
      " 14  pagina_web                       83 non-null     object \n",
      " 15  email                            158 non-null    object \n",
      " 16  gmaps_longitud                   193 non-null    float64\n",
      " 17  gmaps_latitud                    193 non-null    float64\n",
      " 18  link_sic                         193 non-null    object \n",
      " 19  fecha_mod                        193 non-null    object \n",
      "dtypes: float64(3), int64(4), object(13)\n",
      "memory usage: 30.3+ KB\n",
      "None\n"
     ]
    }
   ],
   "source": [
    "print(df.info())"
   ]
  },
  {
   "cell_type": "markdown",
   "id": "46b0fb7e",
   "metadata": {},
   "source": [
    "Visualizar los valores unicos por columna"
   ]
  },
  {
   "cell_type": "code",
   "execution_count": 77,
   "id": "e33f1468",
   "metadata": {},
   "outputs": [
    {
     "name": "stdout",
     "output_type": "stream",
     "text": [
      "Valores únicos por columna:\n",
      "centro_cultural_id                 193\n",
      "centro_cultural_nombre             188\n",
      "centro_cultural_fecha_fundacion    162\n",
      "centro_cultural_adscripcion        128\n",
      "estado_id                            1\n",
      "nom_ent                              1\n",
      "municipio_id                       110\n",
      "nom_mun                            110\n",
      "localidad_id                        12\n",
      "nom_loc                            119\n",
      "centro_cultural_calle_numero       184\n",
      "centro_cultural_colonia            109\n",
      "centro_cultural_cp                 159\n",
      "centro_cultural_telefono1          168\n",
      "pagina_web                          76\n",
      "email                              145\n",
      "gmaps_longitud                     135\n",
      "gmaps_latitud                      135\n",
      "link_sic                           193\n",
      "fecha_mod                          193\n",
      "dtype: int64\n"
     ]
    }
   ],
   "source": [
    "print(\"Valores únicos por columna:\")\n",
    "print(df.nunique())"
   ]
  },
  {
   "cell_type": "markdown",
   "id": "3863e823",
   "metadata": {},
   "source": [
    "Filtramos el DataFrame con el estado que nos interesa"
   ]
  },
  {
   "cell_type": "code",
   "execution_count": 78,
   "id": "61345ae5",
   "metadata": {},
   "outputs": [],
   "source": [
    "df = df[df['estado_id'] == 15]"
   ]
  },
  {
   "cell_type": "markdown",
   "id": "4406e8c2",
   "metadata": {},
   "source": [
    "Reiniciar índice del DataFrame resultante"
   ]
  },
  {
   "cell_type": "code",
   "execution_count": 79,
   "id": "890504e4",
   "metadata": {},
   "outputs": [],
   "source": [
    "df = df.reset_index(drop=True)"
   ]
  },
  {
   "cell_type": "markdown",
   "id": "05023883",
   "metadata": {},
   "source": [
    "Verificar los registros del CSV actualizado"
   ]
  },
  {
   "cell_type": "code",
   "execution_count": 80,
   "id": "69740e87",
   "metadata": {},
   "outputs": [
    {
     "name": "stdout",
     "output_type": "stream",
     "text": [
      "   centro_cultural_id                             centro_cultural_nombre  \\\n",
      "0                 289  Centro Regional de Cultura de Acambay Dr. Maxi...   \n",
      "1                 367                          Casa de Cultura Aculmaitl   \n",
      "2                 959                             Casa de Cultura Aculco   \n",
      "3                2218          Casa de Cultura Lic. César Camacho Quiroz   \n",
      "4                2220          Casa de Cultura Ignacio Manuel Altamirano   \n",
      "\n",
      "  centro_cultural_fecha_fundacion  \\\n",
      "0                      1978-11-01   \n",
      "1                      1992-01-01   \n",
      "2                      1996-12-10   \n",
      "3                      2000-08-01   \n",
      "4                      1980-04-13   \n",
      "\n",
      "                         centro_cultural_adscripcion  estado_id nom_ent  \\\n",
      "0  Secretaría de Cultura y Turismo  del Gobierno ...         15  México   \n",
      "1                            Ayuntamiento de Acolman         15  México   \n",
      "2                             Ayuntamiento de Aculco         15  México   \n",
      "3             Ayuntamiento de Almoloya de Alquisiras         15  México   \n",
      "4                   Ayuntamiento de Almoloya del Río         15  México   \n",
      "\n",
      "   municipio_id                    nom_mun  localidad_id  \\\n",
      "0             1  Acambay de Ruíz Castañeda             1   \n",
      "1             2                    Acolman             1   \n",
      "2             3                     Aculco             1   \n",
      "3             4     Almoloya de Alquisiras             1   \n",
      "4             6           Almoloya del Río             1   \n",
      "\n",
      "                              nom_loc  \\\n",
      "0  Villa de Acambay de Ruíz Castañeda   \n",
      "1           Acolman de Nezahualcóyotl   \n",
      "2                  Aculco de Espinoza   \n",
      "3              Almoloya de Alquisiras   \n",
      "4                    Almoloya del Río   \n",
      "\n",
      "                 centro_cultural_calle_numero centro_cultural_colonia  \\\n",
      "0  Dra. María Luisa Ochoa de Ruiz Castañeda 9                  Centro   \n",
      "1                  Calz. de los Agustinos s/n                  Centro   \n",
      "2           Av. Manuel del Mazo 4 esq. Pípila                  Centro   \n",
      "3                           Benito Juárez s/n           Col. Saltepec   \n",
      "4                      Plaza Chignahuapan s/n                  Centro   \n",
      "\n",
      "   centro_cultural_cp centro_cultural_telefono1  \\\n",
      "0             50300.0             718 127 06 64   \n",
      "1             55870.0  (595) 957 00 50 ext. 138   \n",
      "2             50360.0                7121439626   \n",
      "3             51860.0             716 144 51 96   \n",
      "4             52540.0             713 131 79 11   \n",
      "\n",
      "                                          pagina_web  \\\n",
      "0  https://patrimonioyserviciosc.edomex.gob.mx/ac...   \n",
      "1                                                NaN   \n",
      "2  http://aculco.azurewebsites.net/Casa_de_cultur...   \n",
      "3                                                NaN   \n",
      "4  https://almoloyadelrio.gob.mx/casa-de-cultura-...   \n",
      "\n",
      "                                               email  gmaps_longitud  \\\n",
      "0                            acambayimc@yahoo.com.mx       -99.84527   \n",
      "1                  comunicacionsocial@acolman.gob.mx       -98.91201   \n",
      "2             educacionycultura.aculco2224@gmail.com       -99.82740   \n",
      "3  casadeculturaalmoloyadealquisiras2019@hotmail.com         0.00000   \n",
      "4  casadecultalmoloya@gmail.com; presidencia@almo...       -99.48889   \n",
      "\n",
      "   gmaps_latitud                                           link_sic  \\\n",
      "0       19.95399  http://sic.gob.mx/ficha.php?table=centro_cultu...   \n",
      "1       19.63406  http://sic.gob.mx/ficha.php?table=centro_cultu...   \n",
      "2       20.09893  http://sic.gob.mx/ficha.php?table=centro_cultu...   \n",
      "3        0.00000  http://sic.gob.mx/ficha.php?table=centro_cultu...   \n",
      "4       19.15949  http://sic.gob.mx/ficha.php?table=centro_cultu...   \n",
      "\n",
      "                fecha_mod  \n",
      "0  2024-09-06 13:14:10-06  \n",
      "1  2019-11-11 05:01:14-06  \n",
      "2  2023-07-14 04:39:48-06  \n",
      "3  2021-08-23 06:48:09-05  \n",
      "4  2025-05-22 12:53:44-06  \n"
     ]
    }
   ],
   "source": [
    "print(df.head())"
   ]
  },
  {
   "cell_type": "markdown",
   "id": "ffef1e6e",
   "metadata": {},
   "source": [
    "Definimos las columnas del dataset a conservar"
   ]
  },
  {
   "cell_type": "code",
   "execution_count": 81,
   "id": "d945d532",
   "metadata": {},
   "outputs": [],
   "source": [
    "columnas_conservar = [\n",
    "    'centro_cultural_id',\n",
    "    'centro_cultural_nombre',\n",
    "    'municipio_id',\n",
    "    'nom_mun',\n",
    "    'gmaps_longitud',\n",
    "    'gmaps_latitud'\n",
    "]"
   ]
  },
  {
   "cell_type": "markdown",
   "id": "cb4c0152",
   "metadata": {},
   "source": [
    "Conservamos solo estas columnas"
   ]
  },
  {
   "cell_type": "code",
   "execution_count": 82,
   "id": "a955ff82",
   "metadata": {},
   "outputs": [],
   "source": [
    "df = df[columnas_conservar]"
   ]
  },
  {
   "cell_type": "markdown",
   "id": "14b4f9c1",
   "metadata": {},
   "source": [
    "Reiniciar indice del Dataset resultante"
   ]
  },
  {
   "cell_type": "code",
   "execution_count": 83,
   "id": "e81dc0b7",
   "metadata": {},
   "outputs": [],
   "source": [
    "df = df.reset_index(drop=True)"
   ]
  },
  {
   "cell_type": "markdown",
   "id": "ea6b0d9a",
   "metadata": {},
   "source": [
    "Verificar los registros del CSV actualizado"
   ]
  },
  {
   "cell_type": "code",
   "execution_count": 84,
   "id": "26af60d4",
   "metadata": {},
   "outputs": [
    {
     "name": "stdout",
     "output_type": "stream",
     "text": [
      "   centro_cultural_id                             centro_cultural_nombre  \\\n",
      "0                 289  Centro Regional de Cultura de Acambay Dr. Maxi...   \n",
      "1                 367                          Casa de Cultura Aculmaitl   \n",
      "2                 959                             Casa de Cultura Aculco   \n",
      "3                2218          Casa de Cultura Lic. César Camacho Quiroz   \n",
      "4                2220          Casa de Cultura Ignacio Manuel Altamirano   \n",
      "\n",
      "   municipio_id                    nom_mun  gmaps_longitud  gmaps_latitud  \n",
      "0             1  Acambay de Ruíz Castañeda       -99.84527       19.95399  \n",
      "1             2                    Acolman       -98.91201       19.63406  \n",
      "2             3                     Aculco       -99.82740       20.09893  \n",
      "3             4     Almoloya de Alquisiras         0.00000        0.00000  \n",
      "4             6           Almoloya del Río       -99.48889       19.15949  \n"
     ]
    }
   ],
   "source": [
    "print(df.head())"
   ]
  },
  {
   "cell_type": "markdown",
   "id": "f56af927",
   "metadata": {},
   "source": [
    "Observar los datos faltantes por columna del DataFrame"
   ]
  },
  {
   "cell_type": "code",
   "execution_count": 85,
   "id": "427f6621",
   "metadata": {},
   "outputs": [
    {
     "name": "stdout",
     "output_type": "stream",
     "text": [
      "Valores faltantes por columna:\n",
      "centro_cultural_id        0\n",
      "centro_cultural_nombre    0\n",
      "municipio_id              0\n",
      "nom_mun                   0\n",
      "gmaps_longitud            0\n",
      "gmaps_latitud             0\n",
      "dtype: int64\n"
     ]
    }
   ],
   "source": [
    "print(\"Valores faltantes por columna:\")\n",
    "print(df.isnull().sum())"
   ]
  },
  {
   "cell_type": "markdown",
   "id": "8bd04944",
   "metadata": {},
   "source": [
    "- Eliminar filas con valores nulos"
   ]
  },
  {
   "cell_type": "code",
   "execution_count": 86,
   "id": "cc5acaab",
   "metadata": {},
   "outputs": [],
   "source": [
    "df = df.dropna()"
   ]
  },
  {
   "cell_type": "markdown",
   "id": "66a4a846",
   "metadata": {},
   "source": [
    "Observar los datos faltantes por columna del DataFrame"
   ]
  },
  {
   "cell_type": "code",
   "execution_count": 87,
   "id": "1784f844",
   "metadata": {},
   "outputs": [
    {
     "name": "stdout",
     "output_type": "stream",
     "text": [
      "Valores faltantes por columna:\n",
      "centro_cultural_id        0\n",
      "centro_cultural_nombre    0\n",
      "municipio_id              0\n",
      "nom_mun                   0\n",
      "gmaps_longitud            0\n",
      "gmaps_latitud             0\n",
      "dtype: int64\n"
     ]
    }
   ],
   "source": [
    "print(\"Valores faltantes por columna:\")\n",
    "print(df.isnull().sum())"
   ]
  },
  {
   "cell_type": "markdown",
   "id": "ff1f8b9a",
   "metadata": {},
   "source": [
    "- Reiniciar índice del DataFrame resultante"
   ]
  },
  {
   "cell_type": "code",
   "execution_count": 88,
   "id": "19873cdb",
   "metadata": {},
   "outputs": [],
   "source": [
    "df = df.reset_index(drop=True)"
   ]
  },
  {
   "cell_type": "markdown",
   "id": "f2134178",
   "metadata": {},
   "source": [
    "- Verificar los registros del CSV actualizado"
   ]
  },
  {
   "cell_type": "code",
   "execution_count": 89,
   "id": "383b5c0d",
   "metadata": {},
   "outputs": [
    {
     "name": "stdout",
     "output_type": "stream",
     "text": [
      "   centro_cultural_id                             centro_cultural_nombre  \\\n",
      "0                 289  Centro Regional de Cultura de Acambay Dr. Maxi...   \n",
      "1                 367                          Casa de Cultura Aculmaitl   \n",
      "2                 959                             Casa de Cultura Aculco   \n",
      "3                2218          Casa de Cultura Lic. César Camacho Quiroz   \n",
      "4                2220          Casa de Cultura Ignacio Manuel Altamirano   \n",
      "\n",
      "   municipio_id                    nom_mun  gmaps_longitud  gmaps_latitud  \n",
      "0             1  Acambay de Ruíz Castañeda       -99.84527       19.95399  \n",
      "1             2                    Acolman       -98.91201       19.63406  \n",
      "2             3                     Aculco       -99.82740       20.09893  \n",
      "3             4     Almoloya de Alquisiras         0.00000        0.00000  \n",
      "4             6           Almoloya del Río       -99.48889       19.15949  \n"
     ]
    }
   ],
   "source": [
    "print(df.head())"
   ]
  },
  {
   "cell_type": "markdown",
   "id": "1a00592c",
   "metadata": {},
   "source": [
    "Guardar el nuevo CSV ya preprocesado"
   ]
  },
  {
   "cell_type": "code",
   "execution_count": 90,
   "id": "22a8d293",
   "metadata": {},
   "outputs": [
    {
     "name": "stdout",
     "output_type": "stream",
     "text": [
      "\n",
      "Archivo 'Centros_culturales.csv' guardado exitosamente en el directorio actual!\n"
     ]
    }
   ],
   "source": [
    "nombre_archivo = 'Centros_culturales.csv'\n",
    "df.to_csv(nombre_archivo, index=False, encoding='utf-8')\n",
    "\n",
    "print(f\"\\nArchivo '{nombre_archivo}' guardado exitosamente en el directorio actual!\")"
   ]
  }
 ],
 "metadata": {
  "kernelspec": {
   "display_name": "Python 3",
   "language": "python",
   "name": "python3"
  },
  "language_info": {
   "codemirror_mode": {
    "name": "ipython",
    "version": 3
   },
   "file_extension": ".py",
   "mimetype": "text/x-python",
   "name": "python",
   "nbconvert_exporter": "python",
   "pygments_lexer": "ipython3",
   "version": "3.12.0"
  }
 },
 "nbformat": 4,
 "nbformat_minor": 5
}
