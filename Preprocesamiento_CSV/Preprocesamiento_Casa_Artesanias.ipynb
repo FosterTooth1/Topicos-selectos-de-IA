{
 "cells": [
  {
   "cell_type": "markdown",
   "id": "ccaa7dc1",
   "metadata": {},
   "source": [
    "Importación de Librerias"
   ]
  },
  {
   "cell_type": "code",
   "execution_count": 12,
   "id": "a4809310",
   "metadata": {},
   "outputs": [],
   "source": [
    "import pandas as pd\n",
    "import matplotlib.pyplot as plt\n",
    "import seaborn as sns"
   ]
  },
  {
   "cell_type": "markdown",
   "id": "11581973",
   "metadata": {},
   "source": [
    "Cargar los datos (Codificación del CSV latin1)"
   ]
  },
  {
   "cell_type": "code",
   "execution_count": 13,
   "id": "da430a2b",
   "metadata": {},
   "outputs": [],
   "source": [
    "df = pd.read_csv('casa_artesania_directorio.csv', encoding='latin1')"
   ]
  },
  {
   "cell_type": "markdown",
   "id": "ab9c0420",
   "metadata": {},
   "source": [
    "Imprimir las primeras 5 filas para observar el formato del CSV"
   ]
  },
  {
   "cell_type": "code",
   "execution_count": 14,
   "id": "80a6468a",
   "metadata": {},
   "outputs": [
    {
     "name": "stdout",
     "output_type": "stream",
     "text": [
      "   casa_artesania_id                             casa_artesania_nombre  \\\n",
      "0                250                                 Casa del Artesano   \n",
      "1                 34  Casa de Artesanías del Centro de Artes y Oficios   \n",
      "2                222             Casa de las Artesanías Aguascalientes   \n",
      "3                284                        Casa del Artesano Calvillo   \n",
      "4                282                            Cecut Arte Tradicional   \n",
      "\n",
      "                          casa_artesania_adscripcion  estado_id  \\\n",
      "0  Asociación de Artesanos y Manualidades de Agua...          1   \n",
      "1         Instituto Cultural de Aguascalientes (ICA)          1   \n",
      "2              Casa de las Artesanías Aguascalientes          1   \n",
      "3                              Municipio de Calvillo          1   \n",
      "4                            Centro Cultural Tijuana          2   \n",
      "\n",
      "           nom_ent  municipio_id         nom_mun  localidad_id  \\\n",
      "0   Aguascalientes             1  Aguascalientes             1   \n",
      "1   Aguascalientes             1  Aguascalientes             1   \n",
      "2   Aguascalientes             1  Aguascalientes             1   \n",
      "3   Aguascalientes             3        Calvillo             1   \n",
      "4  Baja California             4         Tijuana             1   \n",
      "\n",
      "          nom_loc                      casa_artesania_calle_numero  \\\n",
      "0  Aguascalientes                                        Nieto 210   \n",
      "1  Aguascalientes  Héroe de Nacozari 601 Nte. esq. Ventura Salazar   \n",
      "2  Aguascalientes                              Manuel M. Ponce 134   \n",
      "3        Calvillo                                     Zaragoza 300   \n",
      "4         Tijuana                         Paseo de los Héroes 9350   \n",
      "\n",
      "  casa_artesania_colonia  casa_artesania_cp  casa_artesania_telfono1  \\\n",
      "0                 Centro            20000.0                      NaN   \n",
      "1  Barrio de la Estación            20254.0                      NaN   \n",
      "2   Barrio de San Marcos            20070.0                      NaN   \n",
      "3                 Centro            20800.0                      NaN   \n",
      "4        Zona Urbana Río            22010.0                      NaN   \n",
      "\n",
      "                                          pagina_web  \\\n",
      "0                                                NaN   \n",
      "1                   http://www.aguascalientes.gob.mx   \n",
      "2  https://www.facebook.com/p/Casa-de-las-Artesan...   \n",
      "3                                                NaN   \n",
      "4                                                NaN   \n",
      "\n",
      "                           email  gmaps_longitud  gmaps_latitud  \\\n",
      "0         enzoluraschi@yahoo.com         0.00000        0.00000   \n",
      "1  artesyoficios1979@hotmail.com      -102.28177       21.88286   \n",
      "2     luisa_muller69@hotmail.com      -102.30350       21.87898   \n",
      "3     fomentoartesanal@gmail.com      -102.71618       21.84665   \n",
      "4                            NaN      -117.02300       32.53040   \n",
      "\n",
      "                                            link_sic               fecha_mod  \n",
      "0  http://sic.gob.mx/ficha.php?table=casa_artesan...  2018-06-20 04:27:02-05  \n",
      "1  http://sic.gob.mx/ficha.php?table=casa_artesan...  2020-03-12 08:16:43-06  \n",
      "2  http://sic.gob.mx/ficha.php?table=casa_artesan...  2024-03-25 10:13:47-06  \n",
      "3  http://sic.gob.mx/ficha.php?table=casa_artesan...  2024-08-01 13:19:42-06  \n",
      "4  http://sic.gob.mx/ficha.php?table=casa_artesan...  2023-02-27 05:50:38-06  \n"
     ]
    }
   ],
   "source": [
    "print(df.head())"
   ]
  },
  {
   "cell_type": "markdown",
   "id": "845b75e1",
   "metadata": {},
   "source": [
    "Imprimir las ultimas 5 filas para observar el formato del CSV"
   ]
  },
  {
   "cell_type": "code",
   "execution_count": 15,
   "id": "13d37d70",
   "metadata": {},
   "outputs": [
    {
     "name": "stdout",
     "output_type": "stream",
     "text": [
      "     casa_artesania_id                              casa_artesania_nombre  \\\n",
      "161                280                                    Sara's Chaquira   \n",
      "162                  8                     Tienda de la Mujer y Artesanía   \n",
      "163                217                Casa de las Artesanías de Zacatecas   \n",
      "164                132  Tienda de la Mujer y Artesanía, Suc. Mesón de ...   \n",
      "165                134  Tienda de la Mujer y Artesanía, Sucursal Cerro...   \n",
      "\n",
      "                            casa_artesania_adscripcion  estado_id    nom_ent  \\\n",
      "161                                                NaN         32  Zacatecas   \n",
      "162                                        DIF Estatal         32  Zacatecas   \n",
      "163  Secretaría de Economía/Subsecretaría de Desarr...         32  Zacatecas   \n",
      "164                                                DIF         32  Zacatecas   \n",
      "165                                                DIF         32  Zacatecas   \n",
      "\n",
      "     municipio_id     nom_mun  localidad_id     nom_loc  \\\n",
      "161            49  Valparaíso             1  Valparaíso   \n",
      "162            56   Zacatecas             1   Zacatecas   \n",
      "163            56   Zacatecas             1   Zacatecas   \n",
      "164            56   Zacatecas             1   Zacatecas   \n",
      "165            56   Zacatecas             1   Zacatecas   \n",
      "\n",
      "                           casa_artesania_calle_numero casa_artesania_colonia  \\\n",
      "161                               José Vasconcelos 30       Col. Magisterial    \n",
      "162  Centro Comercial González Ortega, Tacuba T-4 l...                 Centro   \n",
      "163                                Av. Hidalgo No. 503       Centro Histórico   \n",
      "164      Int. Hotel Mesón de Jovito, Jardín Juárez 143       Centro Histórico   \n",
      "165     Domicilio conocido, Explanada Cerro de la Bufa                    NaN   \n",
      "\n",
      "     casa_artesania_cp  casa_artesania_telfono1  \\\n",
      "161            99254.0                      NaN   \n",
      "162            98000.0                      NaN   \n",
      "163            98000.0                      NaN   \n",
      "164            98000.0                      NaN   \n",
      "165            98000.0                      NaN   \n",
      "\n",
      "                                    pagina_web  \\\n",
      "161    https://www.facebook.com/sarachaquiras/   \n",
      "162                                        NaN   \n",
      "163  http://www.casadelasartesaniaszac.gob.mx/   \n",
      "164                                        NaN   \n",
      "165                                        NaN   \n",
      "\n",
      "                                        email  gmaps_longitud  gmaps_latitud  \\\n",
      "161                        sarabea9@gmail.com      -103.56461       22.77655   \n",
      "162                                       NaN      -102.57266       22.77492   \n",
      "163  casadelasartesaniasdezacatecas@gmail.com        -0.00137        0.00575   \n",
      "164                                       NaN      -102.57527       22.77344   \n",
      "165                                       NaN         0.00000        0.00000   \n",
      "\n",
      "                                              link_sic               fecha_mod  \n",
      "161  http://sic.gob.mx/ficha.php?table=casa_artesan...  2023-02-08 08:00:02-06  \n",
      "162  http://sic.gob.mx/ficha.php?table=casa_artesan...  2023-08-14 06:17:22-06  \n",
      "163  http://sic.gob.mx/ficha.php?table=casa_artesan...  2019-08-20 06:07:35-05  \n",
      "164  http://sic.gob.mx/ficha.php?table=casa_artesan...  2023-06-29 05:46:15-06  \n",
      "165  http://sic.gob.mx/ficha.php?table=casa_artesan...  2021-07-22 07:08:56-05  \n"
     ]
    }
   ],
   "source": [
    "print(df.tail())"
   ]
  },
  {
   "cell_type": "markdown",
   "id": "9ef3e41d",
   "metadata": {},
   "source": [
    "Imprimir las columnas del CSV con su respectivo tipo de dato"
   ]
  },
  {
   "cell_type": "code",
   "execution_count": 16,
   "id": "53e1482c",
   "metadata": {},
   "outputs": [
    {
     "name": "stdout",
     "output_type": "stream",
     "text": [
      "<class 'pandas.core.frame.DataFrame'>\n",
      "RangeIndex: 166 entries, 0 to 165\n",
      "Data columns (total 19 columns):\n",
      " #   Column                       Non-Null Count  Dtype  \n",
      "---  ------                       --------------  -----  \n",
      " 0   casa_artesania_id            166 non-null    int64  \n",
      " 1   casa_artesania_nombre        166 non-null    object \n",
      " 2   casa_artesania_adscripcion   137 non-null    object \n",
      " 3   estado_id                    166 non-null    int64  \n",
      " 4   nom_ent                      166 non-null    object \n",
      " 5   municipio_id                 166 non-null    int64  \n",
      " 6   nom_mun                      166 non-null    object \n",
      " 7   localidad_id                 166 non-null    int64  \n",
      " 8   nom_loc                      166 non-null    object \n",
      " 9   casa_artesania_calle_numero  164 non-null    object \n",
      " 10  casa_artesania_colonia       159 non-null    object \n",
      " 11  casa_artesania_cp            162 non-null    float64\n",
      " 12  casa_artesania_telfono1      0 non-null      float64\n",
      " 13  pagina_web                   91 non-null     object \n",
      " 14  email                        106 non-null    object \n",
      " 15  gmaps_longitud               166 non-null    float64\n",
      " 16  gmaps_latitud                166 non-null    float64\n",
      " 17  link_sic                     166 non-null    object \n",
      " 18  fecha_mod                    166 non-null    object \n",
      "dtypes: float64(4), int64(4), object(11)\n",
      "memory usage: 24.8+ KB\n",
      "None\n"
     ]
    }
   ],
   "source": [
    "print(df.info())"
   ]
  },
  {
   "cell_type": "markdown",
   "id": "46b0fb7e",
   "metadata": {},
   "source": [
    "Visualizar los valores unicos por columna"
   ]
  },
  {
   "cell_type": "code",
   "execution_count": 17,
   "id": "e33f1468",
   "metadata": {},
   "outputs": [
    {
     "name": "stdout",
     "output_type": "stream",
     "text": [
      "Valores únicos por columna:\n",
      "casa_artesania_id              166\n",
      "casa_artesania_nombre          165\n",
      "casa_artesania_adscripcion      84\n",
      "estado_id                       25\n",
      "nom_ent                         25\n",
      "municipio_id                    56\n",
      "nom_mun                         83\n",
      "localidad_id                    10\n",
      "nom_loc                         84\n",
      "casa_artesania_calle_numero    160\n",
      "casa_artesania_colonia          68\n",
      "casa_artesania_cp              101\n",
      "casa_artesania_telfono1          0\n",
      "pagina_web                      78\n",
      "email                           97\n",
      "gmaps_longitud                 137\n",
      "gmaps_latitud                  135\n",
      "link_sic                       166\n",
      "fecha_mod                      166\n",
      "dtype: int64\n"
     ]
    }
   ],
   "source": [
    "print(\"Valores únicos por columna:\")\n",
    "print(df.nunique())"
   ]
  },
  {
   "cell_type": "markdown",
   "id": "3863e823",
   "metadata": {},
   "source": [
    "Filtramos el DataFrame con el estado que nos interesa"
   ]
  },
  {
   "cell_type": "code",
   "execution_count": 18,
   "id": "61345ae5",
   "metadata": {},
   "outputs": [],
   "source": [
    "df = df[df['estado_id'] == 15]"
   ]
  },
  {
   "cell_type": "markdown",
   "id": "4406e8c2",
   "metadata": {},
   "source": [
    "Reiniciar índice del DataFrame resultante"
   ]
  },
  {
   "cell_type": "code",
   "execution_count": 19,
   "id": "890504e4",
   "metadata": {},
   "outputs": [],
   "source": [
    "df = df.reset_index(drop=True)"
   ]
  },
  {
   "cell_type": "markdown",
   "id": "05023883",
   "metadata": {},
   "source": [
    "Verificar los registros del CSV actualizado"
   ]
  },
  {
   "cell_type": "code",
   "execution_count": 20,
   "id": "69740e87",
   "metadata": {},
   "outputs": [
    {
     "name": "stdout",
     "output_type": "stream",
     "text": [
      "   casa_artesania_id                              casa_artesania_nombre  \\\n",
      "0                293  Tienda de Artesanías CASART, San Martín de las...   \n",
      "1                162                      Casa de Artesanías de Acambay   \n",
      "2                296                         Artesanías Nezahualcóyotl    \n",
      "3                294                Tienda de Artesanías CASART, Otumba   \n",
      "4                290            Tienda de Artesanías CASART, Tenancingo   \n",
      "\n",
      "                          casa_artesania_adscripcion  estado_id nom_ent  \\\n",
      "0                                                NaN         15  México   \n",
      "1                             Ayuntamiento de Cambay         15  México   \n",
      "2                                                NaN         15  México   \n",
      "3  Gobierno del Estado de México/Instituto de Inv...         15  México   \n",
      "4  Secretaría de Cultura y Turismo del Estado de ...         15  México   \n",
      "\n",
      "   municipio_id                     nom_mun  localidad_id  \\\n",
      "0             0  Total de la entidad México             0   \n",
      "1             1   Acambay de Ruíz Castañeda            41   \n",
      "2            58              Nezahualcóyotl             1   \n",
      "3            65                      Otumba             1   \n",
      "4            88                  Tenancingo             1   \n",
      "\n",
      "                                   nom_loc  \\\n",
      "0                      Total de la Entidad   \n",
      "1  San Ildefonso (San Ildefonso Yolotepec)   \n",
      "2                    Ciudad Nezahualcóyotl   \n",
      "3                   Otumba de Gómez Farías   \n",
      "4                  Tenancingo de Degollado   \n",
      "\n",
      "                         casa_artesania_calle_numero  \\\n",
      "0                 Museo de la Obsidiana y Biblioteca   \n",
      "1                  Camino a San Indelfonso Yolotepec   \n",
      "2                                Mariquita Linda 326   \n",
      "3                        Plaza de la Constitución 17   \n",
      "4  Centro Regional de Cultura de Tenancingo, Pase...   \n",
      "\n",
      "      casa_artesania_colonia  casa_artesania_cp  casa_artesania_telfono1  \\\n",
      "0  Benito Juárez s/n, Centro            56600.0                      NaN   \n",
      "1         Carr. Panamericana            50300.0                      NaN   \n",
      "2        Col. Benito Juárez             57000.0                      NaN   \n",
      "3                     Centro            55900.0                      NaN   \n",
      "4      Barrio de la Trinidad            52400.0                      NaN   \n",
      "\n",
      "                             pagina_web  \\\n",
      "0  https://iifaem.edomex.gob.mx/tiendas   \n",
      "1                                   NaN   \n",
      "2                                   NaN   \n",
      "3  https://iifaem.edomex.gob.mx/tiendas   \n",
      "4  https://iifaem.edomex.gob.mx/tiendas   \n",
      "\n",
      "                                              email  gmaps_longitud  \\\n",
      "0  dgiifaem@edomex.gob.mx; artesanias@edomex.gob.mx       -98.83376   \n",
      "1                  difeducacion_acambay@live.com.mx         0.00000   \n",
      "2              artesaniasennezahualcoyotl@gmail.com       -99.00126   \n",
      "3  dgiifaem@edomex.gob.mx; artesanias@edomex.gob.mx       -98.75750   \n",
      "4  dgiifaem@edomex.gob.mx, artesanias@edomex.gob.mx       -99.58510   \n",
      "\n",
      "   gmaps_latitud                                           link_sic  \\\n",
      "0       19.70504  http://sic.gob.mx/ficha.php?table=casa_artesan...   \n",
      "1        0.00000  http://sic.gob.mx/ficha.php?table=casa_artesan...   \n",
      "2       19.41100  http://sic.gob.mx/ficha.php?table=casa_artesan...   \n",
      "3       19.69985  http://sic.gob.mx/ficha.php?table=casa_artesan...   \n",
      "4       18.96391  http://sic.gob.mx/ficha.php?table=casa_artesan...   \n",
      "\n",
      "                fecha_mod  \n",
      "0  2024-09-17 12:20:46-06  \n",
      "1  2021-08-09 08:52:22-05  \n",
      "2  2024-10-29 08:53:36-06  \n",
      "3  2024-09-17 12:28:30-06  \n",
      "4  2024-09-13 14:32:51-06  \n"
     ]
    }
   ],
   "source": [
    "print(df.head())"
   ]
  },
  {
   "cell_type": "markdown",
   "id": "ffef1e6e",
   "metadata": {},
   "source": [
    "Definimos las columnas del dataset a conservar"
   ]
  },
  {
   "cell_type": "code",
   "execution_count": 21,
   "id": "d945d532",
   "metadata": {},
   "outputs": [],
   "source": [
    "columnas_conservar = [\n",
    "    'casa_artesania_id',\n",
    "    'casa_artesania_nombre',\n",
    "    'municipio_id',\n",
    "    'nom_mun',\n",
    "    'gmaps_longitud',\n",
    "    'gmaps_latitud'\n",
    "]"
   ]
  },
  {
   "cell_type": "markdown",
   "id": "cb4c0152",
   "metadata": {},
   "source": [
    "Conservamos solo estas columnas"
   ]
  },
  {
   "cell_type": "code",
   "execution_count": 22,
   "id": "a955ff82",
   "metadata": {},
   "outputs": [],
   "source": [
    "df = df[columnas_conservar]"
   ]
  },
  {
   "cell_type": "markdown",
   "id": "14b4f9c1",
   "metadata": {},
   "source": [
    "Reiniciar indice del Dataset resultante"
   ]
  },
  {
   "cell_type": "code",
   "execution_count": 23,
   "id": "e81dc0b7",
   "metadata": {},
   "outputs": [],
   "source": [
    "df = df.reset_index(drop=True)"
   ]
  },
  {
   "cell_type": "markdown",
   "id": "ea6b0d9a",
   "metadata": {},
   "source": [
    "Verificar los registros del CSV actualizado"
   ]
  },
  {
   "cell_type": "code",
   "execution_count": 24,
   "id": "26af60d4",
   "metadata": {},
   "outputs": [
    {
     "name": "stdout",
     "output_type": "stream",
     "text": [
      "   casa_artesania_id                              casa_artesania_nombre  \\\n",
      "0                293  Tienda de Artesanías CASART, San Martín de las...   \n",
      "1                162                      Casa de Artesanías de Acambay   \n",
      "2                296                         Artesanías Nezahualcóyotl    \n",
      "3                294                Tienda de Artesanías CASART, Otumba   \n",
      "4                290            Tienda de Artesanías CASART, Tenancingo   \n",
      "\n",
      "   municipio_id                     nom_mun  gmaps_longitud  gmaps_latitud  \n",
      "0             0  Total de la entidad México       -98.83376       19.70504  \n",
      "1             1   Acambay de Ruíz Castañeda         0.00000        0.00000  \n",
      "2            58              Nezahualcóyotl       -99.00126       19.41100  \n",
      "3            65                      Otumba       -98.75750       19.69985  \n",
      "4            88                  Tenancingo       -99.58510       18.96391  \n"
     ]
    }
   ],
   "source": [
    "print(df.head())"
   ]
  },
  {
   "cell_type": "markdown",
   "id": "f56af927",
   "metadata": {},
   "source": [
    "Observar los datos faltantes por columna del DataFrame"
   ]
  },
  {
   "cell_type": "code",
   "execution_count": 25,
   "id": "427f6621",
   "metadata": {},
   "outputs": [
    {
     "name": "stdout",
     "output_type": "stream",
     "text": [
      "Valores faltantes por columna:\n",
      "casa_artesania_id        0\n",
      "casa_artesania_nombre    0\n",
      "municipio_id             0\n",
      "nom_mun                  0\n",
      "gmaps_longitud           0\n",
      "gmaps_latitud            0\n",
      "dtype: int64\n"
     ]
    }
   ],
   "source": [
    "print(\"Valores faltantes por columna:\")\n",
    "print(df.isnull().sum())"
   ]
  },
  {
   "cell_type": "markdown",
   "id": "8bd04944",
   "metadata": {},
   "source": [
    "- Eliminar filas con valores nulos"
   ]
  },
  {
   "cell_type": "code",
   "execution_count": 26,
   "id": "cc5acaab",
   "metadata": {},
   "outputs": [],
   "source": [
    "df = df.dropna()"
   ]
  },
  {
   "cell_type": "markdown",
   "id": "66a4a846",
   "metadata": {},
   "source": [
    "Observar los datos faltantes por columna del DataFrame"
   ]
  },
  {
   "cell_type": "code",
   "execution_count": 27,
   "id": "1784f844",
   "metadata": {},
   "outputs": [
    {
     "name": "stdout",
     "output_type": "stream",
     "text": [
      "Valores faltantes por columna:\n",
      "casa_artesania_id        0\n",
      "casa_artesania_nombre    0\n",
      "municipio_id             0\n",
      "nom_mun                  0\n",
      "gmaps_longitud           0\n",
      "gmaps_latitud            0\n",
      "dtype: int64\n"
     ]
    }
   ],
   "source": [
    "print(\"Valores faltantes por columna:\")\n",
    "print(df.isnull().sum())"
   ]
  },
  {
   "cell_type": "markdown",
   "id": "ff1f8b9a",
   "metadata": {},
   "source": [
    "- Reiniciar índice del DataFrame resultante"
   ]
  },
  {
   "cell_type": "code",
   "execution_count": 28,
   "id": "19873cdb",
   "metadata": {},
   "outputs": [],
   "source": [
    "df = df.reset_index(drop=True)"
   ]
  },
  {
   "cell_type": "markdown",
   "id": "f2134178",
   "metadata": {},
   "source": [
    "- Verificar los registros del CSV actualizado"
   ]
  },
  {
   "cell_type": "code",
   "execution_count": 29,
   "id": "383b5c0d",
   "metadata": {},
   "outputs": [
    {
     "name": "stdout",
     "output_type": "stream",
     "text": [
      "   casa_artesania_id                              casa_artesania_nombre  \\\n",
      "0                293  Tienda de Artesanías CASART, San Martín de las...   \n",
      "1                162                      Casa de Artesanías de Acambay   \n",
      "2                296                         Artesanías Nezahualcóyotl    \n",
      "3                294                Tienda de Artesanías CASART, Otumba   \n",
      "4                290            Tienda de Artesanías CASART, Tenancingo   \n",
      "\n",
      "   municipio_id                     nom_mun  gmaps_longitud  gmaps_latitud  \n",
      "0             0  Total de la entidad México       -98.83376       19.70504  \n",
      "1             1   Acambay de Ruíz Castañeda         0.00000        0.00000  \n",
      "2            58              Nezahualcóyotl       -99.00126       19.41100  \n",
      "3            65                      Otumba       -98.75750       19.69985  \n",
      "4            88                  Tenancingo       -99.58510       18.96391  \n"
     ]
    }
   ],
   "source": [
    "print(df.head())"
   ]
  },
  {
   "cell_type": "markdown",
   "id": "1a00592c",
   "metadata": {},
   "source": [
    "Guardar el nuevo CSV ya preprocesado"
   ]
  },
  {
   "cell_type": "code",
   "execution_count": 30,
   "id": "22a8d293",
   "metadata": {},
   "outputs": [
    {
     "name": "stdout",
     "output_type": "stream",
     "text": [
      "\n",
      "Archivo 'Casa_artesania.csv' guardado exitosamente en el directorio actual!\n"
     ]
    }
   ],
   "source": [
    "nombre_archivo = 'Casa_artesania.csv'\n",
    "df.to_csv(nombre_archivo, index=False, encoding='utf-8')\n",
    "\n",
    "print(f\"\\nArchivo '{nombre_archivo}' guardado exitosamente en el directorio actual!\")"
   ]
  }
 ],
 "metadata": {
  "kernelspec": {
   "display_name": "Python 3",
   "language": "python",
   "name": "python3"
  },
  "language_info": {
   "codemirror_mode": {
    "name": "ipython",
    "version": 3
   },
   "file_extension": ".py",
   "mimetype": "text/x-python",
   "name": "python",
   "nbconvert_exporter": "python",
   "pygments_lexer": "ipython3",
   "version": "3.12.0"
  }
 },
 "nbformat": 4,
 "nbformat_minor": 5
}
