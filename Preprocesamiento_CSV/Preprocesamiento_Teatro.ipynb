{
 "cells": [
  {
   "cell_type": "markdown",
   "id": "ccaa7dc1",
   "metadata": {},
   "source": [
    "Importación de Librerias"
   ]
  },
  {
   "cell_type": "code",
   "execution_count": 1,
   "id": "a4809310",
   "metadata": {},
   "outputs": [],
   "source": [
    "import pandas as pd\n",
    "import matplotlib.pyplot as plt\n",
    "import seaborn as sns"
   ]
  },
  {
   "cell_type": "markdown",
   "id": "11581973",
   "metadata": {},
   "source": [
    "Cargar los datos (Codificación del CSV latin1)"
   ]
  },
  {
   "cell_type": "code",
   "execution_count": 2,
   "id": "da430a2b",
   "metadata": {},
   "outputs": [],
   "source": [
    "df = pd.read_csv('teatro_directorio.csv', encoding='latin1')"
   ]
  },
  {
   "cell_type": "markdown",
   "id": "ab9c0420",
   "metadata": {},
   "source": [
    "Imprimir las primeras 5 filas para observar el formato del CSV"
   ]
  },
  {
   "cell_type": "code",
   "execution_count": 3,
   "id": "80a6468a",
   "metadata": {},
   "outputs": [
    {
     "name": "stdout",
     "output_type": "stream",
     "text": [
      "   teatro_id                             teatro_nombre teatro_fecha_fundacion  \\\n",
      "0        336                     Teatro de la Alameda              1945-10-01   \n",
      "1        334              Teatro Antonio Leal y Romero             1986-01-01   \n",
      "2         78  Teatro Francisco Gabilondo Soler Cri-Cri             1989-05-24   \n",
      "3        329                            Teatro Morelos             1885-10-25   \n",
      "4        976                        Foro Cultural MUSE             1000-01-01   \n",
      "\n",
      "                                  teatro_adscripcion  estado_id  \\\n",
      "0              Gobierno del Estado de Aguascalientes          1   \n",
      "1               Instituto Cultural de Aguascalientes          1   \n",
      "2  Gobierno del Estado de Aguascalientes/Secretar...          1   \n",
      "3               Instituto Cultural de Aguascalientes          1   \n",
      "4                                                NaN          1   \n",
      "\n",
      "          nom_ent  municipio_id         nom_mun  localidad_id         nom_loc  \\\n",
      "0  Aguascalientes             1  Aguascalientes             1  Aguascalientes   \n",
      "1  Aguascalientes             1  Aguascalientes             1  Aguascalientes   \n",
      "2  Aguascalientes             1  Aguascalientes             1  Aguascalientes   \n",
      "3  Aguascalientes             1  Aguascalientes             1  Aguascalientes   \n",
      "4  Aguascalientes             1  Aguascalientes             1  Aguascalientes   \n",
      "\n",
      "   ...                                           facebook     twitter  \\\n",
      "0  ...                                                NaN         NaN   \n",
      "1  ...  https://www.facebook.com/InstitutoCulturaldeAg...  CulturaAgs   \n",
      "2  ...                                                NaN         NaN   \n",
      "3  ...                                                NaN         NaN   \n",
      "4  ...  https://es-la.facebook.com/pg/FOROMUSE/about/?...         NaN   \n",
      "\n",
      "                                instagram  \\\n",
      "0                                     NaN   \n",
      "1  https://www.instagram.com/ica_cultura/   \n",
      "2                                     NaN   \n",
      "3                                     NaN   \n",
      "4                                     NaN   \n",
      "\n",
      "                                               email gmaps_longitud  \\\n",
      "0        alejandrina.rodriguez@aguascalientes.gob.mx     -102.27296   \n",
      "1                         josereynosomtz@hotmail.com     -102.29846   \n",
      "2  jorge.villa@aguascalientes.gob.mx; brenda.rodr...     -102.28886   \n",
      "3                          informacion.ica@gmail.com     -102.29702   \n",
      "4  foromuseoescarcega@gmail.com; ricardo.gestionc...     -102.28568   \n",
      "\n",
      "  gmaps_latitud teatro_aforo teatro_tipo_escenario  \\\n",
      "0      21.88444          396              italiano   \n",
      "1      21.88049          247              italiano   \n",
      "2      21.85357          248              circular   \n",
      "3      21.88021          351              italiano   \n",
      "4      21.88466            0                   NaN   \n",
      "\n",
      "                                            link_sic               fecha_mod  \n",
      "0  http://sic.gob.mx/ficha.php?table=teatro&table...  2020-10-09 14:17:49-05  \n",
      "1  http://sic.gob.mx/ficha.php?table=teatro&table...  2024-10-04 12:50:19-06  \n",
      "2  http://sic.gob.mx/ficha.php?table=teatro&table...  2020-02-11 05:33:58-06  \n",
      "3  http://sic.gob.mx/ficha.php?table=teatro&table...  2025-04-03 14:11:26-06  \n",
      "4  http://sic.gob.mx/ficha.php?table=teatro&table...  2020-09-24 16:58:36-05  \n",
      "\n",
      "[5 rows x 25 columns]\n"
     ]
    }
   ],
   "source": [
    "print(df.head())"
   ]
  },
  {
   "cell_type": "markdown",
   "id": "845b75e1",
   "metadata": {},
   "source": [
    "Imprimir las ultimas 5 filas para observar el formato del CSV"
   ]
  },
  {
   "cell_type": "code",
   "execution_count": 4,
   "id": "13d37d70",
   "metadata": {},
   "outputs": [
    {
     "name": "stdout",
     "output_type": "stream",
     "text": [
      "     teatro_id                                  teatro_nombre  \\\n",
      "721        531                                Teatro Hinojosa   \n",
      "722        400  Teatro Municipal Licenciado José Minero Roque   \n",
      "723         72                     Teatro Ramón López Velarde   \n",
      "724        235                          Teatro IMSS Zacatecas   \n",
      "725        411                       Teatro Fernando Calderón   \n",
      "\n",
      "    teatro_fecha_fundacion                           teatro_adscripcion  \\\n",
      "721             1878-11-01                Instituto Jerezano de Cultura   \n",
      "722             1954-08-21                                          NaN   \n",
      "723             1976-01-01              Instituto Zacatecano de Cultura   \n",
      "724             1964-01-01  Instituto Mexicano del Seguro Social (IMSS)   \n",
      "725             1897-05-16            Universidad Autónoma de Zacatecas   \n",
      "\n",
      "     estado_id    nom_ent  municipio_id              nom_mun  localidad_id  \\\n",
      "721         32  Zacatecas            20                Jerez             1   \n",
      "722         32  Zacatecas            34  Nochistlán de Mejía             1   \n",
      "723         32  Zacatecas            56            Zacatecas             1   \n",
      "724         32  Zacatecas            56            Zacatecas             1   \n",
      "725         32  Zacatecas            56            Zacatecas             1   \n",
      "\n",
      "                     nom_loc  ...  \\\n",
      "721  Jerez de García Salinas  ...   \n",
      "722      Nochistlán de Mejía  ...   \n",
      "723                Zacatecas  ...   \n",
      "724                Zacatecas  ...   \n",
      "725                Zacatecas  ...   \n",
      "\n",
      "                                              facebook twitter  instagram  \\\n",
      "721                                                NaN     NaN        NaN   \n",
      "722  https://www.facebook.com/p/Teatro-Municipal-Li...     NaN        NaN   \n",
      "723                                                NaN     NaN        NaN   \n",
      "724  https://www.facebook.com/TeatroIMSSZacatecas/?...     NaN        NaN   \n",
      "725  https://www.facebook.com/p/Teatro-Fernando-Cal...     NaN        NaN   \n",
      "\n",
      "                             email gmaps_longitud gmaps_latitud teatro_aforo  \\\n",
      "721  carlos.salinas.09@hotmail.com     -102.99170      22.64943          469   \n",
      "722                            NaN     -102.85006      21.36565            0   \n",
      "723       teatrorlop.izc@gmail.com     -102.57876      22.75701          988   \n",
      "724        ivan.duenez@imss.gob.mx     -102.57879      22.77522          501   \n",
      "725     teatrocalderon@uaz.edu.mx      -102.57329      22.77504          708   \n",
      "\n",
      "    teatro_tipo_escenario                                           link_sic  \\\n",
      "721           rectangular  http://sic.gob.mx/ficha.php?table=teatro&table...   \n",
      "722              italiano  http://sic.gob.mx/ficha.php?table=teatro&table...   \n",
      "723           rectangular  http://sic.gob.mx/ficha.php?table=teatro&table...   \n",
      "724              Italiano  http://sic.gob.mx/ficha.php?table=teatro&table...   \n",
      "725              italiano  http://sic.gob.mx/ficha.php?table=teatro&table...   \n",
      "\n",
      "                  fecha_mod  \n",
      "721  2017-04-08 13:31:44-05  \n",
      "722  2023-07-20 09:17:30-06  \n",
      "723  2023-11-21 08:44:21-06  \n",
      "724  2025-04-22 13:36:50-06  \n",
      "725  2025-05-08 13:19:06-06  \n",
      "\n",
      "[5 rows x 25 columns]\n"
     ]
    }
   ],
   "source": [
    "print(df.tail())"
   ]
  },
  {
   "cell_type": "markdown",
   "id": "9ef3e41d",
   "metadata": {},
   "source": [
    "Imprimir las columnas del CSV con su respectivo tipo de dato"
   ]
  },
  {
   "cell_type": "code",
   "execution_count": 5,
   "id": "53e1482c",
   "metadata": {},
   "outputs": [
    {
     "name": "stdout",
     "output_type": "stream",
     "text": [
      "<class 'pandas.core.frame.DataFrame'>\n",
      "RangeIndex: 726 entries, 0 to 725\n",
      "Data columns (total 25 columns):\n",
      " #   Column                  Non-Null Count  Dtype  \n",
      "---  ------                  --------------  -----  \n",
      " 0   teatro_id               726 non-null    int64  \n",
      " 1   teatro_nombre           726 non-null    object \n",
      " 2   teatro_fecha_fundacion  726 non-null    object \n",
      " 3   teatro_adscripcion      650 non-null    object \n",
      " 4   estado_id               726 non-null    int64  \n",
      " 5   nom_ent                 726 non-null    object \n",
      " 6   municipio_id            726 non-null    int64  \n",
      " 7   nom_mun                 726 non-null    object \n",
      " 8   localidad_id            726 non-null    int64  \n",
      " 9   nom_loc                 726 non-null    object \n",
      " 10  teatro_calle_numero     722 non-null    object \n",
      " 11  teatro_colonia          715 non-null    object \n",
      " 12  teatro_cp               712 non-null    float64\n",
      " 13  teatro_telefono1        691 non-null    object \n",
      " 14  pagina_web              406 non-null    object \n",
      " 15  facebook                308 non-null    object \n",
      " 16  twitter                 67 non-null     object \n",
      " 17  instagram               59 non-null     object \n",
      " 18  email                   587 non-null    object \n",
      " 19  gmaps_longitud          726 non-null    float64\n",
      " 20  gmaps_latitud           726 non-null    float64\n",
      " 21  teatro_aforo            726 non-null    int64  \n",
      " 22  teatro_tipo_escenario   501 non-null    object \n",
      " 23  link_sic                726 non-null    object \n",
      " 24  fecha_mod               726 non-null    object \n",
      "dtypes: float64(3), int64(5), object(17)\n",
      "memory usage: 141.9+ KB\n",
      "None\n"
     ]
    }
   ],
   "source": [
    "print(df.info())"
   ]
  },
  {
   "cell_type": "markdown",
   "id": "46b0fb7e",
   "metadata": {},
   "source": [
    "Visualizar los valores unicos por columna"
   ]
  },
  {
   "cell_type": "code",
   "execution_count": 6,
   "id": "e33f1468",
   "metadata": {},
   "outputs": [
    {
     "name": "stdout",
     "output_type": "stream",
     "text": [
      "Valores únicos por columna:\n",
      "teatro_id                 726\n",
      "teatro_nombre             690\n",
      "teatro_fecha_fundacion    532\n",
      "teatro_adscripcion        504\n",
      "estado_id                  32\n",
      "nom_ent                    32\n",
      "municipio_id               97\n",
      "nom_mun                   213\n",
      "localidad_id               14\n",
      "nom_loc                   222\n",
      "teatro_calle_numero       684\n",
      "teatro_colonia            311\n",
      "teatro_cp                 418\n",
      "teatro_telefono1          661\n",
      "pagina_web                394\n",
      "facebook                  296\n",
      "twitter                    61\n",
      "instagram                  55\n",
      "email                     553\n",
      "gmaps_longitud            692\n",
      "gmaps_latitud             687\n",
      "teatro_aforo              317\n",
      "teatro_tipo_escenario      23\n",
      "link_sic                  726\n",
      "fecha_mod                 726\n",
      "dtype: int64\n"
     ]
    }
   ],
   "source": [
    "print(\"Valores únicos por columna:\")\n",
    "print(df.nunique())"
   ]
  },
  {
   "cell_type": "markdown",
   "id": "3863e823",
   "metadata": {},
   "source": [
    "Filtramos el DataFrame con el estado que nos interesa"
   ]
  },
  {
   "cell_type": "code",
   "execution_count": 7,
   "id": "61345ae5",
   "metadata": {},
   "outputs": [],
   "source": [
    "df = df[df['estado_id'] == 15]"
   ]
  },
  {
   "cell_type": "markdown",
   "id": "4406e8c2",
   "metadata": {},
   "source": [
    "Reiniciar índice del DataFrame resultante"
   ]
  },
  {
   "cell_type": "code",
   "execution_count": 8,
   "id": "890504e4",
   "metadata": {},
   "outputs": [],
   "source": [
    "df = df.reset_index(drop=True)"
   ]
  },
  {
   "cell_type": "markdown",
   "id": "05023883",
   "metadata": {},
   "source": [
    "Verificar los registros del CSV actualizado"
   ]
  },
  {
   "cell_type": "code",
   "execution_count": 9,
   "id": "69740e87",
   "metadata": {},
   "outputs": [
    {
     "name": "stdout",
     "output_type": "stream",
     "text": [
      "   teatro_id                            teatro_nombre teatro_fecha_fundacion  \\\n",
      "0       1059       Foro La Esperanza, Casa del Pueblo             2023-02-15   \n",
      "1        263                        Teatro del Pueblo             1951-01-01   \n",
      "2        751  Teatro Auditorio Humberto Vidal Mendoza             2018-11-01   \n",
      "3       1040       Centro de Artes José Pablo Moncayo             1000-01-01   \n",
      "4        730             Teatro del Parque Interlomas             2011-01-01   \n",
      "\n",
      "                                  teatro_adscripcion  estado_id nom_ent  \\\n",
      "0                    Gobierno Municipal de Amecameca         15  México   \n",
      "1                        Ayuntamiento de Atlacomulco         15  México   \n",
      "2                            Escuela de Bellas Artes         15  México   \n",
      "3  Ayuntamiento de Huehuetoca/Dirección de Educac...         15  México   \n",
      "4                                 Theatre Properties         15  México   \n",
      "\n",
      "   municipio_id       nom_mun  localidad_id                    nom_loc  ...  \\\n",
      "0             9     Amecameca             1        Amecameca de Juárez  ...   \n",
      "1            14   Atlacomulco             1      Atlacomulco de Fabela  ...   \n",
      "2            31  Chimalhuacán             1               Chimalhuacán  ...   \n",
      "3            35    Huehuetoca             1                 Huehuetoca  ...   \n",
      "4            37  Huixquilucan             1  Huixquilucan de Degollado  ...   \n",
      "\n",
      "                                            facebook twitter  instagram  \\\n",
      "0                                                NaN     NaN        NaN   \n",
      "1                                                NaN     NaN        NaN   \n",
      "2                                                NaN     NaN        NaN   \n",
      "3  https://www.facebook.com/p/Centro-de-Artes-Hue...     NaN        NaN   \n",
      "4                                                NaN     NaN        NaN   \n",
      "\n",
      "                       email gmaps_longitud gmaps_latitud teatro_aforo  \\\n",
      "0  casadelpueblo63@gmail.com      -98.77551      19.13211          110   \n",
      "1     dif@atlacomulco.gob.mx      -99.87327      19.79862          558   \n",
      "2                        NaN      -98.98445      19.41804          800   \n",
      "3    mayela.marind@gmail.com      -99.21889      19.83381            0   \n",
      "4                        NaN        0.00000       0.00000          695   \n",
      "\n",
      "  teatro_tipo_escenario                                           link_sic  \\\n",
      "0              Italiano  http://sic.gob.mx/ficha.php?table=teatro&table...   \n",
      "1                   NaN  http://sic.gob.mx/ficha.php?table=teatro&table...   \n",
      "2                   NaN  http://sic.gob.mx/ficha.php?table=teatro&table...   \n",
      "3                   NaN  http://sic.gob.mx/ficha.php?table=teatro&table...   \n",
      "4              italiano  http://sic.gob.mx/ficha.php?table=teatro&table...   \n",
      "\n",
      "                fecha_mod  \n",
      "0  2025-05-19 12:35:37-06  \n",
      "1  2017-07-12 13:57:02-05  \n",
      "2  2021-01-25 09:18:21-06  \n",
      "3  2024-07-29 10:54:50-06  \n",
      "4  2021-11-29 03:41:14-06  \n",
      "\n",
      "[5 rows x 25 columns]\n"
     ]
    }
   ],
   "source": [
    "print(df.head())"
   ]
  },
  {
   "cell_type": "markdown",
   "id": "ffef1e6e",
   "metadata": {},
   "source": [
    "Definimos las columnas del dataset a conservar"
   ]
  },
  {
   "cell_type": "code",
   "execution_count": 10,
   "id": "d945d532",
   "metadata": {},
   "outputs": [],
   "source": [
    "columnas_conservar = [\n",
    "    'teatro_id',\n",
    "    'teatro_nombre',\n",
    "    'municipio_id',\n",
    "    'nom_mun',\n",
    "    'gmaps_longitud',\n",
    "    'gmaps_latitud'\n",
    "]"
   ]
  },
  {
   "cell_type": "markdown",
   "id": "cb4c0152",
   "metadata": {},
   "source": [
    "Conservamos solo estas columnas"
   ]
  },
  {
   "cell_type": "code",
   "execution_count": 11,
   "id": "a955ff82",
   "metadata": {},
   "outputs": [],
   "source": [
    "df = df[columnas_conservar]"
   ]
  },
  {
   "cell_type": "markdown",
   "id": "14b4f9c1",
   "metadata": {},
   "source": [
    "Reiniciar indice del Dataset resultante"
   ]
  },
  {
   "cell_type": "code",
   "execution_count": 12,
   "id": "e81dc0b7",
   "metadata": {},
   "outputs": [],
   "source": [
    "df = df.reset_index(drop=True)"
   ]
  },
  {
   "cell_type": "markdown",
   "id": "ea6b0d9a",
   "metadata": {},
   "source": [
    "Verificar los registros del CSV actualizado"
   ]
  },
  {
   "cell_type": "code",
   "execution_count": 13,
   "id": "26af60d4",
   "metadata": {},
   "outputs": [
    {
     "name": "stdout",
     "output_type": "stream",
     "text": [
      "   teatro_id                            teatro_nombre  municipio_id  \\\n",
      "0       1059       Foro La Esperanza, Casa del Pueblo             9   \n",
      "1        263                        Teatro del Pueblo            14   \n",
      "2        751  Teatro Auditorio Humberto Vidal Mendoza            31   \n",
      "3       1040       Centro de Artes José Pablo Moncayo            35   \n",
      "4        730             Teatro del Parque Interlomas            37   \n",
      "\n",
      "        nom_mun  gmaps_longitud  gmaps_latitud  \n",
      "0     Amecameca       -98.77551       19.13211  \n",
      "1   Atlacomulco       -99.87327       19.79862  \n",
      "2  Chimalhuacán       -98.98445       19.41804  \n",
      "3    Huehuetoca       -99.21889       19.83381  \n",
      "4  Huixquilucan         0.00000        0.00000  \n"
     ]
    }
   ],
   "source": [
    "print(df.head())"
   ]
  },
  {
   "cell_type": "markdown",
   "id": "f56af927",
   "metadata": {},
   "source": [
    "Observar los datos faltantes por columna del DataFrame"
   ]
  },
  {
   "cell_type": "code",
   "execution_count": 14,
   "id": "427f6621",
   "metadata": {},
   "outputs": [
    {
     "name": "stdout",
     "output_type": "stream",
     "text": [
      "Valores faltantes por columna:\n",
      "teatro_id         0\n",
      "teatro_nombre     0\n",
      "municipio_id      0\n",
      "nom_mun           0\n",
      "gmaps_longitud    0\n",
      "gmaps_latitud     0\n",
      "dtype: int64\n"
     ]
    }
   ],
   "source": [
    "print(\"Valores faltantes por columna:\")\n",
    "print(df.isnull().sum())"
   ]
  },
  {
   "cell_type": "markdown",
   "id": "8bd04944",
   "metadata": {},
   "source": [
    "- Eliminar filas con valores nulos"
   ]
  },
  {
   "cell_type": "code",
   "execution_count": 15,
   "id": "cc5acaab",
   "metadata": {},
   "outputs": [],
   "source": [
    "df = df.dropna()"
   ]
  },
  {
   "cell_type": "markdown",
   "id": "66a4a846",
   "metadata": {},
   "source": [
    "Observar los datos faltantes por columna del DataFrame"
   ]
  },
  {
   "cell_type": "code",
   "execution_count": 16,
   "id": "1784f844",
   "metadata": {},
   "outputs": [
    {
     "name": "stdout",
     "output_type": "stream",
     "text": [
      "Valores faltantes por columna:\n",
      "teatro_id         0\n",
      "teatro_nombre     0\n",
      "municipio_id      0\n",
      "nom_mun           0\n",
      "gmaps_longitud    0\n",
      "gmaps_latitud     0\n",
      "dtype: int64\n"
     ]
    }
   ],
   "source": [
    "print(\"Valores faltantes por columna:\")\n",
    "print(df.isnull().sum())"
   ]
  },
  {
   "cell_type": "markdown",
   "id": "ff1f8b9a",
   "metadata": {},
   "source": [
    "- Reiniciar índice del DataFrame resultante"
   ]
  },
  {
   "cell_type": "code",
   "execution_count": 17,
   "id": "19873cdb",
   "metadata": {},
   "outputs": [],
   "source": [
    "df = df.reset_index(drop=True)"
   ]
  },
  {
   "cell_type": "markdown",
   "id": "f2134178",
   "metadata": {},
   "source": [
    "- Verificar los registros del CSV actualizado"
   ]
  },
  {
   "cell_type": "code",
   "execution_count": 18,
   "id": "383b5c0d",
   "metadata": {},
   "outputs": [
    {
     "name": "stdout",
     "output_type": "stream",
     "text": [
      "   teatro_id                            teatro_nombre  municipio_id  \\\n",
      "0       1059       Foro La Esperanza, Casa del Pueblo             9   \n",
      "1        263                        Teatro del Pueblo            14   \n",
      "2        751  Teatro Auditorio Humberto Vidal Mendoza            31   \n",
      "3       1040       Centro de Artes José Pablo Moncayo            35   \n",
      "4        730             Teatro del Parque Interlomas            37   \n",
      "\n",
      "        nom_mun  gmaps_longitud  gmaps_latitud  \n",
      "0     Amecameca       -98.77551       19.13211  \n",
      "1   Atlacomulco       -99.87327       19.79862  \n",
      "2  Chimalhuacán       -98.98445       19.41804  \n",
      "3    Huehuetoca       -99.21889       19.83381  \n",
      "4  Huixquilucan         0.00000        0.00000  \n"
     ]
    }
   ],
   "source": [
    "print(df.head())"
   ]
  },
  {
   "cell_type": "markdown",
   "id": "1a00592c",
   "metadata": {},
   "source": [
    "Guardar el nuevo CSV ya preprocesado"
   ]
  },
  {
   "cell_type": "code",
   "execution_count": 19,
   "id": "22a8d293",
   "metadata": {},
   "outputs": [
    {
     "name": "stdout",
     "output_type": "stream",
     "text": [
      "\n",
      "Archivo 'Teatro.csv' guardado exitosamente en el directorio actual!\n"
     ]
    }
   ],
   "source": [
    "nombre_archivo = 'Teatro.csv'\n",
    "df.to_csv(nombre_archivo, index=False, encoding='utf-8')\n",
    "\n",
    "print(f\"\\nArchivo '{nombre_archivo}' guardado exitosamente en el directorio actual!\")"
   ]
  }
 ],
 "metadata": {
  "kernelspec": {
   "display_name": "Python 3",
   "language": "python",
   "name": "python3"
  },
  "language_info": {
   "codemirror_mode": {
    "name": "ipython",
    "version": 3
   },
   "file_extension": ".py",
   "mimetype": "text/x-python",
   "name": "python",
   "nbconvert_exporter": "python",
   "pygments_lexer": "ipython3",
   "version": "3.12.0"
  }
 },
 "nbformat": 4,
 "nbformat_minor": 5
}
