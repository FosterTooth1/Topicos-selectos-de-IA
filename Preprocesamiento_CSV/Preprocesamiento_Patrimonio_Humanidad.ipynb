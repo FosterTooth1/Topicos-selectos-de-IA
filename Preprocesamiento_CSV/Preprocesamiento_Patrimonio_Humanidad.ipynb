{
 "cells": [
  {
   "cell_type": "markdown",
   "id": "ccaa7dc1",
   "metadata": {},
   "source": [
    "Importación de Librerias"
   ]
  },
  {
   "cell_type": "code",
   "execution_count": 1,
   "id": "a4809310",
   "metadata": {},
   "outputs": [],
   "source": [
    "import pandas as pd\n",
    "import matplotlib.pyplot as plt\n",
    "import seaborn as sns"
   ]
  },
  {
   "cell_type": "markdown",
   "id": "11581973",
   "metadata": {},
   "source": [
    "Cargar los datos (Codificación del CSV latin1)"
   ]
  },
  {
   "cell_type": "code",
   "execution_count": 2,
   "id": "da430a2b",
   "metadata": {},
   "outputs": [],
   "source": [
    "df = pd.read_csv('patrimonio_humanidad_directorio.csv', encoding='latin1')"
   ]
  },
  {
   "cell_type": "markdown",
   "id": "ab9c0420",
   "metadata": {},
   "source": [
    "Imprimir las primeras 5 filas para observar el formato del CSV"
   ]
  },
  {
   "cell_type": "code",
   "execution_count": 3,
   "id": "80a6468a",
   "metadata": {},
   "outputs": [
    {
     "name": "stdout",
     "output_type": "stream",
     "text": [
      "   patrimonio_humanidad_id                        patrimonio_humanidad_nombre  \\\n",
      "0                       22   Pinturas Rupestres de la Sierra de San Francisco   \n",
      "1                       18      Santuario de Ballenas en Lagunas de Vizcaíno    \n",
      "2                       24  Islas y Áreas Protegidas del Golfo de California    \n",
      "3                       20                    Ciudad Fortificada de Campeche    \n",
      "4                       19  Antigua Ciudad Maya y los bosques tropicales p...   \n",
      "\n",
      "   patrimonio_humanidad_ano_inscripcion  estado_id              nom_ent  \\\n",
      "0                                  1993          3  Baja California Sur   \n",
      "1                                  1993          3  Baja California Sur   \n",
      "2                                  2005          3  Baja California Sur   \n",
      "3                                  1999          4             Campeche   \n",
      "4                                  2002          4             Campeche   \n",
      "\n",
      "   municipio_id    nom_mun  localidad_id                    nom_loc  \\\n",
      "0             2     Mulegé             1              Santa Rosalía   \n",
      "1             2     Mulegé            66             Guerrero Negro   \n",
      "2             8  Los Cabos             1          San José del Cabo   \n",
      "3             2   Campeche             1  San Francisco de Campeche   \n",
      "4            10   Calakmul             0        Total del Municipio   \n",
      "\n",
      "   patrimonio_humanidad_pagina_web  gmaps_longitud  gmaps_latitud  \\\n",
      "0                              NaN      -113.06973       27.64651   \n",
      "1                              NaN      -114.22778       27.79222   \n",
      "2                              NaN      -112.45532       28.95971   \n",
      "3                              NaN       -90.56865       19.82819   \n",
      "4                              NaN       -89.80499       18.10884   \n",
      "\n",
      "                                            link_sic               fecha_mod  \n",
      "0  http://sic.gob.mx/ficha.php?table=patrimonio_h...  2024-08-14 11:11:03-06  \n",
      "1  http://sic.gob.mx/ficha.php?table=patrimonio_h...  2024-08-14 11:24:55-06  \n",
      "2  http://sic.gob.mx/ficha.php?table=patrimonio_h...  2024-08-14 15:37:42-06  \n",
      "3  http://sic.gob.mx/ficha.php?table=patrimonio_h...  2024-08-14 11:40:01-06  \n",
      "4  http://sic.gob.mx/ficha.php?table=patrimonio_h...  2024-08-14 11:29:01-06  \n"
     ]
    }
   ],
   "source": [
    "print(df.head())"
   ]
  },
  {
   "cell_type": "markdown",
   "id": "845b75e1",
   "metadata": {},
   "source": [
    "Imprimir las ultimas 5 filas para observar el formato del CSV"
   ]
  },
  {
   "cell_type": "code",
   "execution_count": 4,
   "id": "13d37d70",
   "metadata": {},
   "outputs": [
    {
     "name": "stdout",
     "output_type": "stream",
     "text": [
      "    patrimonio_humanidad_id                   patrimonio_humanidad_nombre  \\\n",
      "30                       13               Ciudad Prehispánica de El Tajín   \n",
      "31                        9  Zona de Monumentos Históricos de Tlacotalpan   \n",
      "32                       11                 Ciudad Prehispánica de Uxmal    \n",
      "33                       10          Ciudad Prehispánica de Chichén Itzá    \n",
      "34                       12                 Centro Histórico de Zacatecas   \n",
      "\n",
      "    patrimonio_humanidad_ano_inscripcion  estado_id  \\\n",
      "30                                  1992         30   \n",
      "31                                  1998         30   \n",
      "32                                  1996         31   \n",
      "33                                  1996         31   \n",
      "34                                  1993         32   \n",
      "\n",
      "                            nom_ent  municipio_id      nom_mun  localidad_id  \\\n",
      "30  Veracruz de Ignacio de la Llave           124     Papantla           107   \n",
      "31  Veracruz de Ignacio de la Llave           178  Tlacotalpan             1   \n",
      "32                          Yucatán            66  Santa Elena             0   \n",
      "33                          Yucatán            91        Tinum             6   \n",
      "34                        Zacatecas            56    Zacatecas             1   \n",
      "\n",
      "                nom_loc  patrimonio_humanidad_pagina_web  gmaps_longitud  \\\n",
      "30             El Tajín                              NaN       -97.37806   \n",
      "31          Tlacotalpan                              NaN       -95.65684   \n",
      "32  Total del Municipio                              NaN       -89.77081   \n",
      "33                Pisté                              NaN       -88.56927   \n",
      "34            Zacatecas                              NaN      -102.57211   \n",
      "\n",
      "    gmaps_latitud                                           link_sic  \\\n",
      "30       20.44829  http://sic.gob.mx/ficha.php?table=patrimonio_h...   \n",
      "31       18.61518  http://sic.gob.mx/ficha.php?table=patrimonio_h...   \n",
      "32       20.36125  http://sic.gob.mx/ficha.php?table=patrimonio_h...   \n",
      "33       20.68314  http://sic.gob.mx/ficha.php?table=patrimonio_h...   \n",
      "34       22.77660  http://sic.gob.mx/ficha.php?table=patrimonio_h...   \n",
      "\n",
      "                 fecha_mod  \n",
      "30  2024-08-14 19:33:09-06  \n",
      "31  2024-08-14 19:42:43-06  \n",
      "32  2024-08-14 19:13:49-06  \n",
      "33  2024-08-14 19:47:15-06  \n",
      "34  2024-08-14 19:50:52-06  \n"
     ]
    }
   ],
   "source": [
    "print(df.tail())"
   ]
  },
  {
   "cell_type": "markdown",
   "id": "9ef3e41d",
   "metadata": {},
   "source": [
    "Imprimir las columnas del CSV con su respectivo tipo de dato"
   ]
  },
  {
   "cell_type": "code",
   "execution_count": 5,
   "id": "53e1482c",
   "metadata": {},
   "outputs": [
    {
     "name": "stdout",
     "output_type": "stream",
     "text": [
      "<class 'pandas.core.frame.DataFrame'>\n",
      "RangeIndex: 35 entries, 0 to 34\n",
      "Data columns (total 14 columns):\n",
      " #   Column                                Non-Null Count  Dtype  \n",
      "---  ------                                --------------  -----  \n",
      " 0   patrimonio_humanidad_id               35 non-null     int64  \n",
      " 1   patrimonio_humanidad_nombre           35 non-null     object \n",
      " 2   patrimonio_humanidad_ano_inscripcion  35 non-null     int64  \n",
      " 3   estado_id                             35 non-null     int64  \n",
      " 4   nom_ent                               35 non-null     object \n",
      " 5   municipio_id                          35 non-null     int64  \n",
      " 6   nom_mun                               35 non-null     object \n",
      " 7   localidad_id                          35 non-null     int64  \n",
      " 8   nom_loc                               35 non-null     object \n",
      " 9   patrimonio_humanidad_pagina_web       0 non-null      float64\n",
      " 10  gmaps_longitud                        35 non-null     float64\n",
      " 11  gmaps_latitud                         35 non-null     float64\n",
      " 12  link_sic                              35 non-null     object \n",
      " 13  fecha_mod                             35 non-null     object \n",
      "dtypes: float64(3), int64(5), object(6)\n",
      "memory usage: 4.0+ KB\n",
      "None\n"
     ]
    }
   ],
   "source": [
    "print(df.info())"
   ]
  },
  {
   "cell_type": "markdown",
   "id": "46b0fb7e",
   "metadata": {},
   "source": [
    "Visualizar los valores unicos por columna"
   ]
  },
  {
   "cell_type": "code",
   "execution_count": 6,
   "id": "e33f1468",
   "metadata": {},
   "outputs": [
    {
     "name": "stdout",
     "output_type": "stream",
     "text": [
      "Valores únicos por columna:\n",
      "patrimonio_humanidad_id                 35\n",
      "patrimonio_humanidad_nombre             35\n",
      "patrimonio_humanidad_ano_inscripcion    22\n",
      "estado_id                               19\n",
      "nom_ent                                 19\n",
      "municipio_id                            25\n",
      "nom_mun                                 33\n",
      "localidad_id                             8\n",
      "nom_loc                                 27\n",
      "patrimonio_humanidad_pagina_web          0\n",
      "gmaps_longitud                          34\n",
      "gmaps_latitud                           34\n",
      "link_sic                                35\n",
      "fecha_mod                               35\n",
      "dtype: int64\n"
     ]
    }
   ],
   "source": [
    "print(\"Valores únicos por columna:\")\n",
    "print(df.nunique())"
   ]
  },
  {
   "cell_type": "markdown",
   "id": "3863e823",
   "metadata": {},
   "source": [
    "Filtramos el DataFrame con el estado que nos interesa"
   ]
  },
  {
   "cell_type": "code",
   "execution_count": 7,
   "id": "61345ae5",
   "metadata": {},
   "outputs": [],
   "source": [
    "df = df[df['estado_id'] == 15]"
   ]
  },
  {
   "cell_type": "markdown",
   "id": "4406e8c2",
   "metadata": {},
   "source": [
    "Reiniciar índice del DataFrame resultante"
   ]
  },
  {
   "cell_type": "code",
   "execution_count": 8,
   "id": "890504e4",
   "metadata": {},
   "outputs": [],
   "source": [
    "df = df.reset_index(drop=True)"
   ]
  },
  {
   "cell_type": "markdown",
   "id": "05023883",
   "metadata": {},
   "source": [
    "Verificar los registros del CSV actualizado"
   ]
  },
  {
   "cell_type": "code",
   "execution_count": 9,
   "id": "69740e87",
   "metadata": {},
   "outputs": [
    {
     "name": "stdout",
     "output_type": "stream",
     "text": [
      "   patrimonio_humanidad_id         patrimonio_humanidad_nombre  \\\n",
      "0                       38       Acueducto del Padre Tembleque   \n",
      "1                       17  Ciudad Prehispánica de Teotihuacán   \n",
      "\n",
      "   patrimonio_humanidad_ano_inscripcion  estado_id nom_ent  municipio_id  \\\n",
      "0                                  2015         15  México            65   \n",
      "1                                  1987         15  México            92   \n",
      "\n",
      "       nom_mun  localidad_id                nom_loc  \\\n",
      "0       Otumba             0    Total del Municipio   \n",
      "1  Teotihuacán             1  Teotihuacán de Arista   \n",
      "\n",
      "   patrimonio_humanidad_pagina_web  gmaps_longitud  gmaps_latitud  \\\n",
      "0                              NaN       -98.66236       19.83606   \n",
      "1                              NaN       -98.84584       19.69383   \n",
      "\n",
      "                                            link_sic               fecha_mod  \n",
      "0  http://sic.gob.mx/ficha.php?table=patrimonio_h...  2024-08-14 17:50:32-06  \n",
      "1  http://sic.gob.mx/ficha.php?table=patrimonio_h...  2024-08-14 17:58:19-06  \n"
     ]
    }
   ],
   "source": [
    "print(df.head())"
   ]
  },
  {
   "cell_type": "markdown",
   "id": "ffef1e6e",
   "metadata": {},
   "source": [
    "Definimos las columnas del dataset a conservar"
   ]
  },
  {
   "cell_type": "code",
   "execution_count": 10,
   "id": "d945d532",
   "metadata": {},
   "outputs": [],
   "source": [
    "columnas_conservar = [\n",
    "    'patrimonio_humanidad_id',\n",
    "    'patrimonio_humanidad_nombre',\n",
    "    'municipio_id',\n",
    "    'nom_mun',\n",
    "    'gmaps_longitud',\n",
    "    'gmaps_latitud'\n",
    "]"
   ]
  },
  {
   "cell_type": "markdown",
   "id": "cb4c0152",
   "metadata": {},
   "source": [
    "Conservamos solo estas columnas"
   ]
  },
  {
   "cell_type": "code",
   "execution_count": 11,
   "id": "a955ff82",
   "metadata": {},
   "outputs": [],
   "source": [
    "df = df[columnas_conservar]"
   ]
  },
  {
   "cell_type": "markdown",
   "id": "14b4f9c1",
   "metadata": {},
   "source": [
    "Reiniciar indice del Dataset resultante"
   ]
  },
  {
   "cell_type": "code",
   "execution_count": 12,
   "id": "e81dc0b7",
   "metadata": {},
   "outputs": [],
   "source": [
    "df = df.reset_index(drop=True)"
   ]
  },
  {
   "cell_type": "markdown",
   "id": "ea6b0d9a",
   "metadata": {},
   "source": [
    "Verificar los registros del CSV actualizado"
   ]
  },
  {
   "cell_type": "code",
   "execution_count": 13,
   "id": "26af60d4",
   "metadata": {},
   "outputs": [
    {
     "name": "stdout",
     "output_type": "stream",
     "text": [
      "   patrimonio_humanidad_id         patrimonio_humanidad_nombre  municipio_id  \\\n",
      "0                       38       Acueducto del Padre Tembleque            65   \n",
      "1                       17  Ciudad Prehispánica de Teotihuacán            92   \n",
      "\n",
      "       nom_mun  gmaps_longitud  gmaps_latitud  \n",
      "0       Otumba       -98.66236       19.83606  \n",
      "1  Teotihuacán       -98.84584       19.69383  \n"
     ]
    }
   ],
   "source": [
    "print(df.head())"
   ]
  },
  {
   "cell_type": "markdown",
   "id": "f56af927",
   "metadata": {},
   "source": [
    "Observar los datos faltantes por columna del DataFrame"
   ]
  },
  {
   "cell_type": "code",
   "execution_count": 14,
   "id": "427f6621",
   "metadata": {},
   "outputs": [
    {
     "name": "stdout",
     "output_type": "stream",
     "text": [
      "Valores faltantes por columna:\n",
      "patrimonio_humanidad_id        0\n",
      "patrimonio_humanidad_nombre    0\n",
      "municipio_id                   0\n",
      "nom_mun                        0\n",
      "gmaps_longitud                 0\n",
      "gmaps_latitud                  0\n",
      "dtype: int64\n"
     ]
    }
   ],
   "source": [
    "print(\"Valores faltantes por columna:\")\n",
    "print(df.isnull().sum())"
   ]
  },
  {
   "cell_type": "markdown",
   "id": "8bd04944",
   "metadata": {},
   "source": [
    "- Eliminar filas con valores nulos"
   ]
  },
  {
   "cell_type": "code",
   "execution_count": 15,
   "id": "cc5acaab",
   "metadata": {},
   "outputs": [],
   "source": [
    "df = df.dropna()"
   ]
  },
  {
   "cell_type": "markdown",
   "id": "66a4a846",
   "metadata": {},
   "source": [
    "Observar los datos faltantes por columna del DataFrame"
   ]
  },
  {
   "cell_type": "code",
   "execution_count": 16,
   "id": "1784f844",
   "metadata": {},
   "outputs": [
    {
     "name": "stdout",
     "output_type": "stream",
     "text": [
      "Valores faltantes por columna:\n",
      "patrimonio_humanidad_id        0\n",
      "patrimonio_humanidad_nombre    0\n",
      "municipio_id                   0\n",
      "nom_mun                        0\n",
      "gmaps_longitud                 0\n",
      "gmaps_latitud                  0\n",
      "dtype: int64\n"
     ]
    }
   ],
   "source": [
    "print(\"Valores faltantes por columna:\")\n",
    "print(df.isnull().sum())"
   ]
  },
  {
   "cell_type": "markdown",
   "id": "ff1f8b9a",
   "metadata": {},
   "source": [
    "- Reiniciar índice del DataFrame resultante"
   ]
  },
  {
   "cell_type": "code",
   "execution_count": 17,
   "id": "19873cdb",
   "metadata": {},
   "outputs": [],
   "source": [
    "df = df.reset_index(drop=True)"
   ]
  },
  {
   "cell_type": "markdown",
   "id": "f2134178",
   "metadata": {},
   "source": [
    "- Verificar los registros del CSV actualizado"
   ]
  },
  {
   "cell_type": "code",
   "execution_count": 18,
   "id": "383b5c0d",
   "metadata": {},
   "outputs": [
    {
     "name": "stdout",
     "output_type": "stream",
     "text": [
      "   patrimonio_humanidad_id         patrimonio_humanidad_nombre  municipio_id  \\\n",
      "0                       38       Acueducto del Padre Tembleque            65   \n",
      "1                       17  Ciudad Prehispánica de Teotihuacán            92   \n",
      "\n",
      "       nom_mun  gmaps_longitud  gmaps_latitud  \n",
      "0       Otumba       -98.66236       19.83606  \n",
      "1  Teotihuacán       -98.84584       19.69383  \n"
     ]
    }
   ],
   "source": [
    "print(df.head())"
   ]
  },
  {
   "cell_type": "markdown",
   "id": "1a00592c",
   "metadata": {},
   "source": [
    "Guardar el nuevo CSV ya preprocesado"
   ]
  },
  {
   "cell_type": "code",
   "execution_count": 19,
   "id": "22a8d293",
   "metadata": {},
   "outputs": [
    {
     "name": "stdout",
     "output_type": "stream",
     "text": [
      "\n",
      "Archivo 'Patrimonio_Humanidad.csv' guardado exitosamente en el directorio actual!\n"
     ]
    }
   ],
   "source": [
    "nombre_archivo = 'Patrimonio_Humanidad.csv'\n",
    "df.to_csv(nombre_archivo, index=False, encoding='utf-8')\n",
    "\n",
    "print(f\"\\nArchivo '{nombre_archivo}' guardado exitosamente en el directorio actual!\")"
   ]
  }
 ],
 "metadata": {
  "kernelspec": {
   "display_name": "Python 3",
   "language": "python",
   "name": "python3"
  },
  "language_info": {
   "codemirror_mode": {
    "name": "ipython",
    "version": 3
   },
   "file_extension": ".py",
   "mimetype": "text/x-python",
   "name": "python",
   "nbconvert_exporter": "python",
   "pygments_lexer": "ipython3",
   "version": "3.12.0"
  }
 },
 "nbformat": 4,
 "nbformat_minor": 5
}
