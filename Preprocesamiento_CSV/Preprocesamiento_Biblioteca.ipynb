{
 "cells": [
  {
   "cell_type": "markdown",
   "id": "ccaa7dc1",
   "metadata": {},
   "source": [
    "Importación de Librerias"
   ]
  },
  {
   "cell_type": "code",
   "execution_count": 1,
   "id": "a4809310",
   "metadata": {},
   "outputs": [],
   "source": [
    "import pandas as pd\n",
    "import matplotlib.pyplot as plt\n",
    "import seaborn as sns"
   ]
  },
  {
   "cell_type": "markdown",
   "id": "11581973",
   "metadata": {},
   "source": [
    "Cargar los datos (Codificación del CSV latin1)"
   ]
  },
  {
   "cell_type": "code",
   "execution_count": 2,
   "id": "da430a2b",
   "metadata": {},
   "outputs": [],
   "source": [
    "df = pd.read_csv('biblioteca_directorio.csv', encoding='latin1')"
   ]
  },
  {
   "cell_type": "markdown",
   "id": "ab9c0420",
   "metadata": {},
   "source": [
    "Imprimir las primeras 5 filas para observar el formato del CSV"
   ]
  },
  {
   "cell_type": "code",
   "execution_count": 3,
   "id": "80a6468a",
   "metadata": {},
   "outputs": [
    {
     "name": "stdout",
     "output_type": "stream",
     "text": [
      "   otra_bib_id                                    otra_bib_nombre  \\\n",
      "0         8979          Biblioteca Hispano-Mexicana Carlos Prieto   \n",
      "1         8211             Biblioteca Miguel Ángel Barberena Vega   \n",
      "2          122  Biblioteca Lic. Carlos Alva Martínez          ...   \n",
      "3         8221  Biblioteca de la Universidad Panamericana, Cam...   \n",
      "4          117  Centro de Información Bibliográfica de la Univ...   \n",
      "\n",
      "  otra_bib_fecha_fundacion                             otra_bib_adscripcion  \\\n",
      "0               2006-04-17                                 Asociación Civil   \n",
      "1               1000-01-01                              Gobierno del Estado   \n",
      "2               1000-01-01                                       Particular   \n",
      "3               1000-01-01                                       Particular   \n",
      "4               1000-01-01  Secretaría de Educación del Gobierno del Estado   \n",
      "\n",
      "   estado_id         nom_ent  municipio_id         nom_mun  localidad_id  \\\n",
      "0          0  Total nacional             0  Total nacional             0   \n",
      "1          1  Aguascalientes             1  Aguascalientes             1   \n",
      "2          1  Aguascalientes             1  Aguascalientes             1   \n",
      "3          1  Aguascalientes             1  Aguascalientes             1   \n",
      "4          1  Aguascalientes             1  Aguascalientes             1   \n",
      "\n",
      "          nom_loc                              otra_bib_calle_numero  \\\n",
      "0  Total nacional                                  I. la Católica 29   \n",
      "1  Aguascalientes                          Av. Paseo de la Cruz 904    \n",
      "2  Aguascalientes  Av. Esfuerzo Nacional 612                     ...   \n",
      "3  Aguascalientes                  Josemaría Escrivá de Balaguer 101   \n",
      "4  Aguascalientes  Blvd. Juan Pablo II 1302                      ...   \n",
      "\n",
      "                                    otra_bib_colonia otra_bib_cp  \\\n",
      "0                                   Centro Histórico         NaN   \n",
      "1                               Fracc. IV Centenario       20260   \n",
      "2               Fracc. Ojocaliente IV                      20197   \n",
      "3                                Villas de Bonaterra       20296   \n",
      "4  Fracc. Ex Hacienda La Cantera                 ...       20206   \n",
      "\n",
      "   otra_bib_telfono1  otra_bib_pagina_web  gmaps_longitud  gmaps_latitud  \\\n",
      "0                NaN                  NaN       -99.13652       19.43290   \n",
      "1                NaN                  NaN      -102.28078       21.87274   \n",
      "2                NaN                  NaN      -102.26170       21.89366   \n",
      "3                NaN                  NaN      -102.28304       21.82330   \n",
      "4                NaN                  NaN      -102.34638       21.82106   \n",
      "\n",
      "                                            link_sic               fecha_mod  \n",
      "0  http://sic.gob.mx/ficha.php?table=otra_bib&tab...  2025-01-28 12:51:43-06  \n",
      "1  http://sic.gob.mx/ficha.php?table=otra_bib&tab...  2023-01-18 05:48:15-06  \n",
      "2  http://sic.gob.mx/ficha.php?table=otra_bib&tab...  2023-01-18 05:44:04-06  \n",
      "3  http://sic.gob.mx/ficha.php?table=otra_bib&tab...  2024-02-02 05:34:19-06  \n",
      "4  http://sic.gob.mx/ficha.php?table=otra_bib&tab...  2022-11-29 07:39:12-06  \n"
     ]
    }
   ],
   "source": [
    "print(df.head())"
   ]
  },
  {
   "cell_type": "markdown",
   "id": "845b75e1",
   "metadata": {},
   "source": [
    "Imprimir las ultimas 5 filas para observar el formato del CSV"
   ]
  },
  {
   "cell_type": "code",
   "execution_count": 4,
   "id": "13d37d70",
   "metadata": {},
   "outputs": [
    {
     "name": "stdout",
     "output_type": "stream",
     "text": [
      "      otra_bib_id                                    otra_bib_nombre  \\\n",
      "1320         8788  Biblioteca y Centro de Documentación Mercedes ...   \n",
      "1321         6866                                Biblioteca del Cren   \n",
      "1322         6863           Biblioteca de la Facultad de Humanidades   \n",
      "1323         6862            Biblioteca de la Facultad de Psicología   \n",
      "1324         8462  Casa de la Cultura Jurídica Roque Estrada Reynoso   \n",
      "\n",
      "     otra_bib_fecha_fundacion  \\\n",
      "1320               2001-09-08   \n",
      "1321               1000-01-01   \n",
      "1322               1000-01-01   \n",
      "1323               1000-01-01   \n",
      "1324               1000-01-01   \n",
      "\n",
      "                                   otra_bib_adscripcion  estado_id    nom_ent  \\\n",
      "1320           Museo de Arte Abstracto Manuel Felguérez         32  Zacatecas   \n",
      "1321  Universidad Autónoma de Zacatecas (UAZ) Franci...         32  Zacatecas   \n",
      "1322  Universidad Autónoma de Zacatecas (UAZ) Franci...         32  Zacatecas   \n",
      "1323  Universidad Autónoma de Zacatecas (UAZ) Franci...         32  Zacatecas   \n",
      "1324             Suprema Corte de Justicia de la Nación         32  Zacatecas   \n",
      "\n",
      "      municipio_id    nom_mun  localidad_id    nom_loc  \\\n",
      "1320            56  Zacatecas             1  Zacatecas   \n",
      "1321            56  Zacatecas             1  Zacatecas   \n",
      "1322            56  Zacatecas             1  Zacatecas   \n",
      "1323            56  Zacatecas             1  Zacatecas   \n",
      "1324            56  Zacatecas             1  Zacatecas   \n",
      "\n",
      "                              otra_bib_calle_numero  \\\n",
      "1320  Cristóbal Colon, s/n, esq. 1ra. del Seminario   \n",
      "1321                            Av. Universidad s/n   \n",
      "1322                       Unidad Universitaria s/n   \n",
      "1323     Unidad Universitaria s/n                     \n",
      "1324                              Genaro Codina 613   \n",
      "\n",
      "                      otra_bib_colonia otra_bib_cp  otra_bib_telfono1  \\\n",
      "1320                            Centro       98000                NaN   \n",
      "1321              Ciudad Universitaria       98000                NaN   \n",
      "1322  Col. Franja de Calz. Universidad       98060                NaN   \n",
      "1323  Col. Franja de Calz. Universidad       98000                NaN   \n",
      "1324                  Centro Histórico       98000                NaN   \n",
      "\n",
      "      otra_bib_pagina_web  gmaps_longitud  gmaps_latitud  \\\n",
      "1320                  NaN      -102.57184       22.77610   \n",
      "1321                  NaN         0.00000        0.00000   \n",
      "1322                  NaN         0.00000        0.00000   \n",
      "1323                  NaN         0.00000        0.00000   \n",
      "1324                  NaN      -102.57265       22.77716   \n",
      "\n",
      "                                               link_sic  \\\n",
      "1320  http://sic.gob.mx/ficha.php?table=otra_bib&tab...   \n",
      "1321  http://sic.gob.mx/ficha.php?table=otra_bib&tab...   \n",
      "1322  http://sic.gob.mx/ficha.php?table=otra_bib&tab...   \n",
      "1323  http://sic.gob.mx/ficha.php?table=otra_bib&tab...   \n",
      "1324  http://sic.gob.mx/ficha.php?table=otra_bib&tab...   \n",
      "\n",
      "                   fecha_mod  \n",
      "1320  2018-12-18 08:13:02-06  \n",
      "1321  2021-03-16 05:50:38-06  \n",
      "1322  2021-03-16 05:42:03-06  \n",
      "1323  2021-03-16 05:41:21-06  \n",
      "1324  2021-03-31 07:19:29-06  \n"
     ]
    }
   ],
   "source": [
    "print(df.tail())"
   ]
  },
  {
   "cell_type": "markdown",
   "id": "9ef3e41d",
   "metadata": {},
   "source": [
    "Imprimir las columnas del CSV con su respectivo tipo de dato"
   ]
  },
  {
   "cell_type": "code",
   "execution_count": 5,
   "id": "53e1482c",
   "metadata": {},
   "outputs": [
    {
     "name": "stdout",
     "output_type": "stream",
     "text": [
      "<class 'pandas.core.frame.DataFrame'>\n",
      "RangeIndex: 1325 entries, 0 to 1324\n",
      "Data columns (total 19 columns):\n",
      " #   Column                    Non-Null Count  Dtype  \n",
      "---  ------                    --------------  -----  \n",
      " 0   otra_bib_id               1325 non-null   int64  \n",
      " 1   otra_bib_nombre           1324 non-null   object \n",
      " 2   otra_bib_fecha_fundacion  1325 non-null   object \n",
      " 3   otra_bib_adscripcion      1275 non-null   object \n",
      " 4   estado_id                 1325 non-null   int64  \n",
      " 5   nom_ent                   1325 non-null   object \n",
      " 6   municipio_id              1325 non-null   int64  \n",
      " 7   nom_mun                   1325 non-null   object \n",
      " 8   localidad_id              1325 non-null   int64  \n",
      " 9   nom_loc                   1325 non-null   object \n",
      " 10  otra_bib_calle_numero     1319 non-null   object \n",
      " 11  otra_bib_colonia          1231 non-null   object \n",
      " 12  otra_bib_cp               1306 non-null   object \n",
      " 13  otra_bib_telfono1         0 non-null      float64\n",
      " 14  otra_bib_pagina_web       0 non-null      float64\n",
      " 15  gmaps_longitud            1325 non-null   float64\n",
      " 16  gmaps_latitud             1325 non-null   float64\n",
      " 17  link_sic                  1325 non-null   object \n",
      " 18  fecha_mod                 1325 non-null   object \n",
      "dtypes: float64(4), int64(4), object(11)\n",
      "memory usage: 196.8+ KB\n",
      "None\n"
     ]
    }
   ],
   "source": [
    "print(df.info())"
   ]
  },
  {
   "cell_type": "markdown",
   "id": "46b0fb7e",
   "metadata": {},
   "source": [
    "Visualizar los valores unicos por columna"
   ]
  },
  {
   "cell_type": "code",
   "execution_count": null,
   "id": "e33f1468",
   "metadata": {},
   "outputs": [
    {
     "name": "stdout",
     "output_type": "stream",
     "text": [
      "Valores únicos por columna:\n",
      "otra_bib_id                 1325\n",
      "otra_bib_nombre             1302\n",
      "otra_bib_fecha_fundacion     340\n",
      "otra_bib_adscripcion         384\n",
      "estado_id                     33\n",
      "nom_ent                       33\n",
      "municipio_id                 119\n",
      "nom_mun                      255\n",
      "localidad_id                  51\n",
      "nom_loc                      297\n",
      "otra_bib_calle_numero       1265\n",
      "otra_bib_colonia             788\n",
      "otra_bib_cp                  757\n",
      "otra_bib_telfono1              0\n",
      "otra_bib_pagina_web            0\n",
      "gmaps_longitud              1012\n",
      "gmaps_latitud               1012\n",
      "link_sic                    1325\n",
      "fecha_mod                   1325\n",
      "dtype: int64\n"
     ]
    }
   ],
   "source": [
    "print(\"Valores únicos por columna:\")\n",
    "print(df.nunique())"
   ]
  },
  {
   "cell_type": "markdown",
   "id": "3863e823",
   "metadata": {},
   "source": [
    "Filtramos el DataFrame con el estado que nos interesa"
   ]
  },
  {
   "cell_type": "code",
   "execution_count": 7,
   "id": "61345ae5",
   "metadata": {},
   "outputs": [],
   "source": [
    "df = df[df['estado_id'] == 15]"
   ]
  },
  {
   "cell_type": "markdown",
   "id": "4406e8c2",
   "metadata": {},
   "source": [
    "Reiniciar índice del DataFrame resultante"
   ]
  },
  {
   "cell_type": "code",
   "execution_count": 8,
   "id": "890504e4",
   "metadata": {},
   "outputs": [],
   "source": [
    "df = df.reset_index(drop=True)"
   ]
  },
  {
   "cell_type": "markdown",
   "id": "05023883",
   "metadata": {},
   "source": [
    "Verificar los registros del CSV actualizado"
   ]
  },
  {
   "cell_type": "code",
   "execution_count": 9,
   "id": "69740e87",
   "metadata": {},
   "outputs": [
    {
     "name": "stdout",
     "output_type": "stream",
     "text": [
      "   otra_bib_id                                    otra_bib_nombre  \\\n",
      "0         4957  Biblioteca del Centro de Maestros de Chiautla ...   \n",
      "1         8958                          Biblioteca Cristina Payán   \n",
      "2         7247  Biblioteca del Centro de Enseñanza, Inv. y Ext...   \n",
      "3         1920  Biblioteca campus Lomas Verdes                ...   \n",
      "4         8738  Biblioteca de la Escuela Superior de Ingenierí...   \n",
      "\n",
      "  otra_bib_fecha_fundacion             otra_bib_adscripcion  estado_id  \\\n",
      "0               1000-01-01   SECRETARIA DE EDUCACION PUBLIC         15   \n",
      "1               1994-01-01       Secretaría de Cultura/INAH         15   \n",
      "2               2006-01-01                             UNAM         15   \n",
      "3               1000-01-01  Universidad del Valle de México         15   \n",
      "4               1000-01-01                              IPN         15   \n",
      "\n",
      "  nom_ent  municipio_id              nom_mun  localidad_id  \\\n",
      "0  México            28             Chiautla             1   \n",
      "1  México            33  Ecatepec de Morelos             1   \n",
      "2  México            45            Jilotepec             1   \n",
      "3  México            57  Naucalpan de Juárez             1   \n",
      "4  México            57  Naucalpan de Juárez             1   \n",
      "\n",
      "                        nom_loc  \\\n",
      "0                      Chiautla   \n",
      "1           Ecatepec de Morelos   \n",
      "2  Jilotepec de Molina Enríquez   \n",
      "3           Naucalpan de Juárez   \n",
      "4           Naucalpan de Juárez   \n",
      "\n",
      "                               otra_bib_calle_numero  \\\n",
      "0  5 Pte y Av. 5 de Mayo 12                      ...   \n",
      "1           Antigua Carr. México-Pachuca s/n km 23.5   \n",
      "2                     Km. 2 Carr. Jilotepec-Corrales   \n",
      "3                               Paseo de las Aves  1   \n",
      "4                        Av. Fuente de los Leones 28   \n",
      "\n",
      "                                    otra_bib_colonia otra_bib_cp  \\\n",
      "0                                                          74730   \n",
      "1                           Col. San Juan Acalhuacan       55040   \n",
      "2                            Col. La Dalia Jilotepec       54240   \n",
      "3          Col. San Mateo Nopala                 ...       53220   \n",
      "4                                                NaN       53760   \n",
      "\n",
      "   otra_bib_telfono1  otra_bib_pagina_web  gmaps_longitud  gmaps_latitud  \\\n",
      "0                NaN                  NaN       -98.88279       19.54944   \n",
      "1                NaN                  NaN       -99.03569       19.60030   \n",
      "2                NaN                  NaN       -99.51040       19.95739   \n",
      "3                NaN                  NaN       -99.26304       19.50710   \n",
      "4                NaN                  NaN       -99.22955       19.43019   \n",
      "\n",
      "                                            link_sic               fecha_mod  \n",
      "0  http://sic.gob.mx/ficha.php?table=otra_bib&tab...  2018-02-12 10:50:09-06  \n",
      "1  http://sic.gob.mx/ficha.php?table=otra_bib&tab...  2025-02-13 11:27:05-06  \n",
      "2  http://sic.gob.mx/ficha.php?table=otra_bib&tab...  2020-01-27 04:35:04-06  \n",
      "3  http://sic.gob.mx/ficha.php?table=otra_bib&tab...  2021-03-09 04:20:35-06  \n",
      "4  http://sic.gob.mx/ficha.php?table=otra_bib&tab...  2018-11-06 08:34:18-06  \n"
     ]
    }
   ],
   "source": [
    "print(df.head())"
   ]
  },
  {
   "cell_type": "markdown",
   "id": "ffef1e6e",
   "metadata": {},
   "source": [
    "Definimos las columnas del dataset a conservar"
   ]
  },
  {
   "cell_type": "code",
   "execution_count": 10,
   "id": "d945d532",
   "metadata": {},
   "outputs": [],
   "source": [
    "columnas_conservar = [\n",
    "    'otra_bib_id',\n",
    "    'otra_bib_nombre',\n",
    "    'municipio_id',\n",
    "    'nom_mun',\n",
    "    'gmaps_longitud',\n",
    "    'gmaps_latitud'\n",
    "]"
   ]
  },
  {
   "cell_type": "markdown",
   "id": "cb4c0152",
   "metadata": {},
   "source": [
    "Conservamos solo estas columnas"
   ]
  },
  {
   "cell_type": "code",
   "execution_count": 11,
   "id": "a955ff82",
   "metadata": {},
   "outputs": [],
   "source": [
    "df = df[columnas_conservar]"
   ]
  },
  {
   "cell_type": "markdown",
   "id": "14b4f9c1",
   "metadata": {},
   "source": [
    "Reiniciar indice del Dataset resultante"
   ]
  },
  {
   "cell_type": "code",
   "execution_count": 12,
   "id": "e81dc0b7",
   "metadata": {},
   "outputs": [],
   "source": [
    "df = df.reset_index(drop=True)"
   ]
  },
  {
   "cell_type": "markdown",
   "id": "ea6b0d9a",
   "metadata": {},
   "source": [
    "Verificar los registros del CSV actualizado"
   ]
  },
  {
   "cell_type": "code",
   "execution_count": 13,
   "id": "26af60d4",
   "metadata": {},
   "outputs": [
    {
     "name": "stdout",
     "output_type": "stream",
     "text": [
      "   otra_bib_id                                    otra_bib_nombre  \\\n",
      "0         4957  Biblioteca del Centro de Maestros de Chiautla ...   \n",
      "1         8958                          Biblioteca Cristina Payán   \n",
      "2         7247  Biblioteca del Centro de Enseñanza, Inv. y Ext...   \n",
      "3         1920  Biblioteca campus Lomas Verdes                ...   \n",
      "4         8738  Biblioteca de la Escuela Superior de Ingenierí...   \n",
      "\n",
      "   municipio_id              nom_mun  gmaps_longitud  gmaps_latitud  \n",
      "0            28             Chiautla       -98.88279       19.54944  \n",
      "1            33  Ecatepec de Morelos       -99.03569       19.60030  \n",
      "2            45            Jilotepec       -99.51040       19.95739  \n",
      "3            57  Naucalpan de Juárez       -99.26304       19.50710  \n",
      "4            57  Naucalpan de Juárez       -99.22955       19.43019  \n"
     ]
    }
   ],
   "source": [
    "print(df.head())"
   ]
  },
  {
   "cell_type": "markdown",
   "id": "f56af927",
   "metadata": {},
   "source": [
    "Observar los datos faltantes por columna del DataFrame"
   ]
  },
  {
   "cell_type": "code",
   "execution_count": 14,
   "id": "427f6621",
   "metadata": {},
   "outputs": [
    {
     "name": "stdout",
     "output_type": "stream",
     "text": [
      "Valores faltantes por columna:\n",
      "otra_bib_id        0\n",
      "otra_bib_nombre    0\n",
      "municipio_id       0\n",
      "nom_mun            0\n",
      "gmaps_longitud     0\n",
      "gmaps_latitud      0\n",
      "dtype: int64\n"
     ]
    }
   ],
   "source": [
    "print(\"Valores faltantes por columna:\")\n",
    "print(df.isnull().sum())"
   ]
  },
  {
   "cell_type": "markdown",
   "id": "8bd04944",
   "metadata": {},
   "source": [
    "- Eliminar filas con valores nulos"
   ]
  },
  {
   "cell_type": "code",
   "execution_count": 15,
   "id": "cc5acaab",
   "metadata": {},
   "outputs": [],
   "source": [
    "df = df.dropna()"
   ]
  },
  {
   "cell_type": "markdown",
   "id": "66a4a846",
   "metadata": {},
   "source": [
    "Observar los datos faltantes por columna del DataFrame"
   ]
  },
  {
   "cell_type": "code",
   "execution_count": 16,
   "id": "1784f844",
   "metadata": {},
   "outputs": [
    {
     "name": "stdout",
     "output_type": "stream",
     "text": [
      "Valores faltantes por columna:\n",
      "otra_bib_id        0\n",
      "otra_bib_nombre    0\n",
      "municipio_id       0\n",
      "nom_mun            0\n",
      "gmaps_longitud     0\n",
      "gmaps_latitud      0\n",
      "dtype: int64\n"
     ]
    }
   ],
   "source": [
    "print(\"Valores faltantes por columna:\")\n",
    "print(df.isnull().sum())"
   ]
  },
  {
   "cell_type": "markdown",
   "id": "ff1f8b9a",
   "metadata": {},
   "source": [
    "- Reiniciar índice del DataFrame resultante"
   ]
  },
  {
   "cell_type": "code",
   "execution_count": 17,
   "id": "19873cdb",
   "metadata": {},
   "outputs": [],
   "source": [
    "df = df.reset_index(drop=True)"
   ]
  },
  {
   "cell_type": "markdown",
   "id": "f2134178",
   "metadata": {},
   "source": [
    "- Verificar los registros del CSV actualizado"
   ]
  },
  {
   "cell_type": "code",
   "execution_count": 18,
   "id": "383b5c0d",
   "metadata": {},
   "outputs": [
    {
     "name": "stdout",
     "output_type": "stream",
     "text": [
      "   otra_bib_id                                    otra_bib_nombre  \\\n",
      "0         4957  Biblioteca del Centro de Maestros de Chiautla ...   \n",
      "1         8958                          Biblioteca Cristina Payán   \n",
      "2         7247  Biblioteca del Centro de Enseñanza, Inv. y Ext...   \n",
      "3         1920  Biblioteca campus Lomas Verdes                ...   \n",
      "4         8738  Biblioteca de la Escuela Superior de Ingenierí...   \n",
      "\n",
      "   municipio_id              nom_mun  gmaps_longitud  gmaps_latitud  \n",
      "0            28             Chiautla       -98.88279       19.54944  \n",
      "1            33  Ecatepec de Morelos       -99.03569       19.60030  \n",
      "2            45            Jilotepec       -99.51040       19.95739  \n",
      "3            57  Naucalpan de Juárez       -99.26304       19.50710  \n",
      "4            57  Naucalpan de Juárez       -99.22955       19.43019  \n"
     ]
    }
   ],
   "source": [
    "print(df.head())"
   ]
  },
  {
   "cell_type": "markdown",
   "id": "1a00592c",
   "metadata": {},
   "source": [
    "Guardar el nuevo CSV ya preprocesado"
   ]
  },
  {
   "cell_type": "code",
   "execution_count": 19,
   "id": "22a8d293",
   "metadata": {},
   "outputs": [
    {
     "name": "stdout",
     "output_type": "stream",
     "text": [
      "\n",
      "Archivo 'Biblioteca.csv' guardado exitosamente en el directorio actual!\n"
     ]
    }
   ],
   "source": [
    "nombre_archivo = 'Biblioteca.csv'\n",
    "df.to_csv(nombre_archivo, index=False, encoding='utf-8')\n",
    "\n",
    "print(f\"\\nArchivo '{nombre_archivo}' guardado exitosamente en el directorio actual!\")"
   ]
  }
 ],
 "metadata": {
  "kernelspec": {
   "display_name": "Python 3",
   "language": "python",
   "name": "python3"
  },
  "language_info": {
   "codemirror_mode": {
    "name": "ipython",
    "version": 3
   },
   "file_extension": ".py",
   "mimetype": "text/x-python",
   "name": "python",
   "nbconvert_exporter": "python",
   "pygments_lexer": "ipython3",
   "version": "3.12.0"
  }
 },
 "nbformat": 4,
 "nbformat_minor": 5
}
