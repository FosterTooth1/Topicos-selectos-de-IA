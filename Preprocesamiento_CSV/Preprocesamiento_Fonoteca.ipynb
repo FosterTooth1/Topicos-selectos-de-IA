{
 "cells": [
  {
   "cell_type": "markdown",
   "id": "ccaa7dc1",
   "metadata": {},
   "source": [
    "Importación de Librerias"
   ]
  },
  {
   "cell_type": "code",
   "execution_count": 1,
   "id": "a4809310",
   "metadata": {},
   "outputs": [],
   "source": [
    "import pandas as pd\n",
    "import matplotlib.pyplot as plt\n",
    "import seaborn as sns"
   ]
  },
  {
   "cell_type": "markdown",
   "id": "11581973",
   "metadata": {},
   "source": [
    "Cargar los datos (Codificación del CSV latin1)"
   ]
  },
  {
   "cell_type": "code",
   "execution_count": 2,
   "id": "da430a2b",
   "metadata": {},
   "outputs": [],
   "source": [
    "df = pd.read_csv('fonoteca_directorio.csv', encoding='latin1')"
   ]
  },
  {
   "cell_type": "markdown",
   "id": "ab9c0420",
   "metadata": {},
   "source": [
    "Imprimir las primeras 5 filas para observar el formato del CSV"
   ]
  },
  {
   "cell_type": "code",
   "execution_count": 3,
   "id": "80a6468a",
   "metadata": {},
   "outputs": [
    {
     "name": "stdout",
     "output_type": "stream",
     "text": [
      "   fonoteca_id                            fonoteca_nombre  \\\n",
      "0           36  Fonoteca El Colegio de la Frontera Norte    \n",
      "1            4                           Sala de Fonoteca   \n",
      "2           14  Fonoteca del Cine Nacional Manuel Esperón   \n",
      "3           13      Fonoteca de la Biblioteca Cuicamatini   \n",
      "4           32                          Fonoteca Nacional   \n",
      "\n",
      "                                fonoteca_adscripcion  estado_id  \\\n",
      "0          El Colegio de la Frontera Norte, A.C.              2   \n",
      "1  Universidad Nacional Autónoma de México/Instit...          9   \n",
      "2   Secretaría de Cultura/Estudios Churubusco Azteca          9   \n",
      "3                            UNAM/Facultad de Música          9   \n",
      "4                              Secretaría de Cultura          9   \n",
      "\n",
      "            nom_ent  municipio_id   nom_mun  localidad_id  \\\n",
      "0   Baja California             4   Tijuana           606   \n",
      "1  Ciudad de México             3  Coyoacán             1   \n",
      "2  Ciudad de México             3  Coyoacán             1   \n",
      "3  Ciudad de México             3  Coyoacán             1   \n",
      "4  Ciudad de México             3  Coyoacán             1   \n",
      "\n",
      "               nom_loc                              fonoteca_calle_numero  \\\n",
      "0  San Antonio del Mar            Carr. Escénica Tijuana-Ensenada Km 18.5   \n",
      "1             Coyoacán        Centro Cultural Universitario, Zona Cultura   \n",
      "2             Coyoacán  Atletas 21, int. Sala de Música Silvestre Revu...   \n",
      "3             Coyoacán                                    Xicoténcatl 126   \n",
      "4             Coyoacán                                 Francisco Sosa 383   \n",
      "\n",
      "           fonoteca_colonia  fonoteca_cp  fonoteca_telfono1  \\\n",
      "0  Col. San Antonio del Mar        22560                NaN   \n",
      "1      Ciudad Universitaria         4510                NaN   \n",
      "2        Col. Country Club         14220                NaN   \n",
      "3           Col. Del Carmen         4100                NaN   \n",
      "4  Barrio de Santa Catarina         4010                NaN   \n",
      "\n",
      "   fonoteca_pagina_web                                              email  \\\n",
      "0                  NaN                                  fonoteca@colef.mx   \n",
      "1                  NaN                                     sonias@unam.mx   \n",
      "2                  NaN  barochi@estudioschurubusco.com; tlacamata@estu...   \n",
      "3                  NaN                              cuicamatini@gmail.com   \n",
      "4                  NaN                    informesfonoteca@cultura.gob.mx   \n",
      "\n",
      "   gmaps_longitud  gmaps_latitud  \\\n",
      "0      -117.11115       32.45679   \n",
      "1       -99.18510       19.31655   \n",
      "2       -99.14228       19.35480   \n",
      "3       -99.15393       19.35462   \n",
      "4       -99.17709       19.34974   \n",
      "\n",
      "                                            link_sic               fecha_mod  \n",
      "0  http://sic.gob.mx/ficha.php?table=fonoteca&tab...  2024-10-31 13:43:08-06  \n",
      "1  http://sic.gob.mx/ficha.php?table=fonoteca&tab...  2023-10-24 05:14:07-06  \n",
      "2  http://sic.gob.mx/ficha.php?table=fonoteca&tab...  2018-07-16 06:05:06-05  \n",
      "3  http://sic.gob.mx/ficha.php?table=fonoteca&tab...  2018-08-14 07:39:09-05  \n",
      "4  http://sic.gob.mx/ficha.php?table=fonoteca&tab...  2024-10-24 13:39:39-06  \n"
     ]
    }
   ],
   "source": [
    "print(df.head())"
   ]
  },
  {
   "cell_type": "markdown",
   "id": "845b75e1",
   "metadata": {},
   "source": [
    "Imprimir las ultimas 5 filas para observar el formato del CSV"
   ]
  },
  {
   "cell_type": "code",
   "execution_count": 4,
   "id": "13d37d70",
   "metadata": {},
   "outputs": [
    {
     "name": "stdout",
     "output_type": "stream",
     "text": [
      "    fonoteca_id                                    fonoteca_nombre  \\\n",
      "18           16                              Fonoteca Eduardo Mata   \n",
      "19           25                           Vicente Teódulo  Mendoza   \n",
      "20           11                 Fonoteca Isaías Noriega de la Vega   \n",
      "21           37  Archivo Sonoro de Radio y Televisión Universit...   \n",
      "22           34                               Fonoteca de Radio UV   \n",
      "\n",
      "                                 fonoteca_adscripcion  estado_id  \\\n",
      "18         Instituto de Artes Gráficas de Oaxaca IAGO         20   \n",
      "19  Organismo Público y Descentralizado Museos Puebla         21   \n",
      "20          Benemérita Universidad Autónoma de Puebla         21   \n",
      "21    Universidad Autónoma de San Luis Potosí (UASLP)         24   \n",
      "22                       Universidad Veracruzana (UV)         30   \n",
      "\n",
      "                            nom_ent  municipio_id           nom_mun  \\\n",
      "18                           Oaxaca            67  Oaxaca de Juárez   \n",
      "19                           Puebla           114            Puebla   \n",
      "20                           Puebla           114            Puebla   \n",
      "21                  San Luis Potosí            28   San Luis Potosí   \n",
      "22  Veracruz de Ignacio de la Llave            87            Xalapa   \n",
      "\n",
      "    localidad_id                     nom_loc  \\\n",
      "18             1            Oaxaca de Juárez   \n",
      "19             1  Heroica Puebla de Zaragoza   \n",
      "20             1  Heroica Puebla de Zaragoza   \n",
      "21             1             San Luis Potosí   \n",
      "22             1             Xalapa-Enríquez   \n",
      "\n",
      "                                fonoteca_calle_numero  fonoteca_colonia  \\\n",
      "18               Av. Juárez 203 esq. Morelos y Mujica            Centro   \n",
      "19  Francisco Villa 4 Ex-Fábrica La Constancia Mex...  Col. Las fuentes   \n",
      "20                                         8 Ote. 409  Centro Histórico   \n",
      "21                                 Mariano Arista 245  Centro Histórico   \n",
      "22                      Francisco Javier Clavijero 24       Zona Centro   \n",
      "\n",
      "    fonoteca_cp  fonoteca_telfono1  fonoteca_pagina_web  \\\n",
      "18        68000                NaN                  NaN   \n",
      "19        72110                NaN                  NaN   \n",
      "20        72000                NaN                  NaN   \n",
      "21        78000                NaN                  NaN   \n",
      "22        91000                NaN                  NaN   \n",
      "\n",
      "                                           email  gmaps_longitud  \\\n",
      "18                fonoteca.eduardomata@gmail.com       -96.72364   \n",
      "19           complejo.laconstancia@puebla.gob.mx       -98.23490   \n",
      "20                     fonoteca.buap@hotmail.com       -98.19313   \n",
      "21                             ubaldocr@uaslp.mx      -100.97794   \n",
      "22  radio@uv.mx; fguevara@uv.mx; holaradio@uv.mx       -96.92444   \n",
      "\n",
      "    gmaps_latitud                                           link_sic  \\\n",
      "18       17.06284  http://sic.gob.mx/ficha.php?table=fonoteca&tab...   \n",
      "19       19.09264  http://sic.gob.mx/ficha.php?table=fonoteca&tab...   \n",
      "20       19.04565  http://sic.gob.mx/ficha.php?table=fonoteca&tab...   \n",
      "21       22.15313  http://sic.gob.mx/ficha.php?table=fonoteca&tab...   \n",
      "22       19.52960  http://sic.gob.mx/ficha.php?table=fonoteca&tab...   \n",
      "\n",
      "                 fecha_mod  \n",
      "18  2023-09-20 06:46:12-06  \n",
      "19  2025-05-23 12:31:38-06  \n",
      "20  2019-04-23 11:20:01-05  \n",
      "21  2024-03-15 07:30:24-06  \n",
      "22  2025-04-04 14:04:19-06  \n"
     ]
    }
   ],
   "source": [
    "print(df.tail())"
   ]
  },
  {
   "cell_type": "markdown",
   "id": "9ef3e41d",
   "metadata": {},
   "source": [
    "Imprimir las columnas del CSV con su respectivo tipo de dato"
   ]
  },
  {
   "cell_type": "code",
   "execution_count": 5,
   "id": "53e1482c",
   "metadata": {},
   "outputs": [
    {
     "name": "stdout",
     "output_type": "stream",
     "text": [
      "<class 'pandas.core.frame.DataFrame'>\n",
      "RangeIndex: 23 entries, 0 to 22\n",
      "Data columns (total 19 columns):\n",
      " #   Column                 Non-Null Count  Dtype  \n",
      "---  ------                 --------------  -----  \n",
      " 0   fonoteca_id            23 non-null     int64  \n",
      " 1   fonoteca_nombre        23 non-null     object \n",
      " 2   fonoteca_adscripcion   23 non-null     object \n",
      " 3   estado_id              23 non-null     int64  \n",
      " 4   nom_ent                23 non-null     object \n",
      " 5   municipio_id           23 non-null     int64  \n",
      " 6   nom_mun                23 non-null     object \n",
      " 7   localidad_id           23 non-null     int64  \n",
      " 8   nom_loc                23 non-null     object \n",
      " 9   fonoteca_calle_numero  23 non-null     object \n",
      " 10  fonoteca_colonia       23 non-null     object \n",
      " 11  fonoteca_cp            23 non-null     int64  \n",
      " 12  fonoteca_telfono1      0 non-null      float64\n",
      " 13  fonoteca_pagina_web    0 non-null      float64\n",
      " 14  email                  23 non-null     object \n",
      " 15  gmaps_longitud         23 non-null     float64\n",
      " 16  gmaps_latitud          23 non-null     float64\n",
      " 17  link_sic               23 non-null     object \n",
      " 18  fecha_mod              23 non-null     object \n",
      "dtypes: float64(4), int64(5), object(10)\n",
      "memory usage: 3.5+ KB\n",
      "None\n"
     ]
    }
   ],
   "source": [
    "print(df.info())"
   ]
  },
  {
   "cell_type": "markdown",
   "id": "46b0fb7e",
   "metadata": {},
   "source": [
    "Visualizar los valores unicos por columna"
   ]
  },
  {
   "cell_type": "code",
   "execution_count": 6,
   "id": "e33f1468",
   "metadata": {},
   "outputs": [
    {
     "name": "stdout",
     "output_type": "stream",
     "text": [
      "Valores únicos por columna:\n",
      "fonoteca_id              23\n",
      "fonoteca_nombre          23\n",
      "fonoteca_adscripcion     21\n",
      "estado_id                 8\n",
      "nom_ent                   8\n",
      "municipio_id             13\n",
      "nom_mun                  13\n",
      "localidad_id              2\n",
      "nom_loc                  13\n",
      "fonoteca_calle_numero    23\n",
      "fonoteca_colonia         18\n",
      "fonoteca_cp              20\n",
      "fonoteca_telfono1         0\n",
      "fonoteca_pagina_web       0\n",
      "email                    23\n",
      "gmaps_longitud           23\n",
      "gmaps_latitud            23\n",
      "link_sic                 23\n",
      "fecha_mod                23\n",
      "dtype: int64\n"
     ]
    }
   ],
   "source": [
    "print(\"Valores únicos por columna:\")\n",
    "print(df.nunique())"
   ]
  },
  {
   "cell_type": "markdown",
   "id": "3863e823",
   "metadata": {},
   "source": [
    "Filtramos el DataFrame con el estado que nos interesa"
   ]
  },
  {
   "cell_type": "code",
   "execution_count": 7,
   "id": "61345ae5",
   "metadata": {},
   "outputs": [],
   "source": [
    "df = df[df['estado_id'] == 15]"
   ]
  },
  {
   "cell_type": "markdown",
   "id": "4406e8c2",
   "metadata": {},
   "source": [
    "Reiniciar índice del DataFrame resultante"
   ]
  },
  {
   "cell_type": "code",
   "execution_count": 8,
   "id": "890504e4",
   "metadata": {},
   "outputs": [],
   "source": [
    "df = df.reset_index(drop=True)"
   ]
  },
  {
   "cell_type": "markdown",
   "id": "05023883",
   "metadata": {},
   "source": [
    "Verificar los registros del CSV actualizado"
   ]
  },
  {
   "cell_type": "code",
   "execution_count": 9,
   "id": "69740e87",
   "metadata": {},
   "outputs": [
    {
     "name": "stdout",
     "output_type": "stream",
     "text": [
      "   fonoteca_id                                    fonoteca_nombre  \\\n",
      "0           28  Fonoteca del Sistema de Radio y Televisión Mex...   \n",
      "\n",
      "                       fonoteca_adscripcion  estado_id nom_ent  municipio_id  \\\n",
      "0  Sistema de Radio y Televisión Mexiquense         15  México            54   \n",
      "\n",
      "   nom_mun  localidad_id  nom_loc           fonoteca_calle_numero  \\\n",
      "0  Metepec             1  Metepec  Av. Estado de México Ote. 1601   \n",
      "\n",
      "    fonoteca_colonia  fonoteca_cp  fonoteca_telfono1  fonoteca_pagina_web  \\\n",
      "0  Col. Llano Grande        52148                NaN                  NaN   \n",
      "\n",
      "                                         email  gmaps_longitud  gmaps_latitud  \\\n",
      "0  fonoradiomex2@gmail.com; jisolmtz@gmail.com             0.0            0.0   \n",
      "\n",
      "                                            link_sic               fecha_mod  \n",
      "0  http://sic.gob.mx/ficha.php?table=fonoteca&tab...  2018-07-26 09:34:46-05  \n"
     ]
    }
   ],
   "source": [
    "print(df.head())"
   ]
  },
  {
   "cell_type": "markdown",
   "id": "ffef1e6e",
   "metadata": {},
   "source": [
    "Definimos las columnas del dataset a conservar"
   ]
  },
  {
   "cell_type": "code",
   "execution_count": 10,
   "id": "d945d532",
   "metadata": {},
   "outputs": [],
   "source": [
    "columnas_conservar = [\n",
    "    'fonoteca_id',\n",
    "    'fonoteca_nombre',\n",
    "    'municipio_id',\n",
    "    'nom_mun',\n",
    "    'gmaps_longitud',\n",
    "    'gmaps_latitud'\n",
    "]"
   ]
  },
  {
   "cell_type": "markdown",
   "id": "cb4c0152",
   "metadata": {},
   "source": [
    "Conservamos solo estas columnas"
   ]
  },
  {
   "cell_type": "code",
   "execution_count": 11,
   "id": "a955ff82",
   "metadata": {},
   "outputs": [],
   "source": [
    "df = df[columnas_conservar]"
   ]
  },
  {
   "cell_type": "markdown",
   "id": "14b4f9c1",
   "metadata": {},
   "source": [
    "Reiniciar indice del Dataset resultante"
   ]
  },
  {
   "cell_type": "code",
   "execution_count": 12,
   "id": "e81dc0b7",
   "metadata": {},
   "outputs": [],
   "source": [
    "df = df.reset_index(drop=True)"
   ]
  },
  {
   "cell_type": "markdown",
   "id": "ea6b0d9a",
   "metadata": {},
   "source": [
    "Verificar los registros del CSV actualizado"
   ]
  },
  {
   "cell_type": "code",
   "execution_count": 13,
   "id": "26af60d4",
   "metadata": {},
   "outputs": [
    {
     "name": "stdout",
     "output_type": "stream",
     "text": [
      "   fonoteca_id                                    fonoteca_nombre  \\\n",
      "0           28  Fonoteca del Sistema de Radio y Televisión Mex...   \n",
      "\n",
      "   municipio_id  nom_mun  gmaps_longitud  gmaps_latitud  \n",
      "0            54  Metepec             0.0            0.0  \n"
     ]
    }
   ],
   "source": [
    "print(df.head())"
   ]
  },
  {
   "cell_type": "markdown",
   "id": "f56af927",
   "metadata": {},
   "source": [
    "Observar los datos faltantes por columna del DataFrame"
   ]
  },
  {
   "cell_type": "code",
   "execution_count": 14,
   "id": "427f6621",
   "metadata": {},
   "outputs": [
    {
     "name": "stdout",
     "output_type": "stream",
     "text": [
      "Valores faltantes por columna:\n",
      "fonoteca_id        0\n",
      "fonoteca_nombre    0\n",
      "municipio_id       0\n",
      "nom_mun            0\n",
      "gmaps_longitud     0\n",
      "gmaps_latitud      0\n",
      "dtype: int64\n"
     ]
    }
   ],
   "source": [
    "print(\"Valores faltantes por columna:\")\n",
    "print(df.isnull().sum())"
   ]
  },
  {
   "cell_type": "markdown",
   "id": "8bd04944",
   "metadata": {},
   "source": [
    "- Eliminar filas con valores nulos"
   ]
  },
  {
   "cell_type": "code",
   "execution_count": 15,
   "id": "cc5acaab",
   "metadata": {},
   "outputs": [],
   "source": [
    "df = df.dropna()"
   ]
  },
  {
   "cell_type": "markdown",
   "id": "66a4a846",
   "metadata": {},
   "source": [
    "Observar los datos faltantes por columna del DataFrame"
   ]
  },
  {
   "cell_type": "code",
   "execution_count": 16,
   "id": "1784f844",
   "metadata": {},
   "outputs": [
    {
     "name": "stdout",
     "output_type": "stream",
     "text": [
      "Valores faltantes por columna:\n",
      "fonoteca_id        0\n",
      "fonoteca_nombre    0\n",
      "municipio_id       0\n",
      "nom_mun            0\n",
      "gmaps_longitud     0\n",
      "gmaps_latitud      0\n",
      "dtype: int64\n"
     ]
    }
   ],
   "source": [
    "print(\"Valores faltantes por columna:\")\n",
    "print(df.isnull().sum())"
   ]
  },
  {
   "cell_type": "markdown",
   "id": "ff1f8b9a",
   "metadata": {},
   "source": [
    "- Reiniciar índice del DataFrame resultante"
   ]
  },
  {
   "cell_type": "code",
   "execution_count": 17,
   "id": "19873cdb",
   "metadata": {},
   "outputs": [],
   "source": [
    "df = df.reset_index(drop=True)"
   ]
  },
  {
   "cell_type": "markdown",
   "id": "f2134178",
   "metadata": {},
   "source": [
    "- Verificar los registros del CSV actualizado"
   ]
  },
  {
   "cell_type": "code",
   "execution_count": 18,
   "id": "383b5c0d",
   "metadata": {},
   "outputs": [
    {
     "name": "stdout",
     "output_type": "stream",
     "text": [
      "   fonoteca_id                                    fonoteca_nombre  \\\n",
      "0           28  Fonoteca del Sistema de Radio y Televisión Mex...   \n",
      "\n",
      "   municipio_id  nom_mun  gmaps_longitud  gmaps_latitud  \n",
      "0            54  Metepec             0.0            0.0  \n"
     ]
    }
   ],
   "source": [
    "print(df.head())"
   ]
  },
  {
   "cell_type": "markdown",
   "id": "1a00592c",
   "metadata": {},
   "source": [
    "Guardar el nuevo CSV ya preprocesado"
   ]
  },
  {
   "cell_type": "code",
   "execution_count": 19,
   "id": "22a8d293",
   "metadata": {},
   "outputs": [
    {
     "name": "stdout",
     "output_type": "stream",
     "text": [
      "\n",
      "Archivo 'Fonoteca.csv' guardado exitosamente en el directorio actual!\n"
     ]
    }
   ],
   "source": [
    "nombre_archivo = 'Fonoteca.csv'\n",
    "df.to_csv(nombre_archivo, index=False, encoding='utf-8')\n",
    "\n",
    "print(f\"\\nArchivo '{nombre_archivo}' guardado exitosamente en el directorio actual!\")"
   ]
  }
 ],
 "metadata": {
  "kernelspec": {
   "display_name": "Python 3",
   "language": "python",
   "name": "python3"
  },
  "language_info": {
   "codemirror_mode": {
    "name": "ipython",
    "version": 3
   },
   "file_extension": ".py",
   "mimetype": "text/x-python",
   "name": "python",
   "nbconvert_exporter": "python",
   "pygments_lexer": "ipython3",
   "version": "3.12.0"
  }
 },
 "nbformat": 4,
 "nbformat_minor": 5
}
