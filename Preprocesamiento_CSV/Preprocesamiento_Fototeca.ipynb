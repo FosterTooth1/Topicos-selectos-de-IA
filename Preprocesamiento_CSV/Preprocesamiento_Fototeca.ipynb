{
 "cells": [
  {
   "cell_type": "markdown",
   "id": "ccaa7dc1",
   "metadata": {},
   "source": [
    "Importación de Librerias"
   ]
  },
  {
   "cell_type": "code",
   "execution_count": 1,
   "id": "a4809310",
   "metadata": {},
   "outputs": [],
   "source": [
    "import pandas as pd\n",
    "import matplotlib.pyplot as plt\n",
    "import seaborn as sns"
   ]
  },
  {
   "cell_type": "markdown",
   "id": "11581973",
   "metadata": {},
   "source": [
    "Cargar los datos (Codificación del CSV latin1)"
   ]
  },
  {
   "cell_type": "code",
   "execution_count": 2,
   "id": "da430a2b",
   "metadata": {},
   "outputs": [],
   "source": [
    "df = pd.read_csv('fototeca_directorio.csv', encoding='latin1')"
   ]
  },
  {
   "cell_type": "markdown",
   "id": "ab9c0420",
   "metadata": {},
   "source": [
    "Imprimir las primeras 5 filas para observar el formato del CSV"
   ]
  },
  {
   "cell_type": "code",
   "execution_count": 3,
   "id": "80a6468a",
   "metadata": {},
   "outputs": [
    {
     "name": "stdout",
     "output_type": "stream",
     "text": [
      "   fototeca_id                                    fototeca_nombre  \\\n",
      "0           98                         Fototeca Universitaria UAA   \n",
      "1           99  Fototeca del Instituto de Investigaciones Cult...   \n",
      "2          133    Archivo Histórico del Estado de Baja California   \n",
      "3          114  Archivo Fotográfico de El Colegio de la Fronte...   \n",
      "4          115  Fototeca del Archivo Histórico del Estado de B...   \n",
      "\n",
      "                      fototeca_adscripcion  estado_id              nom_ent  \\\n",
      "0   Universidad Autónoma de Aguascalientes          1       Aguascalientes   \n",
      "1  Universidad Autónoma de Baja California          2      Baja California   \n",
      "2                      Gobierno del Estado          2      Baja California   \n",
      "3    El Colegio de la Frontera Norte, A.C.          2      Baja California   \n",
      "4     Instituto Sudcaliforniano de Cultura          3  Baja California Sur   \n",
      "\n",
      "   municipio_id         nom_mun  localidad_id         nom_loc  \\\n",
      "0             1  Aguascalientes             1  Aguascalientes   \n",
      "1             2        Mexicali             1        Mexicali   \n",
      "2             2        Mexicali             1        Mexicali   \n",
      "3             4         Tijuana             1         Tijuana   \n",
      "4             3          La Paz             1          La Paz   \n",
      "\n",
      "                              fototeca_calle_numero          fototeca_colonia  \\\n",
      "0                               Av. Universidad 940      Ciudad Universitaria   \n",
      "1                            Calle L. y Av. Reforma                Col. Nueva   \n",
      "2                  Av. Pedro F. Pérez y Ramírez 202                    Centro   \n",
      "3           Carr. Escénica Tijuana-Ensenada Km 18.5  Col. San Antonio del Mar   \n",
      "4  Navarro s/n, Unidad Cultural Profr. Jesús Castro                    Centro   \n",
      "\n",
      "   fototeca_cp  fototeca_telfono1  fototeca_pagina_web  \\\n",
      "0        20131                NaN                  NaN   \n",
      "1        21100                NaN                  NaN   \n",
      "2        21100                NaN                  NaN   \n",
      "3        22560                NaN                  NaN   \n",
      "4        23060                NaN                  NaN   \n",
      "\n",
      "                        email  gmaps_longitud  gmaps_latitud  \\\n",
      "0  aurora.figueroa@edu.uaa.mx      -102.31424       21.91303   \n",
      "1                         NaN         0.00000        0.00000   \n",
      "2          cldiaz@baja.gob.mx      -115.48262       32.66320   \n",
      "3               foto@colef.mx      -117.11115       32.45679   \n",
      "4   eliza_amendia@hotmail.com      -110.31742       24.14786   \n",
      "\n",
      "                                            link_sic               fecha_mod  \n",
      "0  http://sic.gob.mx/ficha.php?table=fototeca&tab...  2018-08-07 02:23:58-05  \n",
      "1  http://sic.gob.mx/ficha.php?table=fototeca&tab...  2018-07-17 05:49:28-05  \n",
      "2  http://sic.gob.mx/ficha.php?table=fototeca&tab...  2018-09-03 09:36:01-05  \n",
      "3  http://sic.gob.mx/ficha.php?table=fototeca&tab...  2018-08-28 02:46:33-05  \n",
      "4  http://sic.gob.mx/ficha.php?table=fototeca&tab...  2018-07-24 04:52:32-05  \n"
     ]
    }
   ],
   "source": [
    "print(df.head())"
   ]
  },
  {
   "cell_type": "markdown",
   "id": "845b75e1",
   "metadata": {},
   "source": [
    "Imprimir las ultimas 5 filas para observar el formato del CSV"
   ]
  },
  {
   "cell_type": "code",
   "execution_count": 4,
   "id": "13d37d70",
   "metadata": {},
   "outputs": [
    {
     "name": "stdout",
     "output_type": "stream",
     "text": [
      "     fototeca_id                                   fototeca_nombre  \\\n",
      "96            17         Fototeca de Veracruz Juan Malpica Mimendi   \n",
      "97           137                                 Fondo Audiovisual   \n",
      "98             3                             Fototeca Pedro Guerra   \n",
      "99             4                  Fototeca del Centro INAH Yucatán   \n",
      "100          134  Fototeca del Estado de Zacatecas Pedro Valtierra   \n",
      "\n",
      "                                  fototeca_adscripcion  estado_id  \\\n",
      "96   Instituto Veracruzano de la Cultura/Subdirecci...         30   \n",
      "97   Centro de Apoyo a la Investigación Histórica d...         31   \n",
      "98                     Universidad Autónoma de Yucatán         31   \n",
      "99                          Secretaría de Cultura/INAH         31   \n",
      "100  Instituto Zacatecano de Cultura Ramón López Ve...         32   \n",
      "\n",
      "                             nom_ent  municipio_id    nom_mun  localidad_id  \\\n",
      "96   Veracruz de Ignacio de la Llave           193   Veracruz             1   \n",
      "97                           Yucatán            50     Mérida             1   \n",
      "98                           Yucatán            50     Mérida             1   \n",
      "99                           Yucatán            50     Mérida             1   \n",
      "100                        Zacatecas            56  Zacatecas             1   \n",
      "\n",
      "       nom_loc                fototeca_calle_numero  fototeca_colonia  \\\n",
      "96    Veracruz      Callejón El Portal de Miranda 9  Centro Histórico   \n",
      "97      Mérida                    Calle 64 núm. 518            Centro   \n",
      "98      Mérida  Calle 76 núm. 455 -LL entre 41 y 43            Centro   \n",
      "99      Mérida      Antigua Carr. a Progreso km 6.5  Gonzalo Guerrero   \n",
      "100  Zacatecas             Fernando Villalpando 406  Centro Histórico   \n",
      "\n",
      "     fototeca_cp  fototeca_telfono1  fototeca_pagina_web  \\\n",
      "96         91700                NaN                  NaN   \n",
      "97         97000                NaN                  NaN   \n",
      "98         97000                NaN                  NaN   \n",
      "99         97310                NaN                  NaN   \n",
      "100        98000                NaN                  NaN   \n",
      "\n",
      "                                  email  gmaps_longitud  gmaps_latitud  \\\n",
      "96   fototecadeveracruz2014@outlook.com       -96.13787       19.20020   \n",
      "97       patrimonio.icy@yucatan.gob.mx        -89.62632       20.96506   \n",
      "98         cinthya.cruz@correo.uady.mx        -89.63129       20.98021   \n",
      "99               inahyuc@prodigy.net.mx       -89.62549       21.02606   \n",
      "100       fototecadezacatecas@gmail.com      -102.57439       22.77496   \n",
      "\n",
      "                                              link_sic               fecha_mod  \n",
      "96   http://sic.gob.mx/ficha.php?table=fototeca&tab...  2018-07-23 10:37:15-05  \n",
      "97   http://sic.gob.mx/ficha.php?table=fototeca&tab...  2018-05-11 12:37:02-05  \n",
      "98   http://sic.gob.mx/ficha.php?table=fototeca&tab...  2018-05-11 12:06:22-05  \n",
      "99   http://sic.gob.mx/ficha.php?table=fototeca&tab...  2018-05-11 13:08:42-05  \n",
      "100  http://sic.gob.mx/ficha.php?table=fototeca&tab...  2019-06-04 07:20:55-05  \n"
     ]
    }
   ],
   "source": [
    "print(df.tail())"
   ]
  },
  {
   "cell_type": "markdown",
   "id": "9ef3e41d",
   "metadata": {},
   "source": [
    "Imprimir las columnas del CSV con su respectivo tipo de dato"
   ]
  },
  {
   "cell_type": "code",
   "execution_count": 5,
   "id": "53e1482c",
   "metadata": {},
   "outputs": [
    {
     "name": "stdout",
     "output_type": "stream",
     "text": [
      "<class 'pandas.core.frame.DataFrame'>\n",
      "RangeIndex: 101 entries, 0 to 100\n",
      "Data columns (total 19 columns):\n",
      " #   Column                 Non-Null Count  Dtype  \n",
      "---  ------                 --------------  -----  \n",
      " 0   fototeca_id            101 non-null    int64  \n",
      " 1   fototeca_nombre        101 non-null    object \n",
      " 2   fototeca_adscripcion   95 non-null     object \n",
      " 3   estado_id              101 non-null    int64  \n",
      " 4   nom_ent                101 non-null    object \n",
      " 5   municipio_id           101 non-null    int64  \n",
      " 6   nom_mun                101 non-null    object \n",
      " 7   localidad_id           101 non-null    int64  \n",
      " 8   nom_loc                101 non-null    object \n",
      " 9   fototeca_calle_numero  101 non-null    object \n",
      " 10  fototeca_colonia       98 non-null     object \n",
      " 11  fototeca_cp            101 non-null    int64  \n",
      " 12  fototeca_telfono1      0 non-null      float64\n",
      " 13  fototeca_pagina_web    0 non-null      float64\n",
      " 14  email                  94 non-null     object \n",
      " 15  gmaps_longitud         101 non-null    float64\n",
      " 16  gmaps_latitud          101 non-null    float64\n",
      " 17  link_sic               101 non-null    object \n",
      " 18  fecha_mod              101 non-null    object \n",
      "dtypes: float64(4), int64(5), object(10)\n",
      "memory usage: 15.1+ KB\n",
      "None\n"
     ]
    }
   ],
   "source": [
    "print(df.info())"
   ]
  },
  {
   "cell_type": "markdown",
   "id": "46b0fb7e",
   "metadata": {},
   "source": [
    "Visualizar los valores unicos por columna"
   ]
  },
  {
   "cell_type": "code",
   "execution_count": 6,
   "id": "e33f1468",
   "metadata": {},
   "outputs": [
    {
     "name": "stdout",
     "output_type": "stream",
     "text": [
      "Valores únicos por columna:\n",
      "fototeca_id              101\n",
      "fototeca_nombre          101\n",
      "fototeca_adscripcion      64\n",
      "estado_id                 28\n",
      "nom_ent                   28\n",
      "municipio_id              38\n",
      "nom_mun                   48\n",
      "localidad_id               2\n",
      "nom_loc                   48\n",
      "fototeca_calle_numero    100\n",
      "fototeca_colonia          59\n",
      "fototeca_cp               75\n",
      "fototeca_telfono1          0\n",
      "fototeca_pagina_web        0\n",
      "email                     94\n",
      "gmaps_longitud            96\n",
      "gmaps_latitud             96\n",
      "link_sic                 101\n",
      "fecha_mod                101\n",
      "dtype: int64\n"
     ]
    }
   ],
   "source": [
    "print(\"Valores únicos por columna:\")\n",
    "print(df.nunique())"
   ]
  },
  {
   "cell_type": "markdown",
   "id": "3863e823",
   "metadata": {},
   "source": [
    "Filtramos el DataFrame con el estado que nos interesa"
   ]
  },
  {
   "cell_type": "code",
   "execution_count": 7,
   "id": "61345ae5",
   "metadata": {},
   "outputs": [],
   "source": [
    "df = df[df['estado_id'] == 15]"
   ]
  },
  {
   "cell_type": "markdown",
   "id": "4406e8c2",
   "metadata": {},
   "source": [
    "Reiniciar índice del DataFrame resultante"
   ]
  },
  {
   "cell_type": "code",
   "execution_count": 8,
   "id": "890504e4",
   "metadata": {},
   "outputs": [],
   "source": [
    "df = df.reset_index(drop=True)"
   ]
  },
  {
   "cell_type": "markdown",
   "id": "05023883",
   "metadata": {},
   "source": [
    "Verificar los registros del CSV actualizado"
   ]
  },
  {
   "cell_type": "code",
   "execution_count": 9,
   "id": "69740e87",
   "metadata": {},
   "outputs": [
    {
     "name": "stdout",
     "output_type": "stream",
     "text": [
      "   fototeca_id                                    fototeca_nombre  \\\n",
      "0           62  Fototeca del Centro de Documentación e Investi...   \n",
      "1          129      Fototeca del Centro de Estudios Teotihuacanos   \n",
      "2           50         Fototeca del Museo Nacional del Virreinato   \n",
      "3          143  Fototeca del Centro INAH Estado de México (CIN...   \n",
      "\n",
      "                                fototeca_adscripcion  estado_id nom_ent  \\\n",
      "0  Centro de Documentación e Investigación Judíos...         15  México   \n",
      "1  Secretaría de Cultura/INAH/Zona Arqueológica d...         15  México   \n",
      "2                         Secretaría de Cultura/INAH         15  México   \n",
      "3                         Secretaría de Cultura/INAH         15  México   \n",
      "\n",
      "   municipio_id                      nom_mun  localidad_id  \\\n",
      "0            57          Naucalpan de Juárez             1   \n",
      "1            75  San Martín de las Pirámides            31   \n",
      "2            95                  Tepotzotlán             1   \n",
      "3           106                       Toluca             1   \n",
      "\n",
      "               nom_loc                              fototeca_calle_numero  \\\n",
      "0  Naucalpan de Juárez                          Fuente de San Sulpicio 16   \n",
      "1       Cozotlán Norte  Edif. Centro de Estudios Teotihuacanos, Ex Mus...   \n",
      "2          Tepotzotlán                                   Plaza Hidalgo 99   \n",
      "3      Toluca de Lerdo                       Av. José Vicente Villada 107   \n",
      "\n",
      "                   fototeca_colonia  fototeca_cp  fototeca_telfono1  \\\n",
      "0        Col. Lomas de Tecamachalco        53950                NaN   \n",
      "1  Zona arqueológica de Teotihuacán        55800                NaN   \n",
      "2                   Col. San Martín        54600                NaN   \n",
      "3                            Centro        50000                NaN   \n",
      "\n",
      "   fototeca_pagina_web                                              email  \\\n",
      "0                  NaN                                 contacto@cdijum.mx   \n",
      "1                  NaN                              elisaasr@yahoo.com.mx   \n",
      "2                  NaN  virreinato.museo@inah.gob.mx; jramonsolis@hotm...   \n",
      "3                  NaN                      Araceli_tellechea@inah.gob.mx   \n",
      "\n",
      "   gmaps_longitud  gmaps_latitud  \\\n",
      "0       -99.23821       19.42323   \n",
      "1       -98.86082       19.71209   \n",
      "2       -99.22166       19.71318   \n",
      "3       -99.65831       19.28977   \n",
      "\n",
      "                                            link_sic               fecha_mod  \n",
      "0  http://sic.gob.mx/ficha.php?table=fototeca&tab...  2018-07-18 07:34:04-05  \n",
      "1  http://sic.gob.mx/ficha.php?table=fototeca&tab...  2018-07-24 06:38:52-05  \n",
      "2  http://sic.gob.mx/ficha.php?table=fototeca&tab...  2025-04-23 14:50:06-06  \n",
      "3  http://sic.gob.mx/ficha.php?table=fototeca&tab...  2024-07-12 09:59:48-06  \n"
     ]
    }
   ],
   "source": [
    "print(df.head())"
   ]
  },
  {
   "cell_type": "markdown",
   "id": "ffef1e6e",
   "metadata": {},
   "source": [
    "Definimos las columnas del dataset a conservar"
   ]
  },
  {
   "cell_type": "code",
   "execution_count": 10,
   "id": "d945d532",
   "metadata": {},
   "outputs": [],
   "source": [
    "columnas_conservar = [\n",
    "    'fototeca_id',\n",
    "    'fototeca_nombre',\n",
    "    'municipio_id',\n",
    "    'nom_mun',\n",
    "    'gmaps_longitud',\n",
    "    'gmaps_latitud'\n",
    "]"
   ]
  },
  {
   "cell_type": "markdown",
   "id": "cb4c0152",
   "metadata": {},
   "source": [
    "Conservamos solo estas columnas"
   ]
  },
  {
   "cell_type": "code",
   "execution_count": 11,
   "id": "a955ff82",
   "metadata": {},
   "outputs": [],
   "source": [
    "df = df[columnas_conservar]"
   ]
  },
  {
   "cell_type": "markdown",
   "id": "14b4f9c1",
   "metadata": {},
   "source": [
    "Reiniciar indice del Dataset resultante"
   ]
  },
  {
   "cell_type": "code",
   "execution_count": 12,
   "id": "e81dc0b7",
   "metadata": {},
   "outputs": [],
   "source": [
    "df = df.reset_index(drop=True)"
   ]
  },
  {
   "cell_type": "markdown",
   "id": "ea6b0d9a",
   "metadata": {},
   "source": [
    "Verificar los registros del CSV actualizado"
   ]
  },
  {
   "cell_type": "code",
   "execution_count": 13,
   "id": "26af60d4",
   "metadata": {},
   "outputs": [
    {
     "name": "stdout",
     "output_type": "stream",
     "text": [
      "   fototeca_id                                    fototeca_nombre  \\\n",
      "0           62  Fototeca del Centro de Documentación e Investi...   \n",
      "1          129      Fototeca del Centro de Estudios Teotihuacanos   \n",
      "2           50         Fototeca del Museo Nacional del Virreinato   \n",
      "3          143  Fototeca del Centro INAH Estado de México (CIN...   \n",
      "\n",
      "   municipio_id                      nom_mun  gmaps_longitud  gmaps_latitud  \n",
      "0            57          Naucalpan de Juárez       -99.23821       19.42323  \n",
      "1            75  San Martín de las Pirámides       -98.86082       19.71209  \n",
      "2            95                  Tepotzotlán       -99.22166       19.71318  \n",
      "3           106                       Toluca       -99.65831       19.28977  \n"
     ]
    }
   ],
   "source": [
    "print(df.head())"
   ]
  },
  {
   "cell_type": "markdown",
   "id": "f56af927",
   "metadata": {},
   "source": [
    "Observar los datos faltantes por columna del DataFrame"
   ]
  },
  {
   "cell_type": "code",
   "execution_count": 14,
   "id": "427f6621",
   "metadata": {},
   "outputs": [
    {
     "name": "stdout",
     "output_type": "stream",
     "text": [
      "Valores faltantes por columna:\n",
      "fototeca_id        0\n",
      "fototeca_nombre    0\n",
      "municipio_id       0\n",
      "nom_mun            0\n",
      "gmaps_longitud     0\n",
      "gmaps_latitud      0\n",
      "dtype: int64\n"
     ]
    }
   ],
   "source": [
    "print(\"Valores faltantes por columna:\")\n",
    "print(df.isnull().sum())"
   ]
  },
  {
   "cell_type": "markdown",
   "id": "8bd04944",
   "metadata": {},
   "source": [
    "- Eliminar filas con valores nulos"
   ]
  },
  {
   "cell_type": "code",
   "execution_count": 15,
   "id": "cc5acaab",
   "metadata": {},
   "outputs": [],
   "source": [
    "df = df.dropna()"
   ]
  },
  {
   "cell_type": "markdown",
   "id": "66a4a846",
   "metadata": {},
   "source": [
    "Observar los datos faltantes por columna del DataFrame"
   ]
  },
  {
   "cell_type": "code",
   "execution_count": 16,
   "id": "1784f844",
   "metadata": {},
   "outputs": [
    {
     "name": "stdout",
     "output_type": "stream",
     "text": [
      "Valores faltantes por columna:\n",
      "fototeca_id        0\n",
      "fototeca_nombre    0\n",
      "municipio_id       0\n",
      "nom_mun            0\n",
      "gmaps_longitud     0\n",
      "gmaps_latitud      0\n",
      "dtype: int64\n"
     ]
    }
   ],
   "source": [
    "print(\"Valores faltantes por columna:\")\n",
    "print(df.isnull().sum())"
   ]
  },
  {
   "cell_type": "markdown",
   "id": "ff1f8b9a",
   "metadata": {},
   "source": [
    "- Reiniciar índice del DataFrame resultante"
   ]
  },
  {
   "cell_type": "code",
   "execution_count": 17,
   "id": "19873cdb",
   "metadata": {},
   "outputs": [],
   "source": [
    "df = df.reset_index(drop=True)"
   ]
  },
  {
   "cell_type": "markdown",
   "id": "f2134178",
   "metadata": {},
   "source": [
    "- Verificar los registros del CSV actualizado"
   ]
  },
  {
   "cell_type": "code",
   "execution_count": 18,
   "id": "383b5c0d",
   "metadata": {},
   "outputs": [
    {
     "name": "stdout",
     "output_type": "stream",
     "text": [
      "   fototeca_id                                    fototeca_nombre  \\\n",
      "0           62  Fototeca del Centro de Documentación e Investi...   \n",
      "1          129      Fototeca del Centro de Estudios Teotihuacanos   \n",
      "2           50         Fototeca del Museo Nacional del Virreinato   \n",
      "3          143  Fototeca del Centro INAH Estado de México (CIN...   \n",
      "\n",
      "   municipio_id                      nom_mun  gmaps_longitud  gmaps_latitud  \n",
      "0            57          Naucalpan de Juárez       -99.23821       19.42323  \n",
      "1            75  San Martín de las Pirámides       -98.86082       19.71209  \n",
      "2            95                  Tepotzotlán       -99.22166       19.71318  \n",
      "3           106                       Toluca       -99.65831       19.28977  \n"
     ]
    }
   ],
   "source": [
    "print(df.head())"
   ]
  },
  {
   "cell_type": "markdown",
   "id": "1a00592c",
   "metadata": {},
   "source": [
    "Guardar el nuevo CSV ya preprocesado"
   ]
  },
  {
   "cell_type": "code",
   "execution_count": 19,
   "id": "22a8d293",
   "metadata": {},
   "outputs": [
    {
     "name": "stdout",
     "output_type": "stream",
     "text": [
      "\n",
      "Archivo 'Fototeca.csv' guardado exitosamente en el directorio actual!\n"
     ]
    }
   ],
   "source": [
    "nombre_archivo = 'Fototeca.csv'\n",
    "df.to_csv(nombre_archivo, index=False, encoding='utf-8')\n",
    "\n",
    "print(f\"\\nArchivo '{nombre_archivo}' guardado exitosamente en el directorio actual!\")"
   ]
  }
 ],
 "metadata": {
  "kernelspec": {
   "display_name": "Python 3",
   "language": "python",
   "name": "python3"
  },
  "language_info": {
   "codemirror_mode": {
    "name": "ipython",
    "version": 3
   },
   "file_extension": ".py",
   "mimetype": "text/x-python",
   "name": "python",
   "nbconvert_exporter": "python",
   "pygments_lexer": "ipython3",
   "version": "3.12.0"
  }
 },
 "nbformat": 4,
 "nbformat_minor": 5
}
