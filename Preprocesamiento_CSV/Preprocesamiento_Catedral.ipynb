{
 "cells": [
  {
   "cell_type": "markdown",
   "id": "ccaa7dc1",
   "metadata": {},
   "source": [
    "Importación de Librerias"
   ]
  },
  {
   "cell_type": "code",
   "execution_count": 12,
   "id": "a4809310",
   "metadata": {},
   "outputs": [],
   "source": [
    "import pandas as pd\n",
    "import matplotlib.pyplot as plt\n",
    "import seaborn as sns"
   ]
  },
  {
   "cell_type": "markdown",
   "id": "11581973",
   "metadata": {},
   "source": [
    "Cargar los datos (Codificación del CSV latin1)"
   ]
  },
  {
   "cell_type": "code",
   "execution_count": 13,
   "id": "da430a2b",
   "metadata": {},
   "outputs": [],
   "source": [
    "df = pd.read_csv('catedral_directorio.csv', encoding='latin1')"
   ]
  },
  {
   "cell_type": "markdown",
   "id": "ab9c0420",
   "metadata": {},
   "source": [
    "Imprimir las primeras 5 filas para observar el formato del CSV"
   ]
  },
  {
   "cell_type": "code",
   "execution_count": 14,
   "id": "80a6468a",
   "metadata": {},
   "outputs": [
    {
     "name": "stdout",
     "output_type": "stream",
     "text": [
      "   catedral_id                                    catedral_nombre  estado_id  \\\n",
      "0           83  Catedral Basílica de Nuestra Señora de la Asun...          1   \n",
      "1            2                       Nuestra Señora de Guadalupe           2   \n",
      "2            1                       Nuestra Señora de Guadalupe           2   \n",
      "3           45              Catedral de Nuestra Señora de La Paz           3   \n",
      "4           87           Nuestra Señora de la Purísima Concepción          4   \n",
      "\n",
      "               nom_ent  municipio_id         nom_mun  localidad_id  \\\n",
      "0       Aguascalientes             1  Aguascalientes             1   \n",
      "1      Baja California             2        Mexicali             1   \n",
      "2      Baja California             4         Tijuana             1   \n",
      "3  Baja California Sur             3          La Paz             1   \n",
      "4             Campeche             2        Campeche             1   \n",
      "\n",
      "                     nom_loc  \\\n",
      "0             Aguascalientes   \n",
      "1                   Mexicali   \n",
      "2                    Tijuana   \n",
      "3                     La Paz   \n",
      "4  San Francisco de Campeche   \n",
      "\n",
      "                               catedral_calle_numero  catedral_colonia  \\\n",
      "0                             Plaza de la Patria s/n            Centro   \n",
      "1                                       Morelos 192       1ra. sección   \n",
      "2                 Av. Niños Héroes 7982 y Calle 2da             Centro   \n",
      "3  Revolución de 1910 s/n esq. 5 de Mayo e Indepe...            Centro   \n",
      "4                             Calle 55 entre 8 y 10   Centro Histórico   \n",
      "\n",
      "   catedral_cp  catedral_telfono1  \\\n",
      "0          NaN                NaN   \n",
      "1      21100.0                NaN   \n",
      "2      22000.0                NaN   \n",
      "3          NaN                NaN   \n",
      "4      24000.0                NaN   \n",
      "\n",
      "                                          pagina_web email  gmaps_longitud  \\\n",
      "0  https://www.ags.gob.mx/turismo/conocemas/cated...   NaN      -102.29645   \n",
      "1                                                NaN   NaN      -115.48931   \n",
      "2                 https://www.catedraldetijuana.org/   NaN      -117.04048   \n",
      "3                                                NaN   NaN      -110.31288   \n",
      "4  https://es.wikipedia.org/wiki/Catedral_de_Camp...   NaN       -90.53619   \n",
      "\n",
      "   gmaps_latitud                                           link_sic  \\\n",
      "0       21.87895  http://sic.gob.mx/ficha.php?table=catedral&tab...   \n",
      "1       32.66338  http://sic.gob.mx/ficha.php?table=catedral&tab...   \n",
      "2       32.53532  http://sic.gob.mx/ficha.php?table=catedral&tab...   \n",
      "3       24.16160  http://sic.gob.mx/ficha.php?table=catedral&tab...   \n",
      "4       19.84608  http://sic.gob.mx/ficha.php?table=catedral&tab...   \n",
      "\n",
      "                fecha_mod  \n",
      "0  2023-11-07 06:26:44-06  \n",
      "1  2018-12-13 06:18:49-06  \n",
      "2  2023-09-21 08:50:06-06  \n",
      "3  2023-10-25 07:17:41-06  \n",
      "4  2017-04-17 12:30:15-05  \n"
     ]
    }
   ],
   "source": [
    "print(df.head())"
   ]
  },
  {
   "cell_type": "markdown",
   "id": "845b75e1",
   "metadata": {},
   "source": [
    "Imprimir las ultimas 5 filas para observar el formato del CSV"
   ]
  },
  {
   "cell_type": "code",
   "execution_count": 15,
   "id": "13d37d70",
   "metadata": {},
   "outputs": [
    {
     "name": "stdout",
     "output_type": "stream",
     "text": [
      "    catedral_id                                    catedral_nombre  estado_id  \\\n",
      "76           77                              San José y San Andrés         30   \n",
      "77           71                      Nuestra Señora de la Asunción         30   \n",
      "78           76                      Nuestra Señora de la Asunción         30   \n",
      "79           80                          Catedral de San Ildefonso         31   \n",
      "80           85  Catedral basílica de Zacatecas (Nuestra Señora...         32   \n",
      "\n",
      "                            nom_ent  municipio_id            nom_mun  \\\n",
      "76  Veracruz de Ignacio de la Llave           141  San Andrés Tuxtla   \n",
      "77  Veracruz de Ignacio de la Llave           189             Tuxpan   \n",
      "78  Veracruz de Ignacio de la Llave           193           Veracruz   \n",
      "79                          Yucatán            50             Mérida   \n",
      "80                        Zacatecas            56          Zacatecas   \n",
      "\n",
      "    localidad_id                   nom_loc  catedral_calle_numero  \\\n",
      "76             1         San Andrés Tuxtla  Belisario Domínguez 1   \n",
      "77             1  Túxpam de Rodríguez Cano   Av. Benito Juárez 30   \n",
      "78             1                  Veracruz      Mario Molina 173    \n",
      "79             1                    Mérida         60 s/n esq. 61   \n",
      "80             1                 Zacatecas        Av. Hidalgo 617   \n",
      "\n",
      "    catedral_colonia  catedral_cp  catedral_telfono1  \\\n",
      "76            Centro      95700.0                NaN   \n",
      "77            Centro      92800.0                NaN   \n",
      "78            Centro      91700.0                NaN   \n",
      "79  Centro Histórico      97000.0                NaN   \n",
      "80            Centro      98000.0                NaN   \n",
      "\n",
      "                                           pagina_web email  gmaps_longitud  \\\n",
      "76                                                NaN   NaN       -95.21169   \n",
      "77                                                NaN   NaN       -97.40486   \n",
      "78                                                NaN   NaN       -96.13827   \n",
      "79                                                NaN   NaN       -89.62284   \n",
      "80  https://www.facebook.com/CatedralBasilicadeZac...   NaN      -102.57212   \n",
      "\n",
      "    gmaps_latitud                                           link_sic  \\\n",
      "76       18.44861  http://sic.gob.mx/ficha.php?table=catedral&tab...   \n",
      "77       20.95245  http://sic.gob.mx/ficha.php?table=catedral&tab...   \n",
      "78       19.19980  http://sic.gob.mx/ficha.php?table=catedral&tab...   \n",
      "79       20.96717  http://sic.gob.mx/ficha.php?table=catedral&tab...   \n",
      "80       22.77550  http://sic.gob.mx/ficha.php?table=catedral&tab...   \n",
      "\n",
      "                 fecha_mod  \n",
      "76  2023-10-02 03:08:48-06  \n",
      "77  2018-12-11 07:19:34-06  \n",
      "78  2017-04-24 16:31:21-05  \n",
      "79  2018-12-13 10:49:42-06  \n",
      "80  2023-09-25 08:33:14-06  \n"
     ]
    }
   ],
   "source": [
    "print(df.tail())"
   ]
  },
  {
   "cell_type": "markdown",
   "id": "9ef3e41d",
   "metadata": {},
   "source": [
    "Imprimir las columnas del CSV con su respectivo tipo de dato"
   ]
  },
  {
   "cell_type": "code",
   "execution_count": 16,
   "id": "53e1482c",
   "metadata": {},
   "outputs": [
    {
     "name": "stdout",
     "output_type": "stream",
     "text": [
      "<class 'pandas.core.frame.DataFrame'>\n",
      "RangeIndex: 81 entries, 0 to 80\n",
      "Data columns (total 18 columns):\n",
      " #   Column                 Non-Null Count  Dtype  \n",
      "---  ------                 --------------  -----  \n",
      " 0   catedral_id            81 non-null     int64  \n",
      " 1   catedral_nombre        81 non-null     object \n",
      " 2   estado_id              81 non-null     int64  \n",
      " 3   nom_ent                81 non-null     object \n",
      " 4   municipio_id           81 non-null     int64  \n",
      " 5   nom_mun                81 non-null     object \n",
      " 6   localidad_id           81 non-null     int64  \n",
      " 7   nom_loc                81 non-null     object \n",
      " 8   catedral_calle_numero  80 non-null     object \n",
      " 9   catedral_colonia       75 non-null     object \n",
      " 10  catedral_cp            72 non-null     float64\n",
      " 11  catedral_telfono1      0 non-null      float64\n",
      " 12  pagina_web             28 non-null     object \n",
      " 13  email                  13 non-null     object \n",
      " 14  gmaps_longitud         81 non-null     float64\n",
      " 15  gmaps_latitud          81 non-null     float64\n",
      " 16  link_sic               81 non-null     object \n",
      " 17  fecha_mod              81 non-null     object \n",
      "dtypes: float64(4), int64(4), object(10)\n",
      "memory usage: 11.5+ KB\n",
      "None\n"
     ]
    }
   ],
   "source": [
    "print(df.info())"
   ]
  },
  {
   "cell_type": "markdown",
   "id": "46b0fb7e",
   "metadata": {},
   "source": [
    "Visualizar los valores unicos por columna"
   ]
  },
  {
   "cell_type": "code",
   "execution_count": 17,
   "id": "e33f1468",
   "metadata": {},
   "outputs": [
    {
     "name": "stdout",
     "output_type": "stream",
     "text": [
      "Valores únicos por columna:\n",
      "catedral_id              81\n",
      "catedral_nombre          65\n",
      "estado_id                31\n",
      "nom_ent                  31\n",
      "municipio_id             58\n",
      "nom_mun                  78\n",
      "localidad_id              1\n",
      "nom_loc                  78\n",
      "catedral_calle_numero    80\n",
      "catedral_colonia         13\n",
      "catedral_cp              71\n",
      "catedral_telfono1         0\n",
      "pagina_web               28\n",
      "email                    13\n",
      "gmaps_longitud           81\n",
      "gmaps_latitud            81\n",
      "link_sic                 81\n",
      "fecha_mod                81\n",
      "dtype: int64\n"
     ]
    }
   ],
   "source": [
    "print(\"Valores únicos por columna:\")\n",
    "print(df.nunique())"
   ]
  },
  {
   "cell_type": "markdown",
   "id": "3863e823",
   "metadata": {},
   "source": [
    "Filtramos el DataFrame con el estado que nos interesa"
   ]
  },
  {
   "cell_type": "code",
   "execution_count": 18,
   "id": "61345ae5",
   "metadata": {},
   "outputs": [],
   "source": [
    "df = df[df['estado_id'] == 15]"
   ]
  },
  {
   "cell_type": "markdown",
   "id": "4406e8c2",
   "metadata": {},
   "source": [
    "Reiniciar índice del DataFrame resultante"
   ]
  },
  {
   "cell_type": "code",
   "execution_count": 19,
   "id": "890504e4",
   "metadata": {},
   "outputs": [],
   "source": [
    "df = df.reset_index(drop=True)"
   ]
  },
  {
   "cell_type": "markdown",
   "id": "05023883",
   "metadata": {},
   "source": [
    "Verificar los registros del CSV actualizado"
   ]
  },
  {
   "cell_type": "code",
   "execution_count": 20,
   "id": "69740e87",
   "metadata": {},
   "outputs": [
    {
     "name": "stdout",
     "output_type": "stream",
     "text": [
      "   catedral_id                 catedral_nombre  estado_id nom_ent  \\\n",
      "0           22           San Francisco de Asis         15  México   \n",
      "1           24                San Buenaventura         15  México   \n",
      "2           26        Sagrado Corazón de Jesús         15  México   \n",
      "3           28  Jesús Señor de la Misericordia         15  México   \n",
      "4           25                   Corpus Cristi         15  México   \n",
      "\n",
      "   municipio_id              nom_mun  localidad_id                nom_loc  \\\n",
      "0            14          Atlacomulco             1  Atlacomulco de Fabela   \n",
      "1            24           Cuautitlán             1             Cuautitlán   \n",
      "2            33  Ecatepec de Morelos             1    Ecatepec de Morelos   \n",
      "3            58       Nezahualcóyotl             1  Ciudad Nezahualcóyotl   \n",
      "4           104  Tlalnepantla de Baz             1           Tlalnepantla   \n",
      "\n",
      "       catedral_calle_numero      catedral_colonia  catedral_cp  \\\n",
      "0  Alfredo del Mazo Ote. s/n                Centro      50450.0   \n",
      "1  Calle Carrillo Puerto 206             El Huerto      54807.0   \n",
      "2        Plaza Principal s/n  San Cristóbal Centro      55000.0   \n",
      "3    Av. Dr. Gustavo Baz 174    Col. Benito Juarez      57000.0   \n",
      "4   Av Presidente Juárez s/n                Centro      54900.0   \n",
      "\n",
      "   catedral_telfono1                                         pagina_web email  \\\n",
      "0                NaN                                                NaN   NaN   \n",
      "1                NaN                                                NaN   NaN   \n",
      "2                NaN                http://www.diocesis-ecatepec.org.mx   NaN   \n",
      "3                NaN  https://www.facebook.com/CatedralMisericordiaN...   NaN   \n",
      "4                NaN                                                NaN   NaN   \n",
      "\n",
      "   gmaps_longitud  gmaps_latitud  \\\n",
      "0       -99.87050       19.80120   \n",
      "1       -99.17939       19.66907   \n",
      "2       -99.04665       19.59951   \n",
      "3       -99.00063       19.40929   \n",
      "4       -99.19483       19.53790   \n",
      "\n",
      "                                            link_sic               fecha_mod  \n",
      "0  http://sic.gob.mx/ficha.php?table=catedral&tab...  2018-06-13 10:20:38-05  \n",
      "1  http://sic.gob.mx/ficha.php?table=catedral&tab...  2018-06-13 10:25:13-05  \n",
      "2  http://sic.gob.mx/ficha.php?table=catedral&tab...  2018-12-13 06:23:02-06  \n",
      "3  http://sic.gob.mx/ficha.php?table=catedral&tab...  2023-10-13 04:10:25-06  \n",
      "4  http://sic.gob.mx/ficha.php?table=catedral&tab...  2018-12-13 06:21:15-06  \n"
     ]
    }
   ],
   "source": [
    "print(df.head())"
   ]
  },
  {
   "cell_type": "markdown",
   "id": "ffef1e6e",
   "metadata": {},
   "source": [
    "Definimos las columnas del dataset a conservar"
   ]
  },
  {
   "cell_type": "code",
   "execution_count": 21,
   "id": "d945d532",
   "metadata": {},
   "outputs": [],
   "source": [
    "columnas_conservar = [\n",
    "    'catedral_id',\n",
    "    'catedral_nombre',\n",
    "    'municipio_id',\n",
    "    'nom_mun',\n",
    "    'gmaps_longitud',\n",
    "    'gmaps_latitud'\n",
    "]"
   ]
  },
  {
   "cell_type": "markdown",
   "id": "cb4c0152",
   "metadata": {},
   "source": [
    "Conservamos solo estas columnas"
   ]
  },
  {
   "cell_type": "code",
   "execution_count": 22,
   "id": "a955ff82",
   "metadata": {},
   "outputs": [],
   "source": [
    "df = df[columnas_conservar]"
   ]
  },
  {
   "cell_type": "markdown",
   "id": "14b4f9c1",
   "metadata": {},
   "source": [
    "Reiniciar indice del Dataset resultante"
   ]
  },
  {
   "cell_type": "code",
   "execution_count": 23,
   "id": "e81dc0b7",
   "metadata": {},
   "outputs": [],
   "source": [
    "df = df.reset_index(drop=True)"
   ]
  },
  {
   "cell_type": "markdown",
   "id": "ea6b0d9a",
   "metadata": {},
   "source": [
    "Verificar los registros del CSV actualizado"
   ]
  },
  {
   "cell_type": "code",
   "execution_count": 24,
   "id": "26af60d4",
   "metadata": {},
   "outputs": [
    {
     "name": "stdout",
     "output_type": "stream",
     "text": [
      "   catedral_id                 catedral_nombre  municipio_id  \\\n",
      "0           22           San Francisco de Asis            14   \n",
      "1           24                San Buenaventura            24   \n",
      "2           26        Sagrado Corazón de Jesús            33   \n",
      "3           28  Jesús Señor de la Misericordia            58   \n",
      "4           25                   Corpus Cristi           104   \n",
      "\n",
      "               nom_mun  gmaps_longitud  gmaps_latitud  \n",
      "0          Atlacomulco       -99.87050       19.80120  \n",
      "1           Cuautitlán       -99.17939       19.66907  \n",
      "2  Ecatepec de Morelos       -99.04665       19.59951  \n",
      "3       Nezahualcóyotl       -99.00063       19.40929  \n",
      "4  Tlalnepantla de Baz       -99.19483       19.53790  \n"
     ]
    }
   ],
   "source": [
    "print(df.head())"
   ]
  },
  {
   "cell_type": "markdown",
   "id": "f56af927",
   "metadata": {},
   "source": [
    "Observar los datos faltantes por columna del DataFrame"
   ]
  },
  {
   "cell_type": "code",
   "execution_count": 25,
   "id": "427f6621",
   "metadata": {},
   "outputs": [
    {
     "name": "stdout",
     "output_type": "stream",
     "text": [
      "Valores faltantes por columna:\n",
      "catedral_id        0\n",
      "catedral_nombre    0\n",
      "municipio_id       0\n",
      "nom_mun            0\n",
      "gmaps_longitud     0\n",
      "gmaps_latitud      0\n",
      "dtype: int64\n"
     ]
    }
   ],
   "source": [
    "print(\"Valores faltantes por columna:\")\n",
    "print(df.isnull().sum())"
   ]
  },
  {
   "cell_type": "markdown",
   "id": "8bd04944",
   "metadata": {},
   "source": [
    "- Eliminar filas con valores nulos"
   ]
  },
  {
   "cell_type": "code",
   "execution_count": 26,
   "id": "cc5acaab",
   "metadata": {},
   "outputs": [],
   "source": [
    "df = df.dropna()"
   ]
  },
  {
   "cell_type": "markdown",
   "id": "66a4a846",
   "metadata": {},
   "source": [
    "Observar los datos faltantes por columna del DataFrame"
   ]
  },
  {
   "cell_type": "code",
   "execution_count": 27,
   "id": "1784f844",
   "metadata": {},
   "outputs": [
    {
     "name": "stdout",
     "output_type": "stream",
     "text": [
      "Valores faltantes por columna:\n",
      "catedral_id        0\n",
      "catedral_nombre    0\n",
      "municipio_id       0\n",
      "nom_mun            0\n",
      "gmaps_longitud     0\n",
      "gmaps_latitud      0\n",
      "dtype: int64\n"
     ]
    }
   ],
   "source": [
    "print(\"Valores faltantes por columna:\")\n",
    "print(df.isnull().sum())"
   ]
  },
  {
   "cell_type": "markdown",
   "id": "ff1f8b9a",
   "metadata": {},
   "source": [
    "- Reiniciar índice del DataFrame resultante"
   ]
  },
  {
   "cell_type": "code",
   "execution_count": 28,
   "id": "19873cdb",
   "metadata": {},
   "outputs": [],
   "source": [
    "df = df.reset_index(drop=True)"
   ]
  },
  {
   "cell_type": "markdown",
   "id": "f2134178",
   "metadata": {},
   "source": [
    "- Verificar los registros del CSV actualizado"
   ]
  },
  {
   "cell_type": "code",
   "execution_count": 29,
   "id": "383b5c0d",
   "metadata": {},
   "outputs": [
    {
     "name": "stdout",
     "output_type": "stream",
     "text": [
      "   catedral_id                 catedral_nombre  municipio_id  \\\n",
      "0           22           San Francisco de Asis            14   \n",
      "1           24                San Buenaventura            24   \n",
      "2           26        Sagrado Corazón de Jesús            33   \n",
      "3           28  Jesús Señor de la Misericordia            58   \n",
      "4           25                   Corpus Cristi           104   \n",
      "\n",
      "               nom_mun  gmaps_longitud  gmaps_latitud  \n",
      "0          Atlacomulco       -99.87050       19.80120  \n",
      "1           Cuautitlán       -99.17939       19.66907  \n",
      "2  Ecatepec de Morelos       -99.04665       19.59951  \n",
      "3       Nezahualcóyotl       -99.00063       19.40929  \n",
      "4  Tlalnepantla de Baz       -99.19483       19.53790  \n"
     ]
    }
   ],
   "source": [
    "print(df.head())"
   ]
  },
  {
   "cell_type": "markdown",
   "id": "1a00592c",
   "metadata": {},
   "source": [
    "Guardar el nuevo CSV ya preprocesado"
   ]
  },
  {
   "cell_type": "code",
   "execution_count": 30,
   "id": "22a8d293",
   "metadata": {},
   "outputs": [
    {
     "name": "stdout",
     "output_type": "stream",
     "text": [
      "\n",
      "Archivo 'Catedral.csv' guardado exitosamente en el directorio actual!\n"
     ]
    }
   ],
   "source": [
    "nombre_archivo = 'Catedral.csv'\n",
    "df.to_csv(nombre_archivo, index=False, encoding='utf-8')\n",
    "\n",
    "print(f\"\\nArchivo '{nombre_archivo}' guardado exitosamente en el directorio actual!\")"
   ]
  }
 ],
 "metadata": {
  "kernelspec": {
   "display_name": "Python 3",
   "language": "python",
   "name": "python3"
  },
  "language_info": {
   "codemirror_mode": {
    "name": "ipython",
    "version": 3
   },
   "file_extension": ".py",
   "mimetype": "text/x-python",
   "name": "python",
   "nbconvert_exporter": "python",
   "pygments_lexer": "ipython3",
   "version": "3.12.0"
  }
 },
 "nbformat": 4,
 "nbformat_minor": 5
}
