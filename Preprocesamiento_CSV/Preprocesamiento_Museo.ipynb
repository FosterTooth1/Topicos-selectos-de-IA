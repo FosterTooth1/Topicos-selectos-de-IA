{
 "cells": [
  {
   "cell_type": "markdown",
   "id": "ccaa7dc1",
   "metadata": {},
   "source": [
    "Importación de Librerias"
   ]
  },
  {
   "cell_type": "code",
   "execution_count": 1,
   "id": "a4809310",
   "metadata": {},
   "outputs": [],
   "source": [
    "import pandas as pd\n",
    "import matplotlib.pyplot as plt\n",
    "import seaborn as sns"
   ]
  },
  {
   "cell_type": "markdown",
   "id": "11581973",
   "metadata": {},
   "source": [
    "Cargar los datos (Codificación del CSV latin1)"
   ]
  },
  {
   "cell_type": "code",
   "execution_count": 2,
   "id": "da430a2b",
   "metadata": {},
   "outputs": [],
   "source": [
    "df = pd.read_csv('museo_directorio.csv', encoding='latin1')"
   ]
  },
  {
   "cell_type": "markdown",
   "id": "ab9c0420",
   "metadata": {},
   "source": [
    "Imprimir las primeras 5 filas para observar el formato del CSV"
   ]
  },
  {
   "cell_type": "code",
   "execution_count": 3,
   "id": "80a6468a",
   "metadata": {},
   "outputs": [
    {
     "name": "stdout",
     "output_type": "stream",
     "text": [
      "   museo_id                                  museo_nombre museo_tematica_n1  \\\n",
      "0      1453                   Museo de Sitio los Arquitos          Historia   \n",
      "1       219  Museo Regional de Historia de Aguascalientes          Historia   \n",
      "2       217             Museo de Arte Contemporáneo No. 8              Arte   \n",
      "3       223                       Museo de Aguascalientes              Arte   \n",
      "4      1069        Museo del Juguete Tradicional Mexicano              Arte   \n",
      "\n",
      "  museo_fecha_fundacion                                  museo_adscripcion  \\\n",
      "0            1994-11-01  Instituto Cultural de Aguascalientes/Centro Cu...   \n",
      "1            1988-10-03                         Secretaría de Cultura/INAH   \n",
      "2            1991-04-14         Instituto Cultural de Aguascalientes (ICA)   \n",
      "3            1975-10-22         Instituto Cultural de Aguascalientes (ICA)   \n",
      "4            1998-11-06                                                NaN   \n",
      "\n",
      "   estado_id         nom_ent  municipio_id         nom_mun  localidad_id  ...  \\\n",
      "0          1  Aguascalientes             1  Aguascalientes             1  ...   \n",
      "1          1  Aguascalientes             1  Aguascalientes             1  ...   \n",
      "2          1  Aguascalientes             1  Aguascalientes             1  ...   \n",
      "3          1  Aguascalientes             1  Aguascalientes             1  ...   \n",
      "4          1  Aguascalientes             1  Aguascalientes             1  ...   \n",
      "\n",
      "                                               email  \\\n",
      "0  c.culturallosarquitos@gmail.com   semuga2000@g...   \n",
      "1                     aguascalientes.mrh@inah.gob.mx   \n",
      "2                                  mac8ica@gmail.com   \n",
      "3                      museoaguascalientes@gmail.com   \n",
      "4               museodeljuguetetradicional@yahoo.com   \n",
      "\n",
      "                                            facebook twitter  instagram  \\\n",
      "0  https://es-la.facebook.com/CentroCulturalLosAr...     NaN        NaN   \n",
      "1  https://www.facebook.com/museoregionaldehistor...     NaN        NaN   \n",
      "2  https://es-la.facebook.com/people/Mac8/1000637...     NaN        NaN   \n",
      "3  https://www.facebook.com/pages/Museo-Aguascali...     NaN        NaN   \n",
      "4  https://www.facebook.com/Museo-del-Juguete-Tra...     NaN        NaN   \n",
      "\n",
      "  gmaps_longitud gmaps_latitud museo_salas_exhibicion_c  \\\n",
      "0     -102.28221      21.88298                       -1   \n",
      "1     -102.29895      21.88020                       10   \n",
      "2     -102.29489      21.88283                        4   \n",
      "3     -102.29112      21.88581                        7   \n",
      "4     -102.29859      21.87922                        3   \n",
      "\n",
      "  museo_salas_exhibicion_tmp_c  \\\n",
      "0                           -1   \n",
      "1                            5   \n",
      "2                            3   \n",
      "3                            2   \n",
      "4                            0   \n",
      "\n",
      "                                            link_sic               fecha_mod  \n",
      "0  http://sic.gob.mx/ficha.php?table=museo&table_...  2024-02-06 04:56:14-06  \n",
      "1  http://sic.gob.mx/ficha.php?table=museo&table_...  2025-03-19 17:26:06-06  \n",
      "2  http://sic.gob.mx/ficha.php?table=museo&table_...  2024-12-27 13:44:56-06  \n",
      "3  http://sic.gob.mx/ficha.php?table=museo&table_...  2023-10-17 07:04:49-06  \n",
      "4  http://sic.gob.mx/ficha.php?table=museo&table_...  2021-09-28 12:24:12-05  \n",
      "\n",
      "[5 rows x 28 columns]\n"
     ]
    }
   ],
   "source": [
    "print(df.head())"
   ]
  },
  {
   "cell_type": "markdown",
   "id": "845b75e1",
   "metadata": {},
   "source": [
    "Imprimir las ultimas 5 filas para observar el formato del CSV"
   ]
  },
  {
   "cell_type": "code",
   "execution_count": 4,
   "id": "13d37d70",
   "metadata": {},
   "outputs": [
    {
     "name": "stdout",
     "output_type": "stream",
     "text": [
      "      museo_id                                       museo_nombre  \\\n",
      "1660       423                    Museo Universitario de Ciencias   \n",
      "1661       156                               Museo Rafael Coronel   \n",
      "1662      2046                 Museo de la Industria de Reuniones   \n",
      "1663       637                            Museo Toma de Zacatecas   \n",
      "1664      2397  Museo Comunitario de Trancoso Mtra. Mary Caniz...   \n",
      "\n",
      "         museo_tematica_n1 museo_fecha_fundacion  \\\n",
      "1660  Ciencia y tecnología            1983-10-11   \n",
      "1661                  Arte            1990-07-05   \n",
      "1662                   NaN            2021-04-07   \n",
      "1663              Historia            1984-06-24   \n",
      "1664                   NaN            1000-01-01   \n",
      "\n",
      "                                      museo_adscripcion  estado_id    nom_ent  \\\n",
      "1660                  Universidad Autónoma de Zacatecas         32  Zacatecas   \n",
      "1661  Instituto Zacatecano de Cultura Ramón López Ve...         32  Zacatecas   \n",
      "1662  Gobierno del Estado de Zacatecas/Palacio de Co...         32  Zacatecas   \n",
      "1663  Instituto Zacatecano de Cultura Ramón López Ve...         32  Zacatecas   \n",
      "1664  Ayuntamiento de Trancoso/Instituto Municipal d...         32  Zacatecas   \n",
      "\n",
      "      municipio_id    nom_mun  localidad_id  ...  \\\n",
      "1660            56  Zacatecas             1  ...   \n",
      "1661            56  Zacatecas             1  ...   \n",
      "1662            56  Zacatecas             1  ...   \n",
      "1663            56  Zacatecas             1  ...   \n",
      "1664            57   Trancoso             1  ...   \n",
      "\n",
      "                                         email  \\\n",
      "1660            museodeciencias@grupoquark.com   \n",
      "1661                   museorafael@hotmail.com   \n",
      "1662   zacatecas.convenciones@zacatecas.gob.mx   \n",
      "1663          gustavo.salinas@zacatecas.gob.mx   \n",
      "1664                cultura@trancosozac.gob.mx   \n",
      "\n",
      "                                            facebook twitter  instagram  \\\n",
      "1660                                             NaN     NaN        NaN   \n",
      "1661    https://www.facebook.com/MuseoRafaelCoronel/     NaN        NaN   \n",
      "1662                                             NaN     NaN        NaN   \n",
      "1663  https://www.facebook.com/MuseoTomadeZacatecas/     NaN        NaN   \n",
      "1664           https://www.facebook.com/redmuseoszac     NaN        NaN   \n",
      "\n",
      "     gmaps_longitud gmaps_latitud museo_salas_exhibicion_c  \\\n",
      "1660     -102.56585      22.76904                       -1   \n",
      "1661     -102.56994      22.78206                       22   \n",
      "1662     -102.57184      22.77610                        8   \n",
      "1663     -102.56609      22.77835                       10   \n",
      "1664     -102.36604      22.73539                        6   \n",
      "\n",
      "     museo_salas_exhibicion_tmp_c  \\\n",
      "1660                            1   \n",
      "1661                            0   \n",
      "1662                            0   \n",
      "1663                           -1   \n",
      "1664                            0   \n",
      "\n",
      "                                               link_sic  \\\n",
      "1660  http://sic.gob.mx/ficha.php?table=museo&table_...   \n",
      "1661  http://sic.gob.mx/ficha.php?table=museo&table_...   \n",
      "1662  http://sic.gob.mx/ficha.php?table=museo&table_...   \n",
      "1663  http://sic.gob.mx/ficha.php?table=museo&table_...   \n",
      "1664  http://sic.gob.mx/ficha.php?table=museo&table_...   \n",
      "\n",
      "                   fecha_mod  \n",
      "1660  2021-08-03 06:07:56-05  \n",
      "1661  2021-08-23 10:00:01-05  \n",
      "1662  2021-08-20 06:54:09-05  \n",
      "1663  2021-03-11 05:41:48-06  \n",
      "1664  2024-02-29 06:15:22-06  \n",
      "\n",
      "[5 rows x 28 columns]\n"
     ]
    }
   ],
   "source": [
    "print(df.tail())"
   ]
  },
  {
   "cell_type": "markdown",
   "id": "9ef3e41d",
   "metadata": {},
   "source": [
    "Imprimir las columnas del CSV con su respectivo tipo de dato"
   ]
  },
  {
   "cell_type": "code",
   "execution_count": 5,
   "id": "53e1482c",
   "metadata": {},
   "outputs": [
    {
     "name": "stdout",
     "output_type": "stream",
     "text": [
      "<class 'pandas.core.frame.DataFrame'>\n",
      "RangeIndex: 1665 entries, 0 to 1664\n",
      "Data columns (total 28 columns):\n",
      " #   Column                        Non-Null Count  Dtype  \n",
      "---  ------                        --------------  -----  \n",
      " 0   museo_id                      1665 non-null   int64  \n",
      " 1   museo_nombre                  1665 non-null   object \n",
      " 2   museo_tematica_n1             1260 non-null   object \n",
      " 3   museo_fecha_fundacion         1665 non-null   object \n",
      " 4   museo_adscripcion             1568 non-null   object \n",
      " 5   estado_id                     1665 non-null   int64  \n",
      " 6   nom_ent                       1665 non-null   object \n",
      " 7   municipio_id                  1665 non-null   int64  \n",
      " 8   nom_mun                       1665 non-null   object \n",
      " 9   localidad_id                  1665 non-null   int64  \n",
      " 10  nom_loc                       1665 non-null   object \n",
      " 11  museo_calle_numero            1659 non-null   object \n",
      " 12  museo_colonia                 1560 non-null   object \n",
      " 13  museo_cp                      1632 non-null   float64\n",
      " 14  museo_telefono1               1565 non-null   object \n",
      " 15  pagina_web                    777 non-null    object \n",
      " 16  pagina_web2                   249 non-null    object \n",
      " 17  pagina_web3                   128 non-null    object \n",
      " 18  email                         1448 non-null   object \n",
      " 19  facebook                      926 non-null    object \n",
      " 20  twitter                       245 non-null    object \n",
      " 21  instagram                     170 non-null    object \n",
      " 22  gmaps_longitud                1665 non-null   float64\n",
      " 23  gmaps_latitud                 1665 non-null   float64\n",
      " 24  museo_salas_exhibicion_c      1665 non-null   int64  \n",
      " 25  museo_salas_exhibicion_tmp_c  1665 non-null   int64  \n",
      " 26  link_sic                      1665 non-null   object \n",
      " 27  fecha_mod                     1665 non-null   object \n",
      "dtypes: float64(3), int64(6), object(19)\n",
      "memory usage: 364.3+ KB\n",
      "None\n"
     ]
    }
   ],
   "source": [
    "print(df.info())"
   ]
  },
  {
   "cell_type": "markdown",
   "id": "46b0fb7e",
   "metadata": {},
   "source": [
    "Visualizar los valores unicos por columna"
   ]
  },
  {
   "cell_type": "code",
   "execution_count": 6,
   "id": "e33f1468",
   "metadata": {},
   "outputs": [
    {
     "name": "stdout",
     "output_type": "stream",
     "text": [
      "Valores únicos por columna:\n",
      "museo_id                        1665\n",
      "museo_nombre                    1651\n",
      "museo_tematica_n1                  7\n",
      "museo_fecha_fundacion           1361\n",
      "museo_adscripcion               1067\n",
      "estado_id                         32\n",
      "nom_ent                           32\n",
      "municipio_id                     174\n",
      "nom_mun                          629\n",
      "localidad_id                     106\n",
      "nom_loc                          756\n",
      "museo_calle_numero              1528\n",
      "museo_colonia                    538\n",
      "museo_cp                        1017\n",
      "museo_telefono1                 1508\n",
      "pagina_web                       765\n",
      "pagina_web2                      244\n",
      "pagina_web3                      127\n",
      "email                           1370\n",
      "facebook                         891\n",
      "twitter                          222\n",
      "instagram                        162\n",
      "gmaps_longitud                  1620\n",
      "gmaps_latitud                   1618\n",
      "museo_salas_exhibicion_c          34\n",
      "museo_salas_exhibicion_tmp_c      20\n",
      "link_sic                        1665\n",
      "fecha_mod                       1665\n",
      "dtype: int64\n"
     ]
    }
   ],
   "source": [
    "print(\"Valores únicos por columna:\")\n",
    "print(df.nunique())"
   ]
  },
  {
   "cell_type": "markdown",
   "id": "3863e823",
   "metadata": {},
   "source": [
    "Filtramos el DataFrame con el estado que nos interesa"
   ]
  },
  {
   "cell_type": "code",
   "execution_count": 7,
   "id": "61345ae5",
   "metadata": {},
   "outputs": [],
   "source": [
    "df = df[df['estado_id'] == 15]"
   ]
  },
  {
   "cell_type": "markdown",
   "id": "4406e8c2",
   "metadata": {},
   "source": [
    "Reiniciar índice del DataFrame resultante"
   ]
  },
  {
   "cell_type": "code",
   "execution_count": 8,
   "id": "890504e4",
   "metadata": {},
   "outputs": [],
   "source": [
    "df = df.reset_index(drop=True)"
   ]
  },
  {
   "cell_type": "markdown",
   "id": "05023883",
   "metadata": {},
   "source": [
    "Verificar los registros del CSV actualizado"
   ]
  },
  {
   "cell_type": "code",
   "execution_count": 9,
   "id": "69740e87",
   "metadata": {},
   "outputs": [
    {
     "name": "stdout",
     "output_type": "stream",
     "text": [
      "   museo_id                                  museo_nombre  \\\n",
      "0       352  Museo Regional de Acambay Antonio Ruiz Pérez   \n",
      "1       480                    Museo Virreinal de Acolman   \n",
      "2      1002                Museo Prehistórico de Tepexpan   \n",
      "3      1358           Museo de Sor Juana Inés de la Cruz    \n",
      "4      2114           Museo Internacional de los Volcanes   \n",
      "\n",
      "      museo_tematica_n1 museo_fecha_fundacion  \\\n",
      "0           Arqueología            1999-09-09   \n",
      "1                  Arte            1925-08-07   \n",
      "2  Ciencia y tecnología            1955-01-01   \n",
      "3              Historia            2000-03-04   \n",
      "4                   NaN            2008-11-29   \n",
      "\n",
      "                                   museo_adscripcion  estado_id nom_ent  \\\n",
      "0  Secretaría de Cultura y Turismo del Estado de ...         15  México   \n",
      "1                         Secretaria de Cultura/INAH         15  México   \n",
      "2                         Secretaría de Cultura/INAH         15  México   \n",
      "3                     Hacienda Panoaya, S.A. de C.V.         15  México   \n",
      "4                                Hacienda de Panoaya         15  México   \n",
      "\n",
      "   municipio_id                    nom_mun  localidad_id  ...  \\\n",
      "0             1  Acambay de Ruíz Castañeda             1  ...   \n",
      "1             2                    Acolman             1  ...   \n",
      "2             2                    Acolman            15  ...   \n",
      "3             9                  Amecameca             1  ...   \n",
      "4             9                  Amecameca             1  ...   \n",
      "\n",
      "                                               email  \\\n",
      "0                        martinezignacio16@yahoo.com   \n",
      "1  exconvento.acolman.inah@gmail.com; elena_gonza...   \n",
      "2  cinah_edomex@inah.gob.mx; jorge_valencia@inah....   \n",
      "3                         correo@haciendapanoaya.com   \n",
      "4                         correo@haciendapanoaya.com   \n",
      "\n",
      "                                            facebook twitter  instagram  \\\n",
      "0  https://www.facebook.com/MUSEO-Acambay-4595097...     NaN        NaN   \n",
      "1                                                NaN     NaN        NaN   \n",
      "2                                                NaN     NaN        NaN   \n",
      "3                                                NaN     NaN        NaN   \n",
      "4      https://es-la.facebook.com/LaHaciendaPanoaya/     NaN        NaN   \n",
      "\n",
      "  gmaps_longitud gmaps_latitud museo_salas_exhibicion_c  \\\n",
      "0      -99.84583      19.95528                       -1   \n",
      "1      -98.91309      19.63218                        6   \n",
      "2      -98.94740      19.61377                        2   \n",
      "3      -98.77167      19.14163                       -1   \n",
      "4      -98.77260      19.14051                        0   \n",
      "\n",
      "  museo_salas_exhibicion_tmp_c  \\\n",
      "0                           -1   \n",
      "1                            3   \n",
      "2                            1   \n",
      "3                           -1   \n",
      "4                            0   \n",
      "\n",
      "                                            link_sic               fecha_mod  \n",
      "0  http://sic.gob.mx/ficha.php?table=museo&table_...  2020-12-10 07:35:40-06  \n",
      "1  http://sic.gob.mx/ficha.php?table=museo&table_...  2025-05-22 14:46:00-06  \n",
      "2  http://sic.gob.mx/ficha.php?table=museo&table_...  2025-05-22 18:30:46-06  \n",
      "3  http://sic.gob.mx/ficha.php?table=museo&table_...  2022-04-11 06:23:55-05  \n",
      "4  http://sic.gob.mx/ficha.php?table=museo&table_...  2025-06-06 16:28:55-06  \n",
      "\n",
      "[5 rows x 28 columns]\n"
     ]
    }
   ],
   "source": [
    "print(df.head())"
   ]
  },
  {
   "cell_type": "markdown",
   "id": "ffef1e6e",
   "metadata": {},
   "source": [
    "Definimos las columnas del dataset a conservar"
   ]
  },
  {
   "cell_type": "code",
   "execution_count": 10,
   "id": "d945d532",
   "metadata": {},
   "outputs": [],
   "source": [
    "columnas_conservar = [\n",
    "    'museo_id',\n",
    "    'museo_nombre',\n",
    "    'municipio_id',\n",
    "    'nom_mun',\n",
    "    'gmaps_longitud',\n",
    "    'gmaps_latitud'\n",
    "]"
   ]
  },
  {
   "cell_type": "markdown",
   "id": "cb4c0152",
   "metadata": {},
   "source": [
    "Conservamos solo estas columnas"
   ]
  },
  {
   "cell_type": "code",
   "execution_count": 11,
   "id": "a955ff82",
   "metadata": {},
   "outputs": [],
   "source": [
    "df = df[columnas_conservar]"
   ]
  },
  {
   "cell_type": "markdown",
   "id": "14b4f9c1",
   "metadata": {},
   "source": [
    "Reiniciar indice del Dataset resultante"
   ]
  },
  {
   "cell_type": "code",
   "execution_count": 12,
   "id": "e81dc0b7",
   "metadata": {},
   "outputs": [],
   "source": [
    "df = df.reset_index(drop=True)"
   ]
  },
  {
   "cell_type": "markdown",
   "id": "ea6b0d9a",
   "metadata": {},
   "source": [
    "Verificar los registros del CSV actualizado"
   ]
  },
  {
   "cell_type": "code",
   "execution_count": 13,
   "id": "26af60d4",
   "metadata": {},
   "outputs": [
    {
     "name": "stdout",
     "output_type": "stream",
     "text": [
      "   museo_id                                  museo_nombre  municipio_id  \\\n",
      "0       352  Museo Regional de Acambay Antonio Ruiz Pérez             1   \n",
      "1       480                    Museo Virreinal de Acolman             2   \n",
      "2      1002                Museo Prehistórico de Tepexpan             2   \n",
      "3      1358           Museo de Sor Juana Inés de la Cruz              9   \n",
      "4      2114           Museo Internacional de los Volcanes             9   \n",
      "\n",
      "                     nom_mun  gmaps_longitud  gmaps_latitud  \n",
      "0  Acambay de Ruíz Castañeda       -99.84583       19.95528  \n",
      "1                    Acolman       -98.91309       19.63218  \n",
      "2                    Acolman       -98.94740       19.61377  \n",
      "3                  Amecameca       -98.77167       19.14163  \n",
      "4                  Amecameca       -98.77260       19.14051  \n"
     ]
    }
   ],
   "source": [
    "print(df.head())"
   ]
  },
  {
   "cell_type": "markdown",
   "id": "f56af927",
   "metadata": {},
   "source": [
    "Observar los datos faltantes por columna del DataFrame"
   ]
  },
  {
   "cell_type": "code",
   "execution_count": 14,
   "id": "427f6621",
   "metadata": {},
   "outputs": [
    {
     "name": "stdout",
     "output_type": "stream",
     "text": [
      "Valores faltantes por columna:\n",
      "museo_id          0\n",
      "museo_nombre      0\n",
      "municipio_id      0\n",
      "nom_mun           0\n",
      "gmaps_longitud    0\n",
      "gmaps_latitud     0\n",
      "dtype: int64\n"
     ]
    }
   ],
   "source": [
    "print(\"Valores faltantes por columna:\")\n",
    "print(df.isnull().sum())"
   ]
  },
  {
   "cell_type": "markdown",
   "id": "8bd04944",
   "metadata": {},
   "source": [
    "- Eliminar filas con valores nulos"
   ]
  },
  {
   "cell_type": "code",
   "execution_count": 15,
   "id": "cc5acaab",
   "metadata": {},
   "outputs": [],
   "source": [
    "df = df.dropna()"
   ]
  },
  {
   "cell_type": "markdown",
   "id": "66a4a846",
   "metadata": {},
   "source": [
    "Observar los datos faltantes por columna del DataFrame"
   ]
  },
  {
   "cell_type": "code",
   "execution_count": 16,
   "id": "1784f844",
   "metadata": {},
   "outputs": [
    {
     "name": "stdout",
     "output_type": "stream",
     "text": [
      "Valores faltantes por columna:\n",
      "museo_id          0\n",
      "museo_nombre      0\n",
      "municipio_id      0\n",
      "nom_mun           0\n",
      "gmaps_longitud    0\n",
      "gmaps_latitud     0\n",
      "dtype: int64\n"
     ]
    }
   ],
   "source": [
    "print(\"Valores faltantes por columna:\")\n",
    "print(df.isnull().sum())"
   ]
  },
  {
   "cell_type": "markdown",
   "id": "ff1f8b9a",
   "metadata": {},
   "source": [
    "- Reiniciar índice del DataFrame resultante"
   ]
  },
  {
   "cell_type": "code",
   "execution_count": 17,
   "id": "19873cdb",
   "metadata": {},
   "outputs": [],
   "source": [
    "df = df.reset_index(drop=True)"
   ]
  },
  {
   "cell_type": "markdown",
   "id": "f2134178",
   "metadata": {},
   "source": [
    "- Verificar los registros del CSV actualizado"
   ]
  },
  {
   "cell_type": "code",
   "execution_count": 18,
   "id": "383b5c0d",
   "metadata": {},
   "outputs": [
    {
     "name": "stdout",
     "output_type": "stream",
     "text": [
      "   museo_id                                  museo_nombre  municipio_id  \\\n",
      "0       352  Museo Regional de Acambay Antonio Ruiz Pérez             1   \n",
      "1       480                    Museo Virreinal de Acolman             2   \n",
      "2      1002                Museo Prehistórico de Tepexpan             2   \n",
      "3      1358           Museo de Sor Juana Inés de la Cruz              9   \n",
      "4      2114           Museo Internacional de los Volcanes             9   \n",
      "\n",
      "                     nom_mun  gmaps_longitud  gmaps_latitud  \n",
      "0  Acambay de Ruíz Castañeda       -99.84583       19.95528  \n",
      "1                    Acolman       -98.91309       19.63218  \n",
      "2                    Acolman       -98.94740       19.61377  \n",
      "3                  Amecameca       -98.77167       19.14163  \n",
      "4                  Amecameca       -98.77260       19.14051  \n"
     ]
    }
   ],
   "source": [
    "print(df.head())"
   ]
  },
  {
   "cell_type": "markdown",
   "id": "1a00592c",
   "metadata": {},
   "source": [
    "Guardar el nuevo CSV ya preprocesado"
   ]
  },
  {
   "cell_type": "code",
   "execution_count": 19,
   "id": "22a8d293",
   "metadata": {},
   "outputs": [
    {
     "name": "stdout",
     "output_type": "stream",
     "text": [
      "\n",
      "Archivo 'Museo.csv' guardado exitosamente en el directorio actual!\n"
     ]
    }
   ],
   "source": [
    "nombre_archivo = 'Museo.csv'\n",
    "df.to_csv(nombre_archivo, index=False, encoding='utf-8')\n",
    "\n",
    "print(f\"\\nArchivo '{nombre_archivo}' guardado exitosamente en el directorio actual!\")"
   ]
  }
 ],
 "metadata": {
  "kernelspec": {
   "display_name": "Python 3",
   "language": "python",
   "name": "python3"
  },
  "language_info": {
   "codemirror_mode": {
    "name": "ipython",
    "version": 3
   },
   "file_extension": ".py",
   "mimetype": "text/x-python",
   "name": "python",
   "nbconvert_exporter": "python",
   "pygments_lexer": "ipython3",
   "version": "3.12.0"
  }
 },
 "nbformat": 4,
 "nbformat_minor": 5
}
