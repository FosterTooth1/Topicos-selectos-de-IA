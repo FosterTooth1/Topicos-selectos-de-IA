{
 "cells": [
  {
   "cell_type": "code",
   "execution_count": 54,
   "id": "fc9a92bf",
   "metadata": {},
   "outputs": [
    {
     "name": "stdout",
     "output_type": "stream",
     "text": [
      "¡Datos guardados correctamente!\n"
     ]
    }
   ],
   "source": [
    "import pandas as pd\n",
    "import re\n",
    "\n",
    "# Cargar datos con codificación latin1 para manejar caracteres especiales\n",
    "df = pd.read_csv('datos.csv', encoding='latin1')\n",
    "\n",
    "# Limpiar columnas numéricas: eliminar símbolos no numéricos (%, mph, etc.)\n",
    "columnas_numericas = ['Temperature', 'Dew Point', 'Humidity', 'Wind Speed', 'Wind Gust', 'Pressure', 'Precip']\n",
    "for col in columnas_numericas:\n",
    "    df[col] = (\n",
    "        df[col]\n",
    "        .astype(str)\n",
    "        .str.replace(r'[^0-9.-]', '', regex=True)  # Solo números, \"-\" y \".\"\n",
    "        .astype(float)\n",
    "    )\n",
    "\n",
    "# Convertir hora de formato 12h (a. m./p. m.) a 24h (HH:MM)\n",
    "def limpiar_hora(hora_str):\n",
    "    hora_str = re.sub(r'\\s+', ' ', hora_str).replace('a. m.', 'AM').replace('p. m.', 'PM')\n",
    "    try:\n",
    "        return pd.to_datetime(hora_str, format='%I:%M %p').strftime('%H:%M')\n",
    "    except:\n",
    "        return hora_str  # Mantener original si hay error\n",
    "df['Time'] = df['Time'].apply(limpiar_hora)\n",
    "\n",
    "# Eliminar columnas no requeridas\n",
    "df = df.drop(columns=['Time', 'Wind'])\n",
    "\n",
    "# Guardar dataset limpio (sin índices y en UTF-8)\n",
    "df.to_csv('datos_limpios_sin_time_wind.csv', index=False, encoding='utf-8')\n",
    "print(\"¡Datos guardados correctamente!\")"
   ]
  },
  {
   "cell_type": "code",
   "execution_count": 55,
   "id": "a981cd8a",
   "metadata": {},
   "outputs": [
    {
     "name": "stdout",
     "output_type": "stream",
     "text": [
      "   Temperature  Dew Point  Humidity  Wind Speed  Wind Gust  Pressure  Precip  \\\n",
      "0          6.0        4.0      87.0         0.0        0.0    750.09     0.0   \n",
      "1          5.0        3.0      87.0         0.0        0.0    750.09     0.0   \n",
      "2          4.0        3.0      93.0         0.0        0.0    749.75     0.0   \n",
      "3          4.0        3.0      93.0         0.0        0.0    749.41     0.0   \n",
      "4          3.0        3.0     100.0         0.0        0.0    749.41     0.0   \n",
      "\n",
      "  Condition  \n",
      "0     Smoke  \n",
      "1     Smoke  \n",
      "2     Smoke  \n",
      "3     Smoke  \n",
      "4     Smoke  \n",
      "       Temperature  Dew Point  Humidity  Wind Speed  Wind Gust  Pressure  \\\n",
      "28003         13.0        2.0      47.0         0.0        0.0    750.05   \n",
      "28004          9.0       -2.0      46.0         7.0        0.0    750.55   \n",
      "28005         11.0       -4.0      35.0         9.0        0.0    751.04   \n",
      "28006          9.0       -4.0      40.0         0.0        0.0    751.04   \n",
      "28007          9.0       -5.0      37.0         6.0        0.0    751.29   \n",
      "\n",
      "       Precip      Condition  \n",
      "28003     0.0  Partly Cloudy  \n",
      "28004     0.0  Partly Cloudy  \n",
      "28005     0.0  Mostly Cloudy  \n",
      "28006     0.0           Fair  \n",
      "28007     0.0           Fair  \n",
      "       Temperature  Dew Point  Humidity  Wind Speed  Wind Gust  Pressure  \\\n",
      "20252         11.0       -3.0      38.0         6.0        0.0    751.54   \n",
      "24175         13.0       12.0      94.0         9.0        0.0    749.56   \n",
      "18244         15.0       10.0      72.0        11.0        0.0    754.25   \n",
      "\n",
      "       Precip      Condition  \n",
      "20252     0.0  Mostly Cloudy  \n",
      "24175     0.0         Cloudy  \n",
      "18244     0.0           Haze  \n"
     ]
    }
   ],
   "source": [
    "# Primeras 5 filas\n",
    "print(df.head())\n",
    "\n",
    "# Últimas 5 filas\n",
    "print(df.tail())\n",
    "\n",
    "# Muestra aleatoria de filas (ejemplo: 3 filas)\n",
    "print(df.sample(3))"
   ]
  },
  {
   "cell_type": "code",
   "execution_count": 56,
   "id": "c5c58cd5",
   "metadata": {},
   "outputs": [
    {
     "name": "stdout",
     "output_type": "stream",
     "text": [
      "Columnas del dataset: ['Temperature', 'Dew Point', 'Humidity', 'Wind Speed', 'Wind Gust', 'Pressure', 'Precip', 'Condition']\n"
     ]
    }
   ],
   "source": [
    "print(\"Columnas del dataset:\", df.columns.tolist())"
   ]
  },
  {
   "cell_type": "code",
   "execution_count": 57,
   "id": "81db0747",
   "metadata": {},
   "outputs": [
    {
     "name": "stdout",
     "output_type": "stream",
     "text": [
      "<class 'pandas.core.frame.DataFrame'>\n",
      "RangeIndex: 28008 entries, 0 to 28007\n",
      "Data columns (total 8 columns):\n",
      " #   Column       Non-Null Count  Dtype  \n",
      "---  ------       --------------  -----  \n",
      " 0   Temperature  28008 non-null  float64\n",
      " 1   Dew Point    28008 non-null  float64\n",
      " 2   Humidity     28008 non-null  float64\n",
      " 3   Wind Speed   28008 non-null  float64\n",
      " 4   Wind Gust    28008 non-null  float64\n",
      " 5   Pressure     28008 non-null  float64\n",
      " 6   Precip       28008 non-null  float64\n",
      " 7   Condition    28008 non-null  object \n",
      "dtypes: float64(7), object(1)\n",
      "memory usage: 1.7+ MB\n",
      "None\n"
     ]
    }
   ],
   "source": [
    "print(df.info())  # Muestra tipos de datos, número de valores no nulos y uso de memoria."
   ]
  },
  {
   "cell_type": "code",
   "execution_count": 58,
   "id": "7d8b0f75",
   "metadata": {},
   "outputs": [
    {
     "name": "stdout",
     "output_type": "stream",
     "text": [
      "        Temperature     Dew Point      Humidity    Wind Speed  Wind Gust  \\\n",
      "count  28008.000000  28008.000000  28008.000000  28008.000000    28008.0   \n",
      "mean      13.960583      6.145566     65.889817      8.482788        0.0   \n",
      "std        5.709185      5.213969     25.279651      8.093120        0.0   \n",
      "min      -18.000000    -25.000000      0.000000      0.000000        0.0   \n",
      "25%       10.000000      3.000000     46.000000      0.000000        0.0   \n",
      "50%       14.000000      7.000000     68.000000      7.000000        0.0   \n",
      "75%       18.000000     10.000000     88.000000     12.870000        0.0   \n",
      "max       30.000000     19.000000    100.000000    206.000000        0.0   \n",
      "\n",
      "           Pressure   Precip  \n",
      "count  28008.000000  28008.0  \n",
      "mean     750.225028      0.0  \n",
      "std        9.127378      0.0  \n",
      "min        0.000000      0.0  \n",
      "25%      749.310000      0.0  \n",
      "50%      750.420000      0.0  \n",
      "75%      751.540000      0.0  \n",
      "max      756.480000      0.0  \n",
      "       Condition\n",
      "count      28008\n",
      "unique        32\n",
      "top         Fair\n",
      "freq        9135\n"
     ]
    }
   ],
   "source": [
    "# Para columnas numéricas\n",
    "print(df.describe())\n",
    "\n",
    "# Para columnas categóricas\n",
    "print(df.describe(include='object'))"
   ]
  },
  {
   "cell_type": "code",
   "execution_count": 59,
   "id": "7afb7aa9",
   "metadata": {},
   "outputs": [
    {
     "name": "stdout",
     "output_type": "stream",
     "text": [
      "Valores faltantes por columna:\n",
      "Temperature    0\n",
      "Dew Point      0\n",
      "Humidity       0\n",
      "Wind Speed     0\n",
      "Wind Gust      0\n",
      "Pressure       0\n",
      "Precip         0\n",
      "Condition      0\n",
      "dtype: int64\n"
     ]
    },
    {
     "data": {
      "image/png": "[encoded data removed]",
      "text/plain": [
       "<Figure size 640x480 with 1 Axes>"
      ]
     },
     "metadata": {},
     "output_type": "display_data"
    }
   ],
   "source": [
    "print(\"Valores faltantes por columna:\")\n",
    "print(df.isnull().sum())\n",
    "\n",
    "# Opcional: Gráfico de valores faltantes (requiere matplotlib/seaborn)\n",
    "import matplotlib.pyplot as plt\n",
    "import seaborn as sns\n",
    "\n",
    "sns.heatmap(df.isnull(), cbar=False, cmap='viridis')\n",
    "plt.show()"
   ]
  },
  {
   "cell_type": "code",
   "execution_count": 60,
   "id": "435bead7",
   "metadata": {},
   "outputs": [
    {
     "name": "stdout",
     "output_type": "stream",
     "text": [
      "Valores únicos por columna:\n",
      "Temperature    35\n",
      "Dew Point      43\n",
      "Humidity       87\n",
      "Wind Speed     55\n",
      "Wind Gust       1\n",
      "Pressure       92\n",
      "Precip          1\n",
      "Condition      32\n",
      "dtype: int64\n"
     ]
    }
   ],
   "source": [
    "print(\"Valores únicos por columna:\")\n",
    "print(df.nunique())"
   ]
  },
  {
   "cell_type": "code",
   "execution_count": 61,
   "id": "89cd60bd",
   "metadata": {},
   "outputs": [],
   "source": [
    "df = df.drop(columns=['Wind Gust', 'Precip'])"
   ]
  },
  {
   "cell_type": "code",
   "execution_count": 62,
   "id": "49babb52",
   "metadata": {},
   "outputs": [
    {
     "name": "stdout",
     "output_type": "stream",
     "text": [
      "Condition\n",
      "Fair                       9135\n",
      "Mostly Cloudy              7656\n",
      "Partly Cloudy              4497\n",
      "Cloudy                     2617\n",
      "Fog                        1059\n",
      "Mist                        678\n",
      "Light Rain                  641\n",
      "Haze                        400\n",
      "Light Rain with Thunder     320\n",
      "Smoke                       254\n",
      "Rain                        185\n",
      "T-Storm                     171\n",
      "Thunder                     150\n",
      "Mostly Cloudy / Windy        56\n",
      "Partly Cloudy / Windy        37\n",
      "Fair / Windy                 30\n",
      "Heavy T-Storm                30\n",
      "Light Drizzle                21\n",
      "Cloudy / Windy               12\n",
      "Heavy Rain                   10\n",
      "T-Storm / Windy               9\n",
      "Light Rain / Windy            9\n",
      "Heavy T-Storm / Windy         7\n",
      "Rain / Windy                  7\n",
      "Thunder / Windy               6\n",
      "Heavy Rain / Windy            3\n",
      "Drizzle                       3\n",
      "Patches of Fog                1\n",
      "Smoke / Windy                 1\n",
      "Mostly Cloud                  1\n",
      "Mist / Windy                  1\n",
      "Hail                          1\n",
      "Name: count, dtype: int64\n"
     ]
    }
   ],
   "source": [
    "columna_categorica = 'Condition'\n",
    "print(df[columna_categorica].value_counts())"
   ]
  }
 ],
 "metadata": {
  "kernelspec": {
   "display_name": "Python 3",
   "language": "python",
   "name": "python3"
  },
  "language_info": {
   "codemirror_mode": {
    "name": "ipython",
    "version": 3
   },
   "file_extension": ".py",
   "mimetype": "text/x-python",
   "name": "python",
   "nbconvert_exporter": "python",
   "pygments_lexer": "ipython3",
   "version": "3.12.0"
  }
 },
 "nbformat": 4,
 "nbformat_minor": 5
}
